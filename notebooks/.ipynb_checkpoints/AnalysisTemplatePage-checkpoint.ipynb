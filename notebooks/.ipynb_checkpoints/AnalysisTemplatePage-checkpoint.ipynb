{
 "cells": [
  {
   "cell_type": "markdown",
   "metadata": {},
   "source": [
    "# Table of Contents"
   ]
  },
  {
   "cell_type": "markdown",
   "metadata": {},
   "source": [
    "- [Introduction](#Introduction)\n",
    "- [Imports](#Imports)\n",
    "- [Functions](#Functions)\n",
    "    - [Reading Files](#Reading-Files)\n",
    "    - [Get Data Statistics](#Get-Data-Statistics)\n",
    "    - [Image Processing](#Image-Processing)\n",
    "    - [Model Generation](#Model-Generation)\n",
    "    - [Visualization](#Visualization)\n",
    "- [Parameters](#Parameters)\n",
    "- [Main](#Main)\n",
    "    - [Reading and clean the stack](#Reading-and-clean-the-stack)\n",
    "        - [MRI Raw](#MRI-Raw)\n",
    "        - [MRI Segmentation](#MRI-Segmentation)\n",
    "    - [Visualize some slices](#Visualize-some-slices)\n",
    "    - [Generate image stack slices](#Generate-image-stack-slices)        "
   ]
  },
  {
   "cell_type": "markdown",
   "metadata": {},
   "source": [
    "# Introduction"
   ]
  },
  {
   "cell_type": "markdown",
   "metadata": {},
   "source": [
    "This is the template file used for analysis in the **MedHolo Project**\n",
    "\n",
    "Created by: Mario Garingo"
   ]
  },
  {
   "cell_type": "markdown",
   "metadata": {},
   "source": [
    "# Imports"
   ]
  },
  {
   "cell_type": "code",
   "execution_count": null,
   "metadata": {},
   "outputs": [],
   "source": [
    "import numpy\n",
    "import SimpleITK"
   ]
  },
  {
   "cell_type": "code",
   "execution_count": null,
   "metadata": {},
   "outputs": [],
   "source": [
    "# File managements\n",
    "import os\n",
    "from os import listdir\n",
    "from os.path import isfile, join"
   ]
  },
  {
   "cell_type": "code",
   "execution_count": null,
   "metadata": {},
   "outputs": [],
   "source": [
    "# Image manipulation libraries\n",
    "import scipy.ndimage\n",
    "import scipy.misc\n",
    "import scipy.misc as scioM"
   ]
  },
  {
   "cell_type": "code",
   "execution_count": null,
   "metadata": {},
   "outputs": [],
   "source": [
    "# Image manipulation libraries\n",
    "from skimage import measure\n",
    "from skimage import transform\n",
    "import skimage as skImg\n",
    "from skimage import morphology\n",
    "from skimage import filters"
   ]
  },
  {
   "cell_type": "code",
   "execution_count": null,
   "metadata": {},
   "outputs": [],
   "source": [
    "# for this module the stl is now depricated\n",
    "# pip install numpy-stl\n",
    "from stl import mesh"
   ]
  },
  {
   "cell_type": "code",
   "execution_count": null,
   "metadata": {},
   "outputs": [],
   "source": [
    "# Visualization libraries\n",
    "import matplotlib.pyplot as plt\n",
    "%pylab inline"
   ]
  },
  {
   "cell_type": "markdown",
   "metadata": {},
   "source": [
    "# Functions"
   ]
  },
  {
   "cell_type": "markdown",
   "metadata": {},
   "source": [
    "## Reading Files"
   ]
  },
  {
   "cell_type": "code",
   "execution_count": null,
   "metadata": {},
   "outputs": [],
   "source": [
    "def readMRIFile(inpath):\n",
    "    # ----------------------------------------------------------------------------\n",
    "    # Read an MR file (.dcm,.nii,.mnc) and stores it in an ITK image stack file tensor\n",
    "    # inpath = location of the file to be read\n",
    "    # mriImage = an ITK data structure    \n",
    "    # ----------------------------------------------------------------------------\n",
    "    \n",
    "    reader = SimpleITK.ImageFileReader()\n",
    "    mriImage = SimpleITK.ReadImage(inpath)\n",
    "    return mriImage"
   ]
  },
  {
   "cell_type": "code",
   "execution_count": null,
   "metadata": {},
   "outputs": [],
   "source": [
    "def convertToNP(itkImage):\n",
    "    # ----------------------------------------------------------------------------\n",
    "    # Converts the a single ITK image into a numpy array    \n",
    "    # itkImage = an ITK data structure    \n",
    "    # npArray = 3D array of the data\n",
    "    # ----------------------------------------------------------------------------    \n",
    "    \n",
    "    npArray = SimpleITK.GetArrayFromImage(itkImage)\n",
    "    return npArray    "
   ]
  },
  {
   "cell_type": "code",
   "execution_count": null,
   "metadata": {},
   "outputs": [],
   "source": [
    "def applySmoothingMRI(singleMRIImage):\n",
    "    # ----------------------------------------------------------------------------\n",
    "    # Applys smoothing to an ITK image and returns an ITK image\n",
    "    # This works with a single slice or a stack of slices. This must be an ITK structured data variable\n",
    "    # singleMRIImage = an ITK data structure    \n",
    "    # mriImageSmooth = an ITK data structure of the smoothed images    \n",
    "    # ----------------------------------------------------------------------------      \n",
    "    \n",
    "    mriImageSmooth = SimpleITK.CurvatureFlow(image1=singleMRIImage,\n",
    "                                            timeStep=0.125,\n",
    "                                            numberOfIterations=5)   \n",
    "    return mriImageSmooth"
   ]
  },
  {
   "cell_type": "code",
   "execution_count": null,
   "metadata": {},
   "outputs": [],
   "source": [
    "def readStackOfImage(imageStackDirectory):\n",
    "    # ----------------------------------------------------------------------------\n",
    "    # Reads a stack of files in a specific directory and places them in a 3D numpy array\n",
    "    # imageStackDirectory = directory of the image stacks\n",
    "    # imageStack = 3D array of the data\n",
    "    # ----------------------------------------------------------------------------  \n",
    "    \n",
    "    # Get all file names in the firectory \n",
    "    onlyFiles = [f for f in listdir(imageStackDirectory) if isfile(join(imageStackDirectory, f))]\n",
    "    \n",
    "    # get sizes of each image\n",
    "    oneFile = imageStackDirectory + onlyFiles[0]\n",
    "    oneFileImage = scipy.ndimage.imread(oneFile)\n",
    "    [w,h] = oneFileImage.shape\n",
    "    \n",
    "    # Allocate variable for the image stack\n",
    "    numSlices = len(onlyFiles)\n",
    "    imageStack = np.zeros((w,h,numSlices))\n",
    "    \n",
    "    # Read and store image stack in an array\n",
    "    for sliceImageFile in onlyFiles:\n",
    "        imageStack[:,:,sliceInd] = scipy.ndimage.imread(sliceImageFile)\n",
    "    \n",
    "    return imageStack"
   ]
  },
  {
   "cell_type": "markdown",
   "metadata": {},
   "source": [
    "## Get Data Statistics"
   ]
  },
  {
   "cell_type": "code",
   "execution_count": null,
   "metadata": {},
   "outputs": [],
   "source": [
    "def getDataStatistics(npArray):\n",
    "    # ----------------------------------------------------------------------------\n",
    "    # Reads the dimensions of the array and prints out the information on the console.    \n",
    "    # npArray = 3D array of the data\n",
    "    # ----------------------------------------------------------------------------  \n",
    "    \n",
    "    [numSlices,width,height] = npArray.shape\n",
    "    print(\"The data contains {} slices with the image resolution being {} x {}\".format(numSlices,width,height))\n",
    "    \n",
    "    return [numSlices,width,height]"
   ]
  },
  {
   "cell_type": "markdown",
   "metadata": {},
   "source": [
    "## Image Processing"
   ]
  },
  {
   "cell_type": "code",
   "execution_count": null,
   "metadata": {},
   "outputs": [],
   "source": [
    "def showSegmentation(sliceNum=90):\n",
    "    # ----------------------------------------------------------------------------\n",
    "    # Displays a single slice from the array\n",
    "    # sliceNum = index of the slice\n",
    "    # ----------------------------------------------------------------------------  \n",
    "    \n",
    "    # Get slice\n",
    "    idxSlice = sliceNum\n",
    "    imgOriginal = image[:,:,idxSlice]\n",
    "\n",
    "    # Apply smoothing\n",
    "    imgSmooth = SimpleITK.CurvatureFlow(image1=imgOriginal,\n",
    "                                        timeStep=0.125,\n",
    "                                        numberOfIterations=5)\n",
    "    sitk_show(imgSmooth)\n",
    "\n",
    "    # Get segmentation\n",
    "    lstSeeds = [(75,60)]\n",
    "\n",
    "    imgWhiteMatter = SimpleITK.ConnectedThreshold(image1=imgSmooth, \n",
    "                                                  seedList=lstSeeds, \n",
    "                                                  lower=0, \n",
    "                                                  upper=40,\n",
    "                                                  replaceValue=labelWhiteMatter)\n",
    "\n",
    "    # Rescale 'imgSmooth' and cast it to an integer type to match that of 'imgWhiteMatter'\n",
    "    imgSmoothInt = SimpleITK.Cast(SimpleITK.RescaleIntensity(imgSmooth), imgWhiteMatter.GetPixelID())\n",
    "\n",
    "    # Use 'LabelOverlay' to overlay 'imgSmooth' and 'imgWhiteMatter'\n",
    "    sitk_show(SimpleITK.LabelOverlay(imgSmoothInt, imgWhiteMatter))\n",
    "\n",
    "    # show segmentation\n",
    "    sitk_show(imgWhiteMatter)"
   ]
  },
  {
   "cell_type": "code",
   "execution_count": null,
   "metadata": {},
   "outputs": [],
   "source": [
    "def getMask(sliceImage,pxlRanges):\n",
    "    # ----------------------------------------------------------------------------\n",
    "    # Obtains the image mask specified by thresholded pixel values in pxlRanges \n",
    "    # sliceImage = a single slice of MR data\n",
    "    # pxlRanges = pixel range in the form of [low,high] or [val]\n",
    "    # sliceImage = mask of the pixels that are in the range or in a value specified by pxlRanges\n",
    "    # ---------------------------------------------------------------------------- \n",
    "\n",
    "    xLen,yLen = np.shape(sliceImage)\n",
    "\n",
    "    sizeRange = len(pxlRanges)\n",
    "    \n",
    "    if(sizeRange==1):\n",
    "        sliceImage = np.round(sliceImage).astype(int)\n",
    "        for x in xrange(xLen):\n",
    "            for y in xrange(yLen):        \n",
    "                if(sliceImage[x,y] == pxlRanges[0]):                        \n",
    "                    sliceImage[x,y] = 1.0\n",
    "                else:\n",
    "                    sliceImage[x,y] = 0.0        \n",
    "    else:\n",
    "        lower = pxlRanges[0]\n",
    "        upper = pxlRanges[1]\n",
    "\n",
    "        for x in xrange(xLen):\n",
    "            for y in xrange(yLen):        \n",
    "                if(sliceImage[x,y]>=lower and sliceImage[x,y]<=upper):                        \n",
    "                    sliceImage[x,y] = 1.0\n",
    "                else:\n",
    "                    sliceImage[x,y] = 0.0\n",
    "    \n",
    "    return sliceImage"
   ]
  },
  {
   "cell_type": "code",
   "execution_count": null,
   "metadata": {},
   "outputs": [],
   "source": [
    "def applyMorphFilters(img,erodeFilter,dilationFilter):\n",
    "    # ----------------------------------------------------------------------------\n",
    "    # Apply morphological filters erode and dilation to clean up data/mask. This removes speckle data\n",
    "    # img = a single slice of MR data\n",
    "    # erodeFilter =  2x2 array ex [1,1]\n",
    "    # dilationFilter = 2x2 array ex [2,2]\n",
    "    # dilation = output of both filers\n",
    "    # ---------------------------------------------------------------------------- \n",
    "    \n",
    "    eroded = morphology.erosion(img,np.ones(erodeFilter))\n",
    "    dilation = morphology.dilation(eroded,np.ones(dilationFilter))    \n",
    "    return dilation"
   ]
  },
  {
   "cell_type": "markdown",
   "metadata": {},
   "source": [
    "## Model Generation"
   ]
  },
  {
   "cell_type": "code",
   "execution_count": null,
   "metadata": {},
   "outputs": [],
   "source": [
    "def make_mesh(image, threshold=-100, step_size=1):\n",
    "    # ----------------------------------------------------------------------------\n",
    "    # Generates a mesh from a stack of images (image variable)\n",
    "    # img = a single slice of MR data\n",
    "    # threshold =  the number of vertices to generate\n",
    "    # step_size = how many steps to generate a face\n",
    "    # verts = vertices of the mesh\n",
    "    # faces = faces of the mesh\n",
    "    # ----------------------------------------------------------------------------     \n",
    "    \n",
    "    print \"Transposing surface\"\n",
    "    p = image.transpose(2,1,0)\n",
    "    \n",
    "    print \"Calculating surface\"\n",
    "    try:\n",
    "        verts, faces = measure.marching_cubes(p, threshold) \n",
    "    except:\n",
    "        verts, faces = measure.marching_cubes_classic(p, threshold)         \n",
    "    return verts, faces"
   ]
  },
  {
   "cell_type": "code",
   "execution_count": null,
   "metadata": {},
   "outputs": [],
   "source": [
    "def make_meshNew(image, threshold=-100, step_size=1):\n",
    "    # ----------------------------------------------------------------------------\n",
    "    # Generates a mesh from a stack of images (image variable) same as the previous \n",
    "    # function but with different marching cube algorithms\n",
    "    # img = a single slice of MR data\n",
    "    # threshold =  the number of vertices to generate\n",
    "    # step_size = how many steps to generate a face\n",
    "    # verts = vertices of the mesh\n",
    "    # faces = faces of the mesh\n",
    "    # ---------------------------------------------------------------------------- \n",
    "    \n",
    "    print \"Transposing surface\"\n",
    "#     p = image.transpose(2,1,0)\n",
    "    p=image\n",
    "    \n",
    "    print \"Calculating surface\"\n",
    "    try:\n",
    "        if(threshold==0.0):\n",
    "            verts, faces = measure.marching_cubes(p) \n",
    "        else:            \n",
    "            verts, faces = measure.marching_cubes(p, threshold) \n",
    "    except:\n",
    "        if(threshold==0.0):\n",
    "            verts, faces = measure.marching_cubes_classic(p)         \n",
    "        else:\n",
    "            verts, faces = measure.marching_cubes_classic(p, threshold)         \n",
    "    return verts, faces"
   ]
  },
  {
   "cell_type": "code",
   "execution_count": null,
   "metadata": {},
   "outputs": [],
   "source": [
    "def generateSTL(fileOut,imageStack,TH=0.0):\n",
    "    # ----------------------------------------------------------------------------\n",
    "    # Generates STL file from an image stack    \n",
    "    # fileOut = location of the file to be stored\n",
    "    # TH =  the number of vertices to generate\n",
    "    # imageStack = the image stack to be modeled    \n",
    "    # ---------------------------------------------------------------------------- \n",
    "    # Note: imageStack is the output of the function readStackOfImage\n",
    "    \n",
    "    # Get verticies\n",
    "    v, f = make_meshNew(imageStack,TH)\n",
    "    \n",
    "    # Generate mesh\n",
    "    imageMesh = mesh.Mesh(np.zeros(f.shape[0], dtype=mesh.Mesh.dtype))\n",
    "    \n",
    "    # Connect Vertices\n",
    "    for i, f in enumerate(f):\n",
    "        for j in range(3):\n",
    "            imageMesh.vectors[i][j] = v[f[j],:]\n",
    "        \n",
    "    # Create Mesh    \n",
    "    imageMesh.save(fileOut)    "
   ]
  },
  {
   "cell_type": "code",
   "execution_count": null,
   "metadata": {},
   "outputs": [],
   "source": [
    "def generateImageStack(imageStack,outFileDir,viewType='axial'): \n",
    "    # ----------------------------------------------------------------------------\n",
    "    # Create a stack of images in a specified directory in a specific viewing angle\n",
    "    # imageStack = is a np array with the format [slice,width,height]\n",
    "    # outFileDir = location where all the images will be saved    \n",
    "    # viewType = viewing angle this could be axial coronal sagittal\n",
    "    # ----------------------------------------------------------------------------   \n",
    "    \n",
    "    [depth,width,height] = imageStack.shape\n",
    "    \n",
    "    if(viewType=='axial'):\n",
    "        numSlices =  depth\n",
    "    elif(viewType=='coronal'):\n",
    "        numSlices =  width\n",
    "    elif(viewType=='sagittal'):\n",
    "        numSlices =  height\n",
    "    \n",
    "    for sliceInd in xrange(numSlices):\n",
    "        saveImg = getPlanarViewImage(imageStack,sliceInd,viewType=viewType)\n",
    "        scioM.imsave(outFileDir + '{}.jpg'.format(sliceInd), saveImg)\n",
    "    \n",
    "    print('Create the image stack in the folder {}'.format(outFileDir))"
   ]
  },
  {
   "cell_type": "markdown",
   "metadata": {},
   "source": [
    "## Visualization"
   ]
  },
  {
   "cell_type": "code",
   "execution_count": null,
   "metadata": {},
   "outputs": [],
   "source": [
    "def showTHData(imgStack,sliceInd,th):\n",
    "    # ----------------------------------------------------------------------------\n",
    "    # Create a stack of images in a specified directory in a specific viewing angle\n",
    "    # imageStack = is a np array with the format [slice,width,height]\n",
    "    # outFileDir = location where all the images will be saved    \n",
    "    # viewType = viewing angle this could be axial coronal sagittal\n",
    "    # ----------------------------------------------------------------------------   \n",
    "    \n",
    "    # get a slice    \n",
    "    [numSlices,width,height] = imgStack.shape\n",
    "    imgStackSlice = imgStack[sliceInd,:,:].astype(int)\n",
    "\n",
    "    # Threshold slices\n",
    "    sliceColourCode = np.zeros([len(th),width,height])\n",
    "\n",
    "    for thInd in xrange(len(th)):\n",
    "        for w in xrange(width):\n",
    "            for h in xrange(height):            \n",
    "                if imgStackSlice[w,h] != th[thInd]:\n",
    "                    sliceColourCode[thInd,w,h] = 0\n",
    "                else:\n",
    "                    sliceColourCode[thInd,w,h] = th[thInd]\n",
    "\n",
    "    #Plot TH slices\n",
    "    figure(num=None, figsize=(15, 6), dpi=80, facecolor='w', edgecolor='k')\n",
    "    for thInd in xrange(len(th)):\n",
    "        plt.subplot(1,len(th)+1,thInd+1)        \n",
    "        plt.imshow(sliceColourCode[thInd,:,:])\n",
    "        plt.title('TH = {}'.format(thInd+1))   \n",
    "\n",
    "    plt.subplot(1,len(th)+1,len(th)+1)        \n",
    "    plt.imshow(imgStackSlice)\n",
    "\n",
    "    plt.tight_layout()\n",
    "    plt.show()    "
   ]
  },
  {
   "cell_type": "code",
   "execution_count": null,
   "metadata": {},
   "outputs": [],
   "source": [
    "def plotHistogram(imageStack,indSlice,viewType='axial',cmap='bone'):\n",
    "    # ----------------------------------------------------------------------------\n",
    "    # Plots the historgram a a slice in an image stack for a given viewType and also colour\n",
    "    # imageStack = is a np array with the format [slice,width,height]\n",
    "    # indSlice = slice index\n",
    "    # viewType = viewing angle this could be axial coronal sagittal\n",
    "    # cmap = colour map of the image\n",
    "    # ----------------------------------------------------------------------------   \n",
    "    \n",
    "    mrImg1 = getPlanarViewImage(imageStack,indSlice,viewType=viewType)\n",
    "    \n",
    "    # show second slice\n",
    "    uniqueBins = (np.unique(mrImg1.astype(int).ravel()))\n",
    "    \n",
    "    # show first slice\n",
    "    plt.subplot(1,2,1)    \n",
    "    plt.set_cmap(cmap)        \n",
    "    plt.imshow(mrImg1)\n",
    "    plt.title('Showing Slice {}'.format(indSlice))\n",
    "    \n",
    "    # show second slice    \n",
    "    plt.subplot(1,2,2)      \n",
    "    plt.hist(mrImg1.ravel(),len(uniqueBins),[0,len(uniqueBins)]); \n",
    "    plt.title('Histogram')\n",
    "    \n",
    "    plt.show()"
   ]
  },
  {
   "cell_type": "code",
   "execution_count": null,
   "metadata": {},
   "outputs": [],
   "source": [
    "def sitk_show(img, title=None, margin=0.05, dpi=40 ):\n",
    "    # ----------------------------------------------------------------------------\n",
    "    # Simple visualization tool to view a single slice\n",
    "    # img = a single image from a stack of images\n",
    "    # margin = margin size of the image\n",
    "    # dpi = resolution of the output image    \n",
    "    # ----------------------------------------------------------------------------   \n",
    "    \n",
    "    \n",
    "    nda = SimpleITK.GetArrayFromImage(img)\n",
    "    spacing = img.GetSpacing()\n",
    "    figsize = (1 + margin) * nda.shape[0] / dpi, (1 + margin) * nda.shape[1] / dpi\n",
    "    extent = (0, nda.shape[1]*spacing[1], nda.shape[0]*spacing[0], 0)\n",
    "    fig = plt.figure(figsize=figsize, dpi=dpi)\n",
    "    ax = fig.add_axes([margin, margin, 1 - 2*margin, 1 - 2*margin])\n",
    "\n",
    "    plt.set_cmap(\"gray\")\n",
    "    ax.imshow(nda,extent=extent,interpolation=None)\n",
    "    \n",
    "    if title:\n",
    "        plt.title(title)\n",
    "    \n",
    "    plt.show()"
   ]
  },
  {
   "cell_type": "code",
   "execution_count": null,
   "metadata": {},
   "outputs": [],
   "source": [
    "def resizePlane(mrSlice,w,h):   \n",
    "    # ----------------------------------------------------------------------------\n",
    "    # resizedMRImage = image (np array) you want to resize\n",
    "    # w = value of width\n",
    "    # h = value of height\n",
    "    # ----------------------------------------------------------------------------\n",
    "    \n",
    "    resizedMRImage = transform.resize(mrSlice,(w,h),anti_aliasing =True)\n",
    "    return resizedMRImage"
   ]
  },
  {
   "cell_type": "code",
   "execution_count": null,
   "metadata": {},
   "outputs": [],
   "source": [
    "def getPlanarViewImage(imgStack,indSlice,viewType='axial'):\n",
    "    # ----------------------------------------------------------------------------\n",
    "    # imageStack = is a np array with the format [slice,width,height]\n",
    "    # indSlice = the index of the slice you want to view\n",
    "    # viewType = string specifying planar views, can be 'axial', 'coronal', 'sagittal'     \n",
    "    # ----------------------------------------------------------------------------\n",
    "    \n",
    "    [numSlices,width,height] = imgStack.shape    \n",
    "    \n",
    "    if(viewType=='axial'):\n",
    "        mrImage =  imgStack[indSlice,:,:]    \n",
    "    elif(viewType=='coronal'):\n",
    "        mrImage =  np.flipud(imgStack[:,indSlice,:])\n",
    "        mrImage = resizePlane(mrImage,width,height)        \n",
    "    elif(viewType=='sagittal'):\n",
    "        mrImage =  np.flipud(np.fliplr(imgStack[:,:,indSlice]))\n",
    "        mrImage = resizePlane(mrImage,width,height)        \n",
    "    \n",
    "    return mrImage    "
   ]
  },
  {
   "cell_type": "code",
   "execution_count": null,
   "metadata": {},
   "outputs": [],
   "source": [
    "def showTHMorphFiltering(imgStack,sliceInd,erodeFilter,dilationFilter,th):\n",
    "    # -----------------------------------------------------------------------------\n",
    "    # imgStack = mr image stack in the form of  [slice, w,h]\n",
    "    # sliceInd = slice index\n",
    "    # erodeFilter = 2x2 array ex [1,1]\n",
    "    # dilationFilter = 2x2 array ex [2,2]\n",
    "    # th = a single digit array ex [1]\n",
    "    # ----------------------------------------------------------------------------\n",
    "    \n",
    "    # get a random slice    \n",
    "    mrSliceSeg = imgStack[sliceInd,:,:]\n",
    "\n",
    "    # get a mask from a threshold    \n",
    "    mrSliceTH = getMask(mrSliceSeg,th)\n",
    "\n",
    "    # apply the morphological filters    \n",
    "    morphImage = applyMorphFilters(mrSliceTH,erodeFilter,dilationFilter)\n",
    "\n",
    "    # shoe the two side by side\n",
    "    plt.figure()\n",
    "    figure(num=None, figsize=(10, 6), dpi=80, facecolor='w', edgecolor='k')\n",
    "    plt.subplot(1,3,1)\n",
    "    plt.imshow(mrSliceSeg)\n",
    "    plt.title('Unprocessed data')\n",
    "    plt.subplot(1,3,2)\n",
    "    plt.imshow(mrSliceTH)\n",
    "    plt.title('Thresholded image')\n",
    "    plt.subplot(1,3,3)\n",
    "    plt.imshow(morphImage)\n",
    "    plt.title('Morphological filters applied')\n",
    "    plt.tight_layout()\n",
    "    plt.show()    "
   ]
  },
  {
   "cell_type": "code",
   "execution_count": null,
   "metadata": {},
   "outputs": [],
   "source": [
    "def display3Slices(imageStack,arrayIndSlice,viewType='axial',cmap=\"bone\"):\n",
    "    # ----------------------------------------------------------------------------\n",
    "    # imageStack = is a np array with the format [slice,width,height]\n",
    "    # arrayIndSlice = is a an array with 3 ind values no greater than max slice,max width or max height\n",
    "    # viewType = string specifying planar views, can be 'axial', 'coronal', 'sagittal' \n",
    "    # cmap = the most commonly used ones are [\"gray\",'bone','binary','jet', 'gist_ncar','seismic','Set1',]\n",
    "    # ----------------------------------------------------------------------------\n",
    "    \n",
    "    [numSlices,width,height] = imageStack.shape\n",
    "    figure(num=None, figsize=(10, 6), dpi=80, facecolor='w', edgecolor='k')\n",
    "    \n",
    "    # show first slice\n",
    "    plt.subplot(1,3,1)    \n",
    "    plt.set_cmap(cmap)    \n",
    "    mrImg1 = getPlanarViewImage(imageStack,arrayIndSlice[0],viewType=viewType)\n",
    "    plt.imshow(mrImg1)\n",
    "    plt.title('Showing Slice {}'.format(arrayIndSlice[0]))\n",
    "    \n",
    "    # show second slice\n",
    "    plt.subplot(1,3,2)    \n",
    "    plt.set_cmap(cmap)    \n",
    "    mrImg1 = getPlanarViewImage(imageStack,arrayIndSlice[1],viewType=viewType)\n",
    "    plt.imshow(mrImg1)\n",
    "    plt.title('Showing Slice {}'.format(arrayIndSlice[1]))\n",
    "    \n",
    "    # show third slice\n",
    "    plt.subplot(1,3,3)    \n",
    "    plt.set_cmap(cmap)    \n",
    "    mrImg1 = getPlanarViewImage(imageStack,arrayIndSlice[2],viewType=viewType)\n",
    "    plt.imshow(mrImg1)\n",
    "    plt.title('Showing Slice {}'.format(arrayIndSlice[2]))\n",
    "    \n",
    "    plt.tight_layout()\n",
    "    plt.show()"
   ]
  },
  {
   "cell_type": "markdown",
   "metadata": {},
   "source": [
    "![planarViews](https://faculty.washington.edu/chudler/gif/slice.gif)"
   ]
  },
  {
   "cell_type": "markdown",
   "metadata": {},
   "source": [
    "# Parameters"
   ]
  },
  {
   "cell_type": "code",
   "execution_count": null,
   "metadata": {},
   "outputs": [],
   "source": [
    "inpath = 'C://Cerebral//_MarioSandBox//DB//medicalHolography//human//githubDrRueda-ToicenCourse//t2.dcm'"
   ]
  },
  {
   "cell_type": "code",
   "execution_count": null,
   "metadata": {},
   "outputs": [],
   "source": [
    "inpathTruth = 'C://Cerebral//_MarioSandBox//DB//medicalHolography//human//githubDrRueda-ToicenCourse//truth.dcm'"
   ]
  },
  {
   "cell_type": "markdown",
   "metadata": {},
   "source": [
    "# Main"
   ]
  },
  {
   "cell_type": "markdown",
   "metadata": {},
   "source": [
    "## Reading and clean the stack"
   ]
  },
  {
   "cell_type": "markdown",
   "metadata": {},
   "source": [
    "### MRI Raw"
   ]
  },
  {
   "cell_type": "code",
   "execution_count": null,
   "metadata": {},
   "outputs": [],
   "source": [
    "mriStack = readMRIFile(inpath)"
   ]
  },
  {
   "cell_type": "code",
   "execution_count": null,
   "metadata": {},
   "outputs": [],
   "source": [
    "mriStackSmooth = applySmoothingMRI(mriStack)"
   ]
  },
  {
   "cell_type": "code",
   "execution_count": null,
   "metadata": {},
   "outputs": [],
   "source": [
    "mriData = convertToNP(mriStackSmooth)"
   ]
  },
  {
   "cell_type": "code",
   "execution_count": null,
   "metadata": {},
   "outputs": [],
   "source": [
    "[numSlices,width,height] = getDataStatistics(mriData)"
   ]
  },
  {
   "cell_type": "markdown",
   "metadata": {},
   "source": [
    "### MRI Segmentation"
   ]
  },
  {
   "cell_type": "code",
   "execution_count": null,
   "metadata": {},
   "outputs": [],
   "source": [
    "mriStackSeg = readMRIFile(inpathTruth)"
   ]
  },
  {
   "cell_type": "code",
   "execution_count": null,
   "metadata": {},
   "outputs": [],
   "source": [
    "mriStackSmoothSeg = applySmoothingMRI(mriStackSeg)"
   ]
  },
  {
   "cell_type": "code",
   "execution_count": null,
   "metadata": {},
   "outputs": [],
   "source": [
    "mriDataSeg = convertToNP(mriStackSmoothSeg)"
   ]
  },
  {
   "cell_type": "code",
   "execution_count": null,
   "metadata": {},
   "outputs": [],
   "source": [
    "[numSlicesSeg,widthSeg,heightSeg] = getDataStatistics(mriDataSeg)"
   ]
  },
  {
   "cell_type": "markdown",
   "metadata": {},
   "source": [
    "## Visualize some slices"
   ]
  },
  {
   "cell_type": "markdown",
   "metadata": {},
   "source": [
    "Let's visualize 3 slices to get a rough overview of the data we are dealing with"
   ]
  },
  {
   "cell_type": "code",
   "execution_count": null,
   "metadata": {
    "scrolled": true
   },
   "outputs": [],
   "source": [
    "display3Slices(mriData,[10,100,150])\n",
    "display3Slices(mriData,[width/3+50,width/3*2+25,width-50],viewType='coronal')\n",
    "display3Slices(mriData,[height/3+50,height/3*2-20,height-70],viewType='sagittal')"
   ]
  },
  {
   "cell_type": "code",
   "execution_count": null,
   "metadata": {},
   "outputs": [],
   "source": [
    "display3Slices(mriDataSeg,[10,100,150])\n",
    "display3Slices(mriDataSeg,[width/3+50,width/3*2+25,width-50],viewType='coronal')\n",
    "display3Slices(mriDataSeg,[height/3+50,height/3*2-20,height-70],viewType='sagittal')"
   ]
  },
  {
   "cell_type": "markdown",
   "metadata": {},
   "source": [
    "## Generate image stack slices"
   ]
  },
  {
   "cell_type": "markdown",
   "metadata": {},
   "source": [
    "This will be imported in 3DSlicer to view all the images. Note that this is done to here the most important slices are."
   ]
  },
  {
   "cell_type": "code",
   "execution_count": null,
   "metadata": {},
   "outputs": [],
   "source": [
    "# generateImageStack(mriData,outImageStackPathAxial,viewType='axial')\n",
    "# generateImageStack(mriData,outImageStackPathCoronal,viewType='coronal')\n",
    "# generateImageStack(mriData,outImageStackPathSagittal,viewType='sagittal')"
   ]
  },
  {
   "cell_type": "markdown",
   "metadata": {},
   "source": [
    "In the axial view we see that the tumor starts roughly around slice 94 and ends at slice 122.  Let us image this so that we can see the beginning, middle and end of the tumor"
   ]
  },
  {
   "cell_type": "code",
   "execution_count": null,
   "metadata": {},
   "outputs": [],
   "source": []
  }
 ],
 "metadata": {
  "kernelspec": {
   "display_name": "Python 2",
   "language": "python",
   "name": "python2"
  },
  "language_info": {
   "codemirror_mode": {
    "name": "ipython",
    "version": 2
   },
   "file_extension": ".py",
   "mimetype": "text/x-python",
   "name": "python",
   "nbconvert_exporter": "python",
   "pygments_lexer": "ipython2",
   "version": "2.7.15"
  },
  "latex_envs": {
   "LaTeX_envs_menu_present": true,
   "autoclose": false,
   "autocomplete": true,
   "bibliofile": "biblio.bib",
   "cite_by": "apalike",
   "current_citInitial": 1,
   "eqLabelWithNumbers": true,
   "eqNumInitial": 1,
   "hotkeys": {
    "equation": "Ctrl-E",
    "itemize": "Ctrl-I"
   },
   "labels_anchors": false,
   "latex_user_defs": false,
   "report_style_numbering": false,
   "user_envs_cfg": false
  }
 },
 "nbformat": 4,
 "nbformat_minor": 2
}
