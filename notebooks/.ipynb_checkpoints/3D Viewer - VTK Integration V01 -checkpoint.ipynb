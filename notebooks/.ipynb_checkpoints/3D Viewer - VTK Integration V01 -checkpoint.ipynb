{
 "cells": [
  {
   "cell_type": "markdown",
   "metadata": {},
   "source": [
    "# Introduction"
   ]
  },
  {
   "cell_type": "markdown",
   "metadata": {},
   "source": [
    "The main goal of this notebook is as follows:\n",
    "\n",
    "- numpy to VTK using [this](https://pyscience.wordpress.com/2014/09/06/numpy-to-vtk-converting-your-numpy-arrays-to-vtk-arrays-and-files/)\n",
    "- VTK to volumetric data then mesh data using [this](https://pyscience.wordpress.com/2014/09/11/surface-extraction-creating-a-mesh-from-pixel-data-using-python-and-vtk/)\n",
    "- saving to stl [this](https://pyscience.wordpress.com/2014/09/11/surface-extraction-creating-a-mesh-from-pixel-data-using-python-and-vtk/)"
   ]
  },
  {
   "cell_type": "markdown",
   "metadata": {},
   "source": [
    "# Imports"
   ]
  },
  {
   "cell_type": "code",
   "execution_count": 1,
   "metadata": {},
   "outputs": [],
   "source": [
    "import numpy as np\n",
    "import scipy.io \n",
    "import pandas as  pd"
   ]
  },
  {
   "cell_type": "code",
   "execution_count": 2,
   "metadata": {},
   "outputs": [],
   "source": [
    "import matplotlib.pyplot as plt\n",
    "%matplotlib notebook"
   ]
  },
  {
   "cell_type": "markdown",
   "metadata": {},
   "source": [
    "# DB"
   ]
  },
  {
   "cell_type": "code",
   "execution_count": 3,
   "metadata": {},
   "outputs": [],
   "source": [
    "workingDir = 'C:/Cerebral/_MarioSandBox/DB/medicalHolography/vascular/Example/'\n",
    "dataName = 'VTD_ready_for_ROI_choice.mat'\n",
    "maskName = 'mask.mat'"
   ]
  },
  {
   "cell_type": "code",
   "execution_count": 4,
   "metadata": {},
   "outputs": [],
   "source": [
    "def readData(fileLocationAndName,VariableName):\n",
    "    data = scipy.io.loadmat(fileLocationAndName)\n",
    "    data = data[VariableName]\n",
    "    dataArray = np.array(data)\n",
    "    return dataArray"
   ]
  },
  {
   "cell_type": "code",
   "execution_count": 5,
   "metadata": {},
   "outputs": [
    {
     "data": {
      "text/plain": [
       "(360L, 766L, 760L)"
      ]
     },
     "execution_count": 5,
     "metadata": {},
     "output_type": "execute_result"
    }
   ],
   "source": [
    "data = readData(workingDir+dataName,'VTD_ready')\n",
    "data.shape"
   ]
  },
  {
   "cell_type": "code",
   "execution_count": 6,
   "metadata": {},
   "outputs": [
    {
     "data": {
      "text/plain": [
       "(760L, 766L)"
      ]
     },
     "execution_count": 6,
     "metadata": {},
     "output_type": "execute_result"
    }
   ],
   "source": [
    "mask = readData(workingDir+maskName,'mask')\n",
    "mask.shape"
   ]
  },
  {
   "cell_type": "markdown",
   "metadata": {},
   "source": [
    "# Data Manipulation"
   ]
  },
  {
   "cell_type": "code",
   "execution_count": 7,
   "metadata": {},
   "outputs": [],
   "source": [
    "def invertImages(stack):\n",
    "    [slices,w,l] = np.shape(stack)\n",
    "    invertedImages = np.zeros([slices,l,w])\n",
    "    numSlices = np.shape(stack)[0]\n",
    "    for sliceIndex in xrange(numSlices):        \n",
    "        currentImage = np.fliplr(np.flipud(stack[sliceIndex].T))\n",
    "        invertedImages[sliceIndex]= currentImage        \n",
    "    return invertedImages    "
   ]
  },
  {
   "cell_type": "markdown",
   "metadata": {},
   "source": [
    "# Visualization Functions"
   ]
  },
  {
   "cell_type": "code",
   "execution_count": 8,
   "metadata": {},
   "outputs": [],
   "source": [
    "def drawSingleImage(stack):\n",
    "    plt.figure()\n",
    "    plt.imshow(stack)"
   ]
  },
  {
   "cell_type": "code",
   "execution_count": 9,
   "metadata": {},
   "outputs": [],
   "source": [
    "def drawSlice(stack,sliceIndex):\n",
    "    plt.figure()\n",
    "    plt.imshow(stack[sliceIndex])"
   ]
  },
  {
   "cell_type": "code",
   "execution_count": 10,
   "metadata": {},
   "outputs": [],
   "source": [
    "def sample_stack(stack, rows=6, cols=6, start_with=10, show_every=3):\n",
    "    fig,ax = plt.subplots(rows,cols,figsize=[12,12])\n",
    "    for i in range(rows*cols):\n",
    "        ind = start_with + i*show_every\n",
    "        ax[int(i/rows),int(i % rows)].set_title('slice %d' % ind)\n",
    "        ax[int(i/rows),int(i % rows)].imshow(stack[ind],cmap='jet')\n",
    "        ax[int(i/rows),int(i % rows)].axis('off')\n",
    "    plt.show()"
   ]
  },
  {
   "cell_type": "markdown",
   "metadata": {},
   "source": [
    "# Mask Functions"
   ]
  },
  {
   "cell_type": "code",
   "execution_count": 11,
   "metadata": {},
   "outputs": [],
   "source": [
    "def maskImageStack(stack,mask):    \n",
    "    maskedImages = np.zeros(np.shape(stack))\n",
    "    numSlices = np.shape(stack)[0]\n",
    "    for sliceIndex in xrange(numSlices):\n",
    "        currentImage = stack[sliceIndex]\n",
    "        maskedImages[sliceIndex]= np.multiply(currentImage,mask)\n",
    "    \n",
    "    return maskedImages    "
   ]
  },
  {
   "cell_type": "markdown",
   "metadata": {},
   "source": [
    "# Data visualization Functions\n",
    "- [3D Plotting](https://www.raddq.com/dicom-processing-segmentation-visualization-in-python/)"
   ]
  },
  {
   "cell_type": "code",
   "execution_count": 12,
   "metadata": {},
   "outputs": [],
   "source": [
    "from plotly import __version__\n",
    "from plotly.offline import download_plotlyjs, init_notebook_mode, plot, iplot\n",
    "from plotly.tools import FigureFactory as FF\n",
    "from plotly.graph_objs import *\n",
    "\n",
    "import  plotly.plotly  as py\n",
    "import plotly.graph_objs as go"
   ]
  },
  {
   "cell_type": "code",
   "execution_count": 13,
   "metadata": {},
   "outputs": [],
   "source": [
    "from mpl_toolkits.mplot3d.art3d import Poly3DCollection\n",
    "import scipy.ndimage\n",
    "from skimage import morphology\n",
    "from skimage import measure\n",
    "from skimage.transform import resize\n",
    "from sklearn.cluster import KMeans"
   ]
  },
  {
   "cell_type": "code",
   "execution_count": 14,
   "metadata": {},
   "outputs": [],
   "source": [
    "def make_mesh(image, threshold=-300, step_size=1):\n",
    "    print \"Transposing surface\"\n",
    "    p = image.transpose(2,1,0)\n",
    "    \n",
    "    print \"Calculating surface\"\n",
    "    verts, faces = measure.marching_cubes(p, threshold) \n",
    "    #verts, faces, normals, values = measure.marching_cubes_lewiner(p, 0.0)\n",
    "    return verts, faces\n",
    "\n",
    "def plotly_3d(verts, faces):\n",
    "    x,y,z = zip(*verts) \n",
    "    \n",
    "    print \"Drawing\"\n",
    "    \n",
    "    # Make the colormap single color since the axes are positional not intensity. \n",
    "#    colormap=['rgb(255,105,180)','rgb(255,255,51)','rgb(0,191,255)']\n",
    "    colormap=['rgb(236, 236, 212)','rgb(236, 236, 212)']\n",
    "    \n",
    "    fig = FF.create_trisurf(x=x,\n",
    "                        y=y, \n",
    "                        z=z, \n",
    "                        plot_edges=False,\n",
    "                        colormap=colormap,\n",
    "                        simplices=faces,\n",
    "                        backgroundcolor='rgb(64, 64, 64)',\n",
    "                        title=\"Interactive Visualization\")\n",
    "    iplot(fig)\n",
    "\n",
    "def plt_3d(verts, faces):\n",
    "    print \"Drawing\"\n",
    "    x,y,z = zip(*verts) \n",
    "    fig = plt.figure(figsize=(10, 10))\n",
    "    ax = fig.add_subplot(111, projection='3d')\n",
    "    \n",
    "    print 'generating poly3d'\n",
    "    # Fancy indexing: `verts[faces]` to generate a collection of triangles\n",
    "    mesh = Poly3DCollection(verts[faces], linewidths=0.05, alpha=1)\n",
    "    print 'finished generating poly3d'\n",
    "    face_color = [1, 1, 0.9]\n",
    "    print 'adding some colour'\n",
    "    mesh.set_facecolor(face_color)\n",
    "    ax.add_collection3d(mesh)\n",
    "\n",
    "    print 'setting limits'\n",
    "    ax.set_xlim(0, max(x))\n",
    "    ax.set_ylim(0, max(y))\n",
    "    ax.set_zlim(0, max(z))\n",
    "    print 'adding some colour'\n",
    "    ax.set_axis_bgcolor((0.7, 0.7, 0.7))\n",
    "    print 'showing'\n",
    "    plt.show()\n",
    "    print 'finished'"
   ]
  },
  {
   "cell_type": "code",
   "execution_count": 15,
   "metadata": {},
   "outputs": [],
   "source": [
    "def myplotly_3d(verts, faces):\n",
    "    x,y,z = zip(*verts) \n",
    "    \n",
    "    print \"Drawing\"\n",
    "    \n",
    "    # Make the colormap single color since the axes are positional not intensity. \n",
    "#    colormap=['rgb(255,105,180)','rgb(255,255,51)','rgb(0,191,255)']\n",
    "    colormap=['rgb(236, 236, 212)','rgb(236, 236, 212)']\n",
    "    \n",
    "    fig = FF.create_trisurf(x=x,\n",
    "                        y=y, \n",
    "                        z=z, \n",
    "                        plot_edges=False,\n",
    "                        colormap=\"Portland\",\n",
    "                        simplices=faces,\n",
    "                        backgroundcolor='rgb(64, 64, 64)',\n",
    "                        title=\"Interactive Visualization\")\n",
    "    iplot(fig)\n"
   ]
  },
  {
   "cell_type": "markdown",
   "metadata": {},
   "source": [
    "# Main Work"
   ]
  },
  {
   "cell_type": "markdown",
   "metadata": {},
   "source": [
    "Before doing some mesh generation we need to massage the data such that it looks like the ones we see in the example folder that was given to us."
   ]
  },
  {
   "cell_type": "code",
   "execution_count": 16,
   "metadata": {},
   "outputs": [],
   "source": [
    "newData = invertImages(data)"
   ]
  },
  {
   "cell_type": "markdown",
   "metadata": {},
   "source": [
    "Now let us apply the mask to this new data and then view it again."
   ]
  },
  {
   "cell_type": "code",
   "execution_count": 17,
   "metadata": {
    "scrolled": false
   },
   "outputs": [],
   "source": [
    "maskedData = maskImageStack(newData,mask)"
   ]
  },
  {
   "cell_type": "code",
   "execution_count": 18,
   "metadata": {},
   "outputs": [],
   "source": [
    "def getTHImageStack(stack):\n",
    "    [s,l,w] = np.shape(stack)\n",
    "\n",
    "    for sliceIndex in xrange(s):\n",
    "        imgSlice = np.zeros([l,w])\n",
    "        imgSlice = stack[sliceIndex,:,:]\n",
    "        imgSlice[imgSlice>0]=255\n",
    "        stack[sliceIndex,:,:] = imgSlice   \n",
    "    return stack"
   ]
  },
  {
   "cell_type": "code",
   "execution_count": 19,
   "metadata": {},
   "outputs": [],
   "source": [
    "thImageStack = getTHImageStack(maskedData)"
   ]
  },
  {
   "cell_type": "markdown",
   "metadata": {},
   "source": [
    "# VTK Integration"
   ]
  },
  {
   "cell_type": "code",
   "execution_count": 22,
   "metadata": {},
   "outputs": [],
   "source": [
    "import vtk\n",
    "from vtk.util import numpy_support"
   ]
  },
  {
   "cell_type": "code",
   "execution_count": 24,
   "metadata": {},
   "outputs": [],
   "source": [
    "from IPython.display import Image\n",
    "def vtk_show(renderer, width=400, height=300):\n",
    "    \"\"\"\n",
    "    Takes vtkRenderer instance and returns an IPython Image with the rendering.\n",
    "    \"\"\"\n",
    "    renderWindow = vtk.vtkRenderWindow()\n",
    "    renderWindow.SetOffScreenRendering(1)\n",
    "    renderWindow.AddRenderer(renderer)\n",
    "    renderWindow.SetSize(width, height)\n",
    "    renderWindow.Render()\n",
    "     \n",
    "    windowToImageFilter = vtk.vtkWindowToImageFilter()\n",
    "    windowToImageFilter.SetInput(renderWindow)\n",
    "    windowToImageFilter.Update()\n",
    "     \n",
    "    writer = vtk.vtkPNGWriter()\n",
    "    writer.SetWriteToMemory(1)\n",
    "    writer.SetInputConnection(windowToImageFilter.GetOutputPort())\n",
    "    writer.Write()\n",
    "    data = str(buffer(writer.GetResult()))\n",
    "    \n",
    "    return Image(data)"
   ]
  },
  {
   "cell_type": "code",
   "execution_count": 23,
   "metadata": {},
   "outputs": [
    {
     "name": "stderr",
     "output_type": "stream",
     "text": [
      "C:\\Users\\HP\\Anaconda2\\lib\\site-packages\\vtk\\util\\numpy_support.py:134: FutureWarning:\n",
      "\n",
      "Conversion of the second argument of issubdtype from `complex` to `np.complexfloating` is deprecated. In future, it will be treated as `np.complex128 == np.dtype(complex).type`.\n",
      "\n"
     ]
    }
   ],
   "source": [
    "VTK_data = numpy_support.numpy_to_vtk(num_array=thImageStack[10:15,:,:].ravel(), deep=True, array_type=vtk.VTK_FLOAT)"
   ]
  },
  {
   "cell_type": "code",
   "execution_count": 25,
   "metadata": {},
   "outputs": [],
   "source": [
    "dmc = vtk.vtkDiscreteMarchingCubes()"
   ]
  },
  {
   "cell_type": "code",
   "execution_count": 26,
   "metadata": {},
   "outputs": [
    {
     "ename": "TypeError",
     "evalue": "SetInputConnection argument 1: method requires a vtkAlgorithmOutput, a vtkFloatArray was provided.",
     "output_type": "error",
     "traceback": [
      "\u001b[1;31m---------------------------------------------------------------------------\u001b[0m",
      "\u001b[1;31mTypeError\u001b[0m                                 Traceback (most recent call last)",
      "\u001b[1;32m<ipython-input-26-7d4bcf37847a>\u001b[0m in \u001b[0;36m<module>\u001b[1;34m()\u001b[0m\n\u001b[1;32m----> 1\u001b[1;33m \u001b[0mdmc\u001b[0m\u001b[1;33m.\u001b[0m\u001b[0mSetInputConnection\u001b[0m\u001b[1;33m(\u001b[0m\u001b[0mVTK_data\u001b[0m\u001b[1;33m)\u001b[0m\u001b[1;33m\u001b[0m\u001b[0m\n\u001b[0m",
      "\u001b[1;31mTypeError\u001b[0m: SetInputConnection argument 1: method requires a vtkAlgorithmOutput, a vtkFloatArray was provided."
     ]
    }
   ],
   "source": [
    "\n",
    "dmc.SetInputConnection(VTK_data)"
   ]
  },
  {
   "cell_type": "markdown",
   "metadata": {},
   "source": [
    "# ----------------\n",
    "[Trying this](https://stackoverflow.com/questions/37283961/python-numpy-array-to-vtk-stl-file-creator-how-to-set-spacing)"
   ]
  },
  {
   "cell_type": "code",
   "execution_count": 27,
   "metadata": {},
   "outputs": [],
   "source": [
    "stack=thImageStack[10:15,:,:]\n",
    "dataImporter = vtk.vtkImageImport()\n",
    "data_string = stack.tostring()"
   ]
  },
  {
   "cell_type": "code",
   "execution_count": 28,
   "metadata": {},
   "outputs": [],
   "source": [
    "dataImporter.CopyImportVoidPointer(data_string, len(data_string))\n",
    "dataImporter.SetDataScalarTypeToUnsignedChar()\n",
    "dataImporter.SetNumberOfScalarComponents(1)"
   ]
  },
  {
   "cell_type": "code",
   "execution_count": 29,
   "metadata": {},
   "outputs": [],
   "source": [
    "w, d, h = stack.shape\n",
    "dataImporter.SetDataExtent(0, h-1,0, d-1, 0, w-1)\n",
    "dataImporter.SetWholeExtent(0, h-1,0, d-1, 0, w-1)"
   ]
  },
  {
   "cell_type": "code",
   "execution_count": 30,
   "metadata": {},
   "outputs": [],
   "source": [
    "#here is the line that I was missing:\n",
    "dataImporter.SetDataSpacing(1,1,1)"
   ]
  },
  {
   "cell_type": "code",
   "execution_count": 31,
   "metadata": {},
   "outputs": [],
   "source": [
    "threshold = vtk.vtkImageThreshold ()\n",
    "threshold.SetInputConnection(dataImporter.GetOutputPort())\n",
    "threshold.ThresholdByLower(255) # 255 is the height of the threshold\n",
    "threshold.ReplaceInOn()\n",
    "threshold.SetInValue(0) # set all values below the threshold to 0 in this case the threshold is 255\n",
    "threshold.ReplaceOutOn()\n",
    "threshold.SetOutValue(1) # set all values below the threshold to 1 in this case the threshold is 255\n",
    "threshold.Update()"
   ]
  },
  {
   "cell_type": "code",
   "execution_count": 32,
   "metadata": {},
   "outputs": [],
   "source": [
    "dmc = vtk.vtkDiscreteMarchingCubes()\n",
    "dmc.SetInputConnection(threshold.GetOutputPort())\n",
    "dmc.GenerateValues(1, 1, 1)\n",
    "dmc.Update()"
   ]
  },
  {
   "cell_type": "code",
   "execution_count": 33,
   "metadata": {},
   "outputs": [
    {
     "data": {
      "text/plain": [
       "1"
      ]
     },
     "execution_count": 33,
     "metadata": {},
     "output_type": "execute_result"
    }
   ],
   "source": [
    "writer = vtk.vtkSTLWriter()\n",
    "writer.SetInputConnection(dmc.GetOutputPort())\n",
    "writer.SetFileTypeToBinary()\n",
    "writer.SetFileName(\"file.stl\")\n",
    "writer.Write()"
   ]
  },
  {
   "cell_type": "code",
   "execution_count": 34,
   "metadata": {},
   "outputs": [
    {
     "data": {
      "image/png": "[encoded data removed]",
      "text/plain": [
       "<IPython.core.display.Image object>"
      ]
     },
     "execution_count": 34,
     "metadata": {},
     "output_type": "execute_result"
    }
   ],
   "source": [
    "mapper = vtk.vtkPolyDataMapper()\n",
    "mapper.SetInputConnection(dmc.GetOutputPort())\n",
    "\n",
    "actor = vtk.vtkActor()\n",
    "actor.SetMapper(mapper)\n",
    "\n",
    "renderer = vtk.vtkRenderer()\n",
    "renderer.AddActor(actor)\n",
    "renderer.SetBackground(1.0, 1.0, 1.0)\n",
    "\n",
    "camera = renderer.MakeCamera()\n",
    "camera.SetPosition(-500.0, 245.5, 122.0)\n",
    "camera.SetFocalPoint(301.0, 245.5, 122.0)\n",
    "camera.SetViewAngle(30.0)\n",
    "camera.SetRoll(-90.0)\n",
    "renderer.SetActiveCamera(camera)\n",
    "vtk_show(renderer, 600, 600)"
   ]
  },
  {
   "cell_type": "code",
   "execution_count": null,
   "metadata": {},
   "outputs": [],
   "source": []
  }
 ],
 "metadata": {
  "anaconda-cloud": {},
  "kernelspec": {
   "display_name": "Python [conda env:Anaconda2]",
   "language": "python",
   "name": "conda-env-Anaconda2-py"
  },
  "language_info": {
   "codemirror_mode": {
    "name": "ipython",
    "version": 2
   },
   "file_extension": ".py",
   "mimetype": "text/x-python",
   "name": "python",
   "nbconvert_exporter": "python",
   "pygments_lexer": "ipython2",
   "version": "2.7.15"
  }
 },
 "nbformat": 4,
 "nbformat_minor": 2
}
