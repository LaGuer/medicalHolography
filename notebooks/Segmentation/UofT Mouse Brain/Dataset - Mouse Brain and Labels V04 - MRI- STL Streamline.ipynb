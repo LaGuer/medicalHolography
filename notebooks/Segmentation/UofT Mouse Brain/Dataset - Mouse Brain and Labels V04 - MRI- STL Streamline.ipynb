{
 "cells": [
  {
   "cell_type": "markdown",
   "metadata": {},
   "source": [
    "# Background\n"
   ]
  },
  {
   "cell_type": "markdown",
   "metadata": {},
   "source": [
    "This is basically the same as V03 but now you can easier to following"
   ]
  },
  {
   "cell_type": "markdown",
   "metadata": {},
   "source": [
    "I found the database here:\n",
    " - [NeuroMouse Project](http://phm.utoronto.ca/~jeffh/surgical.htm)\n",
    " - [Back to Mouse Atlas Variational Mouse Brain Atlas](http://localhost:8888/notebooks/notebooks/Segmentation/Dataset%20-%20Mouse%20Brain%20and%20Labels%20V02.ipynb) This is the other toronto based atlas.  hopefully the labels here are accurate.\n",
    " "
   ]
  },
  {
   "cell_type": "markdown",
   "metadata": {},
   "source": [
    "# Imports"
   ]
  },
  {
   "cell_type": "code",
   "execution_count": 1,
   "metadata": {},
   "outputs": [
    {
     "name": "stdout",
     "output_type": "stream",
     "text": [
      "Populating the interactive namespace from numpy and matplotlib\n"
     ]
    }
   ],
   "source": [
    "import nibabel as nib  \n",
    "import numpy\n",
    "import matplotlib.pyplot as plt\n",
    "%pylab inline\n",
    "from IPython.display import Image"
   ]
  },
  {
   "cell_type": "code",
   "execution_count": 2,
   "metadata": {},
   "outputs": [],
   "source": [
    "import scipy.misc\n",
    "from skimage import measure"
   ]
  },
  {
   "cell_type": "code",
   "execution_count": 3,
   "metadata": {},
   "outputs": [],
   "source": [
    "# for this module the stl is now depricated\n",
    "# pip install numpy-stl\n",
    "from stl import mesh"
   ]
  },
  {
   "cell_type": "code",
   "execution_count": 4,
   "metadata": {},
   "outputs": [],
   "source": [
    "from mpl_toolkits.mplot3d.art3d import Poly3DCollection"
   ]
  },
  {
   "cell_type": "markdown",
   "metadata": {},
   "source": [
    "# Functions"
   ]
  },
  {
   "cell_type": "code",
   "execution_count": 5,
   "metadata": {},
   "outputs": [],
   "source": [
    "def loadMNC(filepath):\n",
    "    img = nib.load(filepath)\n",
    "    data = img.get_data()\n",
    "    return data"
   ]
  },
  {
   "cell_type": "code",
   "execution_count": 6,
   "metadata": {},
   "outputs": [],
   "source": [
    "def showSlice(data):\n",
    "    plt.set_cmap(\"gray\")\n",
    "    plt.imshow(data)"
   ]
  },
  {
   "cell_type": "code",
   "execution_count": 7,
   "metadata": {},
   "outputs": [],
   "source": [
    "def getLabelInfo(labelArray,index):\n",
    "    try:\n",
    "        print(labelArray[index])\n",
    "    except:\n",
    "        print(\"{} is too large the there are only {} labels including 0 index\".format(index,len(labelArray)-1))\n",
    "    "
   ]
  },
  {
   "cell_type": "code",
   "execution_count": 8,
   "metadata": {},
   "outputs": [],
   "source": [
    "def make_mesh(image, threshold=-300, step_size=1):\n",
    "    print \"Transposing surface\"\n",
    "    p = image.transpose(2,1,0)\n",
    "    \n",
    "    print \"Calculating surface\"\n",
    "    try:\n",
    "        verts, faces = measure.marching_cubes(p, threshold) \n",
    "    except:\n",
    "        verts, faces = measure.marching_cubes_classic(p, threshold)         \n",
    "    return verts, faces"
   ]
  },
  {
   "cell_type": "code",
   "execution_count": null,
   "metadata": {},
   "outputs": [],
   "source": []
  },
  {
   "cell_type": "markdown",
   "metadata": {},
   "source": [
    "# Parameters"
   ]
  },
  {
   "cell_type": "code",
   "execution_count": 9,
   "metadata": {},
   "outputs": [],
   "source": [
    "# Directory locations\n",
    "pathBrain = \"C://Cerebral//_MarioSandBox//DB//medicalHolography//Animal Brains//UofTLabeledData//129SV_atlas.mnc\"\n",
    "pathLabels = \"C://Cerebral//_MarioSandBox//DB//medicalHolography//Animal Brains//UofTLabeledData//129SV_atlas_labelling.mnc\"\n",
    "pathLabelInfo = \"C://Cerebral//_MarioSandBox//DB//medicalHolography//Animal Brains//UofTLabeledData//129SV_atlas_labelling_names.txt\""
   ]
  },
  {
   "cell_type": "code",
   "execution_count": 10,
   "metadata": {},
   "outputs": [],
   "source": [
    "areaInd = 3 # Use the text file \"129SV_atlas_labelling_names.txt\" to select the approriate area you want to create an STL of \n",
    "outDir = 'C://Cerebral//_MarioSandBox//DB//medicalHolography//Animal Brains//UofTLabeledData//Segmented//'"
   ]
  },
  {
   "cell_type": "code",
   "execution_count": null,
   "metadata": {},
   "outputs": [],
   "source": []
  },
  {
   "cell_type": "markdown",
   "metadata": {},
   "source": [
    "# Reading File"
   ]
  },
  {
   "cell_type": "markdown",
   "metadata": {},
   "source": [
    "Read the label informaiton and place it in an array for easy viewing later"
   ]
  },
  {
   "cell_type": "code",
   "execution_count": 11,
   "metadata": {},
   "outputs": [],
   "source": [
    "labelInfo = []\n",
    "\n",
    "f = open(pathLabelInfo, \"r\") \n",
    "for line in f: \n",
    "    labelInfo.append(line)\n",
    "#     print line "
   ]
  },
  {
   "cell_type": "code",
   "execution_count": 12,
   "metadata": {
    "scrolled": true
   },
   "outputs": [
    {
     "name": "stdout",
     "output_type": "stream",
     "text": [
      "3 brain_stem\n",
      "\n"
     ]
    }
   ],
   "source": [
    "getLabelInfo(labelInfo,areaInd-1)"
   ]
  },
  {
   "cell_type": "markdown",
   "metadata": {},
   "source": [
    "There are some nodes that do not have labels so keep track of these as well just in case"
   ]
  },
  {
   "cell_type": "code",
   "execution_count": 13,
   "metadata": {},
   "outputs": [],
   "source": [
    "dataBrain = loadMNC(pathBrain)\n",
    "dataLabels = loadMNC(pathLabels)"
   ]
  },
  {
   "cell_type": "markdown",
   "metadata": {},
   "source": [
    "# Segmentation"
   ]
  },
  {
   "cell_type": "markdown",
   "metadata": {},
   "source": [
    "Crude segmentation when we have the labels:\n",
    "1. Obtain label slice and data slice\n",
    "2. create mask of the label\n",
    "3. multiply mask and data\n",
    "4. store new masked data\n",
    "5. repeat for all slices"
   ]
  },
  {
   "cell_type": "markdown",
   "metadata": {},
   "source": [
    "- dataBrain = variable containing the data\n",
    "- dataLabels = varible containg the labels"
   ]
  },
  {
   "cell_type": "code",
   "execution_count": 14,
   "metadata": {},
   "outputs": [
    {
     "name": "stdout",
     "output_type": "stream",
     "text": [
      "Now applying mask to slice 0\n",
      "Now applying mask to slice 1\n",
      "Now applying mask to slice 2\n",
      "Now applying mask to slice 3\n",
      "Now applying mask to slice 4\n",
      "Now applying mask to slice 5\n",
      "Now applying mask to slice 6\n",
      "Now applying mask to slice 7\n",
      "Now applying mask to slice 8\n",
      "Now applying mask to slice 9\n",
      "Now applying mask to slice 10\n",
      "Now applying mask to slice 11\n",
      "Now applying mask to slice 12\n",
      "Now applying mask to slice 13\n",
      "Now applying mask to slice 14\n",
      "Now applying mask to slice 15\n",
      "Now applying mask to slice 16\n",
      "Now applying mask to slice 17\n",
      "Now applying mask to slice 18\n",
      "Now applying mask to slice 19\n",
      "Now applying mask to slice 20\n",
      "Now applying mask to slice 21\n",
      "Now applying mask to slice 22\n",
      "Now applying mask to slice 23\n",
      "Now applying mask to slice 24\n",
      "Now applying mask to slice 25\n",
      "Now applying mask to slice 26\n",
      "Now applying mask to slice 27\n",
      "Now applying mask to slice 28\n",
      "Now applying mask to slice 29\n",
      "Now applying mask to slice 30\n",
      "Now applying mask to slice 31\n",
      "Now applying mask to slice 32\n",
      "Now applying mask to slice 33\n",
      "Now applying mask to slice 34\n",
      "Now applying mask to slice 35\n",
      "Now applying mask to slice 36\n",
      "Now applying mask to slice 37\n",
      "Now applying mask to slice 38\n",
      "Now applying mask to slice 39\n",
      "Now applying mask to slice 40\n",
      "Now applying mask to slice 41\n",
      "Now applying mask to slice 42\n",
      "Now applying mask to slice 43\n",
      "Now applying mask to slice 44\n",
      "Now applying mask to slice 45\n",
      "Now applying mask to slice 46\n",
      "Now applying mask to slice 47\n",
      "Now applying mask to slice 48\n",
      "Now applying mask to slice 49\n",
      "Now applying mask to slice 50\n",
      "Now applying mask to slice 51\n",
      "Now applying mask to slice 52\n",
      "Now applying mask to slice 53\n",
      "Now applying mask to slice 54\n",
      "Now applying mask to slice 55\n",
      "Now applying mask to slice 56\n",
      "Now applying mask to slice 57\n",
      "Now applying mask to slice 58\n",
      "Now applying mask to slice 59\n",
      "Now applying mask to slice 60\n",
      "Now applying mask to slice 61\n",
      "Now applying mask to slice 62\n",
      "Now applying mask to slice 63\n",
      "Now applying mask to slice 64\n",
      "Now applying mask to slice 65\n",
      "Now applying mask to slice 66\n",
      "Now applying mask to slice 67\n",
      "Now applying mask to slice 68\n",
      "Now applying mask to slice 69\n",
      "Now applying mask to slice 70\n",
      "Now applying mask to slice 71\n",
      "Now applying mask to slice 72\n",
      "Now applying mask to slice 73\n",
      "Now applying mask to slice 74\n",
      "Now applying mask to slice 75\n",
      "Now applying mask to slice 76\n",
      "Now applying mask to slice 77\n",
      "Now applying mask to slice 78\n",
      "Now applying mask to slice 79\n",
      "Now applying mask to slice 80\n",
      "Now applying mask to slice 81\n",
      "Now applying mask to slice 82\n",
      "Now applying mask to slice 83\n",
      "Now applying mask to slice 84\n",
      "Now applying mask to slice 85\n",
      "Now applying mask to slice 86\n",
      "Now applying mask to slice 87\n",
      "Now applying mask to slice 88\n",
      "Now applying mask to slice 89\n",
      "Now applying mask to slice 90\n",
      "Now applying mask to slice 91\n",
      "Now applying mask to slice 92\n",
      "Now applying mask to slice 93\n",
      "Now applying mask to slice 94\n",
      "Now applying mask to slice 95\n",
      "Now applying mask to slice 96\n",
      "Now applying mask to slice 97\n",
      "Now applying mask to slice 98\n",
      "Now applying mask to slice 99\n",
      "Now applying mask to slice 100\n",
      "Now applying mask to slice 101\n",
      "Now applying mask to slice 102\n",
      "Now applying mask to slice 103\n",
      "Now applying mask to slice 104\n",
      "Now applying mask to slice 105\n",
      "Now applying mask to slice 106\n",
      "Now applying mask to slice 107\n",
      "Now applying mask to slice 108\n",
      "Now applying mask to slice 109\n",
      "Now applying mask to slice 110\n",
      "Now applying mask to slice 111\n",
      "Now applying mask to slice 112\n",
      "Now applying mask to slice 113\n",
      "Now applying mask to slice 114\n",
      "Now applying mask to slice 115\n",
      "Now applying mask to slice 116\n",
      "Now applying mask to slice 117\n",
      "Now applying mask to slice 118\n",
      "Now applying mask to slice 119\n",
      "Now applying mask to slice 120\n",
      "Now applying mask to slice 121\n",
      "Now applying mask to slice 122\n",
      "Now applying mask to slice 123\n",
      "Now applying mask to slice 124\n",
      "Now applying mask to slice 125\n",
      "Now applying mask to slice 126\n",
      "Now applying mask to slice 127\n",
      "Now applying mask to slice 128\n",
      "Now applying mask to slice 129\n",
      "Now applying mask to slice 130\n",
      "Now applying mask to slice 131\n",
      "Now applying mask to slice 132\n",
      "Now applying mask to slice 133\n",
      "Now applying mask to slice 134\n",
      "Now applying mask to slice 135\n",
      "Now applying mask to slice 136\n",
      "Now applying mask to slice 137\n",
      "Now applying mask to slice 138\n",
      "Now applying mask to slice 139\n",
      "Now applying mask to slice 140\n"
     ]
    }
   ],
   "source": [
    "numSlice,xdim,ydim = dataBrain.shape\n",
    "dataBrainSegmented = np.zeros(dataBrain.shape)\n",
    "\n",
    "for sliceInd in xrange(numSlice):\n",
    "    print('Now applying mask to slice {}'.format(sliceInd))\n",
    "    # looping paramters\n",
    "    # this will be the cerebellum\n",
    "    # sliceInd = 80\n",
    "\n",
    "    # obtain working slice\n",
    "    currentDataSlice = np.copy(dataBrain[sliceInd,:,:])\n",
    "    currentLabelSlice = np.copy(dataLabels[sliceInd,:,:])\n",
    "\n",
    "    # create the masks\n",
    "    currentLabelSlice[np.where(currentLabelSlice!=areaInd)] = 0\n",
    "    currentLabelSlice[np.where(currentLabelSlice==areaInd)] = 1\n",
    "\n",
    "    # apply mask\n",
    "    maskedData = currentLabelSlice * currentDataSlice\n",
    "\n",
    "    # store mask in the volumetric data\n",
    "    dataBrainSegmented[sliceInd,:,:] = maskedData\n",
    "    \n",
    "    # Save images    \n",
    "    #     scipy.misc.imsave(outDir+'{}.jpg'.format(sliceInd), maskedData)\n",
    "    # we are not doing this... we want to save them in an stl file instead of a stack of images"
   ]
  },
  {
   "cell_type": "code",
   "execution_count": 22,
   "metadata": {},
   "outputs": [
    {
     "data": {
      "text/plain": [
       "Text(0.5,1,'Segmented MR Scan')"
      ]
     },
     "execution_count": 22,
     "metadata": {},
     "output_type": "execute_result"
    },
    {
     "data": {
      "image/png": "[encoded data removed]",
      "text/plain": [
       "<Figure size 432x288 with 3 Axes>"
      ]
     },
     "metadata": {
      "needs_background": "light"
     },
     "output_type": "display_data"
    }
   ],
   "source": [
    "sliceIndOfinterest = 50\n",
    "\n",
    "plt.subplot(1,3,1)\n",
    "showSlice(dataBrain[sliceIndOfinterest,:,:])\n",
    "plt.title('Original MR Scan')\n",
    "plt.subplot(1,3,2)\n",
    "showSlice(dataLabels[sliceIndOfinterest,:,:])\n",
    "plt.title('Mask')\n",
    "plt.subplot(1,3,3)\n",
    "showSlice(dataBrainSegmented[sliceIndOfinterest,:,:])\n",
    "plt.title('Segmented MR Scan')"
   ]
  },
  {
   "cell_type": "markdown",
   "metadata": {},
   "source": [
    "The above image shows the progression of segmentation"
   ]
  },
  {
   "cell_type": "markdown",
   "metadata": {},
   "source": [
    "# STL Generation"
   ]
  },
  {
   "cell_type": "code",
   "execution_count": 16,
   "metadata": {},
   "outputs": [
    {
     "name": "stdout",
     "output_type": "stream",
     "text": [
      "Transposing surface\n",
      "Calculating surface\n"
     ]
    }
   ],
   "source": [
    "v, f = make_mesh(dataBrainSegmented,0.0)"
   ]
  },
  {
   "cell_type": "code",
   "execution_count": 17,
   "metadata": {},
   "outputs": [],
   "source": [
    "veins = mesh.Mesh(np.zeros(f.shape[0], dtype=mesh.Mesh.dtype))"
   ]
  },
  {
   "cell_type": "code",
   "execution_count": 18,
   "metadata": {},
   "outputs": [],
   "source": [
    "for i, f in enumerate(f):\n",
    "    for j in range(3):\n",
    "        veins.vectors[i][j] = v[f[j],:]"
   ]
  },
  {
   "cell_type": "code",
   "execution_count": 19,
   "metadata": {},
   "outputs": [],
   "source": [
    "outSTLDir = 'C://Cerebral//_MarioSandBox//DB//medicalHolography//Animal Brains//UofTLabeledData//Segmented//'\n",
    "veins.save(outSTLDir+labelInfo[areaInd-1].split()[1]+'.stl')"
   ]
  },
  {
   "cell_type": "code",
   "execution_count": null,
   "metadata": {},
   "outputs": [],
   "source": []
  }
 ],
 "metadata": {
  "kernelspec": {
   "display_name": "Python 2",
   "language": "python",
   "name": "python2"
  },
  "language_info": {
   "codemirror_mode": {
    "name": "ipython",
    "version": 2
   },
   "file_extension": ".py",
   "mimetype": "text/x-python",
   "name": "python",
   "nbconvert_exporter": "python",
   "pygments_lexer": "ipython2",
   "version": "2.7.15"
  },
  "latex_envs": {
   "LaTeX_envs_menu_present": true,
   "autoclose": false,
   "autocomplete": true,
   "bibliofile": "biblio.bib",
   "cite_by": "apalike",
   "current_citInitial": 1,
   "eqLabelWithNumbers": true,
   "eqNumInitial": 1,
   "hotkeys": {
    "equation": "Ctrl-E",
    "itemize": "Ctrl-I"
   },
   "labels_anchors": false,
   "latex_user_defs": false,
   "report_style_numbering": false,
   "user_envs_cfg": false
  }
 },
 "nbformat": 4,
 "nbformat_minor": 2
}
