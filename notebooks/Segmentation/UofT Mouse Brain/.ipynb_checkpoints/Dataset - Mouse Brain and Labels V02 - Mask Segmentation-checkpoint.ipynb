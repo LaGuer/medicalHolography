{
 "cells": [
  {
   "cell_type": "markdown",
   "metadata": {},
   "source": [
    "# Background\n"
   ]
  },
  {
   "cell_type": "markdown",
   "metadata": {},
   "source": [
    "My goal of this notebook is to see if I can extend the work done in V01 by identifying a DB where the atlas is labeled.\n",
    "\n",
    "This is currently working and this notebook **shows how to generate and apply mask to the data**. "
   ]
  },
  {
   "cell_type": "markdown",
   "metadata": {},
   "source": [
    "I found the database here:\n",
    " - [NeuroMouse Project](http://phm.utoronto.ca/~jeffh/surgical.htm)\n",
    " - [Back to Mouse Atlas Variational Mouse Brain Atlas](http://localhost:8888/notebooks/notebooks/Segmentation/Dataset%20-%20Mouse%20Brain%20and%20Labels%20V02.ipynb) This is the other toronto based atlas.  hopefully the labels here are accurate.\n",
    " "
   ]
  },
  {
   "cell_type": "markdown",
   "metadata": {},
   "source": [
    "# Imports"
   ]
  },
  {
   "cell_type": "code",
   "execution_count": 1,
   "metadata": {},
   "outputs": [
    {
     "name": "stdout",
     "output_type": "stream",
     "text": [
      "Populating the interactive namespace from numpy and matplotlib\n"
     ]
    }
   ],
   "source": [
    "import nibabel as nib  \n",
    "import numpy\n",
    "import matplotlib.pyplot as plt\n",
    "%pylab inline"
   ]
  },
  {
   "cell_type": "code",
   "execution_count": 91,
   "metadata": {},
   "outputs": [],
   "source": [
    "import scipy.misc"
   ]
  },
  {
   "cell_type": "markdown",
   "metadata": {},
   "source": [
    "# Functions"
   ]
  },
  {
   "cell_type": "code",
   "execution_count": 2,
   "metadata": {},
   "outputs": [],
   "source": [
    "def loadMNC(filepath):\n",
    "    img = nib.load(filepath)\n",
    "    data = img.get_data()\n",
    "    return data"
   ]
  },
  {
   "cell_type": "code",
   "execution_count": 3,
   "metadata": {},
   "outputs": [],
   "source": [
    "def showSlice(data):\n",
    "    plt.set_cmap(\"gray\")\n",
    "    plt.imshow(data)"
   ]
  },
  {
   "cell_type": "code",
   "execution_count": 16,
   "metadata": {},
   "outputs": [],
   "source": [
    "def getLabelInfo(labelArray,index):\n",
    "    try:\n",
    "        print(labelArray[index])\n",
    "    except:\n",
    "        print(\"{} is too large the there are only {} labels including 0 index\".format(index,len(labelArray)-1))\n",
    "    "
   ]
  },
  {
   "cell_type": "code",
   "execution_count": null,
   "metadata": {},
   "outputs": [],
   "source": []
  },
  {
   "cell_type": "code",
   "execution_count": null,
   "metadata": {},
   "outputs": [],
   "source": []
  },
  {
   "cell_type": "code",
   "execution_count": null,
   "metadata": {},
   "outputs": [],
   "source": []
  },
  {
   "cell_type": "code",
   "execution_count": null,
   "metadata": {},
   "outputs": [],
   "source": []
  },
  {
   "cell_type": "markdown",
   "metadata": {},
   "source": [
    "# Parameters"
   ]
  },
  {
   "cell_type": "code",
   "execution_count": 7,
   "metadata": {},
   "outputs": [],
   "source": [
    "# Directory locations\n",
    "pathBrain = \"C://Cerebral//_MarioSandBox//DB//medicalHolography//Animal Brains//UofTLabeledData//129SV_atlas.mnc\"\n",
    "pathLabels = \"C://Cerebral//_MarioSandBox//DB//medicalHolography//Animal Brains//UofTLabeledData//129SV_atlas_labelling.mnc\"\n",
    "pathLabelInfo = \"C://Cerebral//_MarioSandBox//DB//medicalHolography//Animal Brains//UofTLabeledData//129SV_atlas_labelling_names.txt\"\n",
    "\n",
    "sliceOfInterest = 24"
   ]
  },
  {
   "cell_type": "code",
   "execution_count": null,
   "metadata": {},
   "outputs": [],
   "source": []
  },
  {
   "cell_type": "code",
   "execution_count": null,
   "metadata": {},
   "outputs": [],
   "source": []
  },
  {
   "cell_type": "markdown",
   "metadata": {},
   "source": [
    "# Reading File"
   ]
  },
  {
   "cell_type": "markdown",
   "metadata": {},
   "source": [
    "Read the label informaiton and place it in an array for easy viewing later"
   ]
  },
  {
   "cell_type": "code",
   "execution_count": 9,
   "metadata": {},
   "outputs": [],
   "source": [
    "labelInfo = []\n",
    "\n",
    "f = open(pathLabelInfo, \"r\") \n",
    "for line in f: \n",
    "    labelInfo.append(line)\n",
    "#     print line "
   ]
  },
  {
   "cell_type": "code",
   "execution_count": 18,
   "metadata": {},
   "outputs": [
    {
     "name": "stdout",
     "output_type": "stream",
     "text": [
      "60 UD5\n",
      "\n"
     ]
    }
   ],
   "source": [
    "getLabelInfo(labelInfo,42)"
   ]
  },
  {
   "cell_type": "markdown",
   "metadata": {},
   "source": [
    "There are some nodes that do not have labels so keep track of these as well just in case"
   ]
  },
  {
   "cell_type": "code",
   "execution_count": 19,
   "metadata": {},
   "outputs": [],
   "source": [
    "dataBrain = loadMNC(pathBrain)\n",
    "dataLabels = loadMNC(pathLabels)"
   ]
  },
  {
   "cell_type": "code",
   "execution_count": 20,
   "metadata": {},
   "outputs": [
    {
     "data": {
      "text/plain": [
       "(141L, 274L, 210L)"
      ]
     },
     "execution_count": 20,
     "metadata": {},
     "output_type": "execute_result"
    }
   ],
   "source": [
    "dataBrain.shape"
   ]
  },
  {
   "cell_type": "code",
   "execution_count": 21,
   "metadata": {},
   "outputs": [
    {
     "data": {
      "text/plain": [
       "(141L, 274L, 210L)"
      ]
     },
     "execution_count": 21,
     "metadata": {},
     "output_type": "execute_result"
    }
   ],
   "source": [
    "dataLabels.shape"
   ]
  },
  {
   "cell_type": "markdown",
   "metadata": {},
   "source": [
    "So we see that the two shapes are the same and we can continue."
   ]
  },
  {
   "cell_type": "markdown",
   "metadata": {},
   "source": [
    "# Show Slice"
   ]
  },
  {
   "cell_type": "code",
   "execution_count": 30,
   "metadata": {},
   "outputs": [
    {
     "data": {
      "image/png": "[encoded data removed]",
      "text/plain": [
       "<Figure size 432x288 with 1 Axes>"
      ]
     },
     "metadata": {
      "needs_background": "light"
     },
     "output_type": "display_data"
    }
   ],
   "source": [
    "brainSlice = 80\n",
    "showSlice(dataBrain[brainSlice,:,:])"
   ]
  },
  {
   "cell_type": "code",
   "execution_count": 31,
   "metadata": {},
   "outputs": [
    {
     "data": {
      "image/png": "[encoded data removed]",
      "text/plain": [
       "<Figure size 432x288 with 1 Axes>"
      ]
     },
     "metadata": {
      "needs_background": "light"
     },
     "output_type": "display_data"
    }
   ],
   "source": [
    "labelSlice = 80\n",
    "showSlice(dataLabels[labelSlice,:,:])"
   ]
  },
  {
   "cell_type": "code",
   "execution_count": 32,
   "metadata": {},
   "outputs": [
    {
     "data": {
      "text/plain": [
       "60.0"
      ]
     },
     "execution_count": 32,
     "metadata": {},
     "output_type": "execute_result"
    }
   ],
   "source": [
    "np.max(dataLabels[labelSlice,:,:])"
   ]
  },
  {
   "cell_type": "code",
   "execution_count": 33,
   "metadata": {},
   "outputs": [],
   "source": [
    "labelSliceImage = dataLabels[labelSlice,:,:]"
   ]
  },
  {
   "cell_type": "code",
   "execution_count": 41,
   "metadata": {},
   "outputs": [],
   "source": [
    "a = labelSliceImage.ravel()"
   ]
  },
  {
   "cell_type": "code",
   "execution_count": 58,
   "metadata": {},
   "outputs": [],
   "source": [
    "unraveledImage = labelSliceImage.ravel()"
   ]
  },
  {
   "cell_type": "code",
   "execution_count": 59,
   "metadata": {},
   "outputs": [
    {
     "data": {
      "text/plain": [
       "(array([  3.30210000e+04,   4.80900000e+03,   4.71000000e+03,\n",
       "          0.00000000e+00,   4.38100000e+03,   2.02600000e+03,\n",
       "          1.22700000e+03,   2.46900000e+03,   5.58000000e+02,\n",
       "          3.10000000e+01,   8.54000000e+02,   1.79000000e+02,\n",
       "          4.85000000e+02,   8.80000000e+01,   0.00000000e+00,\n",
       "          0.00000000e+00,   4.60000000e+01,   3.90000000e+01,\n",
       "          0.00000000e+00,   5.40000000e+01,   0.00000000e+00,\n",
       "          0.00000000e+00,   4.20000000e+01,   0.00000000e+00,\n",
       "          0.00000000e+00,   2.30000000e+01,   1.30000000e+01,\n",
       "          0.00000000e+00,   0.00000000e+00,   0.00000000e+00,\n",
       "          0.00000000e+00,   0.00000000e+00,   0.00000000e+00,\n",
       "          0.00000000e+00,   0.00000000e+00,   0.00000000e+00,\n",
       "          0.00000000e+00,   0.00000000e+00,   0.00000000e+00,\n",
       "          0.00000000e+00,   0.00000000e+00,   0.00000000e+00,\n",
       "          0.00000000e+00,   3.75000000e+02,   7.50000000e+01,\n",
       "          7.80000000e+01,   6.40000000e+01,   8.70000000e+02,\n",
       "          2.19000000e+02,   1.13000000e+02,   0.00000000e+00,\n",
       "          0.00000000e+00,   0.00000000e+00,   9.70000000e+01,\n",
       "          3.98000000e+02,   2.00000000e+00,   5.60000000e+01,\n",
       "          0.00000000e+00,   0.00000000e+00,   1.38000000e+02]),\n",
       " array([  0.,   1.,   2.,   3.,   4.,   5.,   6.,   7.,   8.,   9.,  10.,\n",
       "         11.,  12.,  13.,  14.,  15.,  16.,  17.,  18.,  19.,  20.,  21.,\n",
       "         22.,  23.,  24.,  25.,  26.,  27.,  28.,  29.,  30.,  31.,  32.,\n",
       "         33.,  34.,  35.,  36.,  37.,  38.,  39.,  40.,  41.,  42.,  43.,\n",
       "         44.,  45.,  46.,  47.,  48.,  49.,  50.,  51.,  52.,  53.,  54.,\n",
       "         55.,  56.,  57.,  58.,  59.,  60.]),\n",
       " <a list of 60 Patch objects>)"
      ]
     },
     "execution_count": 59,
     "metadata": {},
     "output_type": "execute_result"
    },
    {
     "data": {
      "image/png": "[encoded data removed]",
      "text/plain": [
       "<Figure size 432x288 with 1 Axes>"
      ]
     },
     "metadata": {
      "needs_background": "light"
     },
     "output_type": "display_data"
    }
   ],
   "source": [
    "plt.hist(unraveledImage, bins=60, range=(0,60))"
   ]
  },
  {
   "cell_type": "markdown",
   "metadata": {},
   "source": [
    "This looks all right it seems.  Let us create a mask now using this information.  Let us use two in this case.  So make everything zero except for 2."
   ]
  },
  {
   "cell_type": "code",
   "execution_count": 60,
   "metadata": {},
   "outputs": [],
   "source": [
    "labelSliceImageMask = np.copy(labelSliceImage)"
   ]
  },
  {
   "cell_type": "code",
   "execution_count": 64,
   "metadata": {},
   "outputs": [],
   "source": [
    "labelSliceImageMask[np.where(labelSliceImage==2)] = 2\n",
    "labelSliceImageMask[np.where(labelSliceImage!=2)] = 0"
   ]
  },
  {
   "cell_type": "code",
   "execution_count": 65,
   "metadata": {},
   "outputs": [],
   "source": [
    "unraveledlabelSliceImageMask = labelSliceImageMask.ravel()"
   ]
  },
  {
   "cell_type": "code",
   "execution_count": 66,
   "metadata": {},
   "outputs": [
    {
     "data": {
      "text/plain": [
       "(array([ 52830.,      0.,   4710.,      0.,      0.,      0.,      0.,\n",
       "             0.,      0.,      0.,      0.,      0.,      0.,      0.,\n",
       "             0.,      0.,      0.,      0.,      0.,      0.,      0.,\n",
       "             0.,      0.,      0.,      0.,      0.,      0.,      0.,\n",
       "             0.,      0.,      0.,      0.,      0.,      0.,      0.,\n",
       "             0.,      0.,      0.,      0.,      0.,      0.,      0.,\n",
       "             0.,      0.,      0.,      0.,      0.,      0.,      0.,\n",
       "             0.,      0.,      0.,      0.,      0.,      0.,      0.,\n",
       "             0.,      0.,      0.,      0.]),\n",
       " array([  0.,   1.,   2.,   3.,   4.,   5.,   6.,   7.,   8.,   9.,  10.,\n",
       "         11.,  12.,  13.,  14.,  15.,  16.,  17.,  18.,  19.,  20.,  21.,\n",
       "         22.,  23.,  24.,  25.,  26.,  27.,  28.,  29.,  30.,  31.,  32.,\n",
       "         33.,  34.,  35.,  36.,  37.,  38.,  39.,  40.,  41.,  42.,  43.,\n",
       "         44.,  45.,  46.,  47.,  48.,  49.,  50.,  51.,  52.,  53.,  54.,\n",
       "         55.,  56.,  57.,  58.,  59.,  60.]),\n",
       " <a list of 60 Patch objects>)"
      ]
     },
     "execution_count": 66,
     "metadata": {},
     "output_type": "execute_result"
    },
    {
     "data": {
      "image/png": "[encoded data removed]",
      "text/plain": [
       "<Figure size 432x288 with 1 Axes>"
      ]
     },
     "metadata": {
      "needs_background": "light"
     },
     "output_type": "display_data"
    }
   ],
   "source": [
    "plt.hist(unraveledlabelSliceImageMask, bins=60, range=(0,60))"
   ]
  },
  {
   "cell_type": "markdown",
   "metadata": {},
   "source": [
    "Now let us image this"
   ]
  },
  {
   "cell_type": "code",
   "execution_count": 71,
   "metadata": {},
   "outputs": [
    {
     "data": {
      "image/png": "[encoded data removed]",
      "text/plain": [
       "<Figure size 432x288 with 1 Axes>"
      ]
     },
     "metadata": {
      "needs_background": "light"
     },
     "output_type": "display_data"
    }
   ],
   "source": [
    "showSlice(labelSliceImageMask)"
   ]
  },
  {
   "cell_type": "markdown",
   "metadata": {},
   "source": [
    "Alright this looks perfect."
   ]
  },
  {
   "cell_type": "code",
   "execution_count": null,
   "metadata": {},
   "outputs": [],
   "source": []
  },
  {
   "cell_type": "code",
   "execution_count": null,
   "metadata": {},
   "outputs": [],
   "source": []
  },
  {
   "cell_type": "markdown",
   "metadata": {},
   "source": [
    "# Segmentation"
   ]
  },
  {
   "cell_type": "markdown",
   "metadata": {},
   "source": [
    "Crude segmentation when we have the labels:\n",
    "1. Obtain label slice and data slice\n",
    "2. create mask of the label\n",
    "3. multiply mask and data\n",
    "4. store new masked data\n",
    "5. repeat for all slices"
   ]
  },
  {
   "cell_type": "markdown",
   "metadata": {},
   "source": [
    "- dataBrain = variable containing the data\n",
    "- dataLabels = varible containg the labels"
   ]
  },
  {
   "cell_type": "code",
   "execution_count": 78,
   "metadata": {},
   "outputs": [],
   "source": [
    "dataBrainSegmented = np.zeros(dataBrain.shape)\n",
    "areaInd = 2\n",
    "\n",
    "# looping paramters\n",
    "# this will be the cerebellum\n",
    "sliceInd = 80\n",
    "\n",
    "# obtain working slice\n",
    "currentDataSlice = np.copy(dataBrain[sliceInd,:,:])\n",
    "currentLabelSlice = np.copy(dataLabels[sliceInd,:,:])\n",
    "\n",
    "# create the masks\n",
    "currentLabelSlice[np.where(currentLabelSlice!=areaInd)] = 0\n",
    "currentLabelSlice[np.where(currentLabelSlice==areaInd)] = 1\n",
    "\n",
    "# apply mask\n",
    "maskedData = currentLabelSlice * currentDataSlice\n",
    "\n",
    "# store mask in the volumetric data"
   ]
  },
  {
   "cell_type": "code",
   "execution_count": 81,
   "metadata": {},
   "outputs": [
    {
     "data": {
      "text/plain": [
       "Text(0.5,1,'Segmented MR Scan')"
      ]
     },
     "execution_count": 81,
     "metadata": {},
     "output_type": "execute_result"
    },
    {
     "data": {
      "image/png": "[encoded data removed]",
      "text/plain": [
       "<Figure size 432x288 with 3 Axes>"
      ]
     },
     "metadata": {
      "needs_background": "light"
     },
     "output_type": "display_data"
    }
   ],
   "source": [
    "plt.subplot(1,3,1)\n",
    "showSlice(currentDataSlice)\n",
    "plt.title('Original MR Scan')\n",
    "plt.subplot(1,3,2)\n",
    "showSlice(currentLabelSlice)\n",
    "plt.title('Mask')\n",
    "plt.subplot(1,3,3)\n",
    "showSlice(maskedData)\n",
    "plt.title('Segmented MR Scan')"
   ]
  },
  {
   "cell_type": "markdown",
   "metadata": {},
   "source": [
    "This looks very promising so let us apply this to the entire volumetric data "
   ]
  },
  {
   "cell_type": "code",
   "execution_count": 83,
   "metadata": {},
   "outputs": [
    {
     "name": "stdout",
     "output_type": "stream",
     "text": [
      "Now applying mask to slice 0\n",
      "Now applying mask to slice 1\n",
      "Now applying mask to slice 2\n",
      "Now applying mask to slice 3\n",
      "Now applying mask to slice 4\n",
      "Now applying mask to slice 5\n",
      "Now applying mask to slice 6\n",
      "Now applying mask to slice 7\n",
      "Now applying mask to slice 8\n",
      "Now applying mask to slice 9\n",
      "Now applying mask to slice 10\n",
      "Now applying mask to slice 11\n",
      "Now applying mask to slice 12\n",
      "Now applying mask to slice 13\n",
      "Now applying mask to slice 14\n",
      "Now applying mask to slice 15\n",
      "Now applying mask to slice 16\n",
      "Now applying mask to slice 17\n",
      "Now applying mask to slice 18\n",
      "Now applying mask to slice 19\n",
      "Now applying mask to slice 20\n",
      "Now applying mask to slice 21\n",
      "Now applying mask to slice 22\n",
      "Now applying mask to slice 23\n",
      "Now applying mask to slice 24\n",
      "Now applying mask to slice 25\n",
      "Now applying mask to slice 26\n",
      "Now applying mask to slice 27\n",
      "Now applying mask to slice 28\n",
      "Now applying mask to slice 29\n",
      "Now applying mask to slice 30\n",
      "Now applying mask to slice 31\n",
      "Now applying mask to slice 32\n",
      "Now applying mask to slice 33\n",
      "Now applying mask to slice 34\n",
      "Now applying mask to slice 35\n",
      "Now applying mask to slice 36\n",
      "Now applying mask to slice 37\n",
      "Now applying mask to slice 38\n",
      "Now applying mask to slice 39\n",
      "Now applying mask to slice 40\n",
      "Now applying mask to slice 41\n",
      "Now applying mask to slice 42\n",
      "Now applying mask to slice 43\n",
      "Now applying mask to slice 44\n",
      "Now applying mask to slice 45\n",
      "Now applying mask to slice 46\n",
      "Now applying mask to slice 47\n",
      "Now applying mask to slice 48\n",
      "Now applying mask to slice 49\n",
      "Now applying mask to slice 50\n",
      "Now applying mask to slice 51\n",
      "Now applying mask to slice 52\n",
      "Now applying mask to slice 53\n",
      "Now applying mask to slice 54\n",
      "Now applying mask to slice 55\n",
      "Now applying mask to slice 56\n",
      "Now applying mask to slice 57\n",
      "Now applying mask to slice 58\n",
      "Now applying mask to slice 59\n",
      "Now applying mask to slice 60\n",
      "Now applying mask to slice 61\n",
      "Now applying mask to slice 62\n",
      "Now applying mask to slice 63\n",
      "Now applying mask to slice 64\n",
      "Now applying mask to slice 65\n",
      "Now applying mask to slice 66\n",
      "Now applying mask to slice 67\n",
      "Now applying mask to slice 68\n",
      "Now applying mask to slice 69\n",
      "Now applying mask to slice 70\n",
      "Now applying mask to slice 71\n",
      "Now applying mask to slice 72\n",
      "Now applying mask to slice 73\n",
      "Now applying mask to slice 74\n",
      "Now applying mask to slice 75\n",
      "Now applying mask to slice 76\n",
      "Now applying mask to slice 77\n",
      "Now applying mask to slice 78\n",
      "Now applying mask to slice 79\n",
      "Now applying mask to slice 80\n",
      "Now applying mask to slice 81\n",
      "Now applying mask to slice 82\n",
      "Now applying mask to slice 83\n",
      "Now applying mask to slice 84\n",
      "Now applying mask to slice 85\n",
      "Now applying mask to slice 86\n",
      "Now applying mask to slice 87\n",
      "Now applying mask to slice 88\n",
      "Now applying mask to slice 89\n",
      "Now applying mask to slice 90\n",
      "Now applying mask to slice 91\n",
      "Now applying mask to slice 92\n",
      "Now applying mask to slice 93\n",
      "Now applying mask to slice 94\n",
      "Now applying mask to slice 95\n",
      "Now applying mask to slice 96\n",
      "Now applying mask to slice 97\n",
      "Now applying mask to slice 98\n",
      "Now applying mask to slice 99\n",
      "Now applying mask to slice 100\n",
      "Now applying mask to slice 101\n",
      "Now applying mask to slice 102\n",
      "Now applying mask to slice 103\n",
      "Now applying mask to slice 104\n",
      "Now applying mask to slice 105\n",
      "Now applying mask to slice 106\n",
      "Now applying mask to slice 107\n",
      "Now applying mask to slice 108\n",
      "Now applying mask to slice 109\n",
      "Now applying mask to slice 110\n",
      "Now applying mask to slice 111\n",
      "Now applying mask to slice 112\n",
      "Now applying mask to slice 113\n",
      "Now applying mask to slice 114\n",
      "Now applying mask to slice 115\n",
      "Now applying mask to slice 116\n",
      "Now applying mask to slice 117\n",
      "Now applying mask to slice 118\n",
      "Now applying mask to slice 119\n",
      "Now applying mask to slice 120\n",
      "Now applying mask to slice 121\n",
      "Now applying mask to slice 122\n",
      "Now applying mask to slice 123\n",
      "Now applying mask to slice 124\n",
      "Now applying mask to slice 125\n",
      "Now applying mask to slice 126\n",
      "Now applying mask to slice 127\n",
      "Now applying mask to slice 128\n",
      "Now applying mask to slice 129\n",
      "Now applying mask to slice 130\n",
      "Now applying mask to slice 131\n",
      "Now applying mask to slice 132\n",
      "Now applying mask to slice 133\n",
      "Now applying mask to slice 134\n",
      "Now applying mask to slice 135\n",
      "Now applying mask to slice 136\n",
      "Now applying mask to slice 137\n",
      "Now applying mask to slice 138\n",
      "Now applying mask to slice 139\n",
      "Now applying mask to slice 140\n"
     ]
    }
   ],
   "source": [
    "numSlice,xdim,ydim = dataBrain.shape\n",
    "dataBrainSegmented = np.zeros(dataBrain.shape)\n",
    "areaInd = 2\n",
    "outDir = 'C://Cerebral//_MarioSandBox//DB//medicalHolography//Animal Brains//UofTLabeledData//SegmentedCerebellum//'\n",
    "\n",
    "for sliceInd in xrange(numSlice):\n",
    "    print('Now applying mask to slice {}'.format(sliceInd))\n",
    "    # looping paramters\n",
    "    # this will be the cerebellum\n",
    "    # sliceInd = 80\n",
    "\n",
    "    # obtain working slice\n",
    "    currentDataSlice = np.copy(dataBrain[sliceInd,:,:])\n",
    "    currentLabelSlice = np.copy(dataLabels[sliceInd,:,:])\n",
    "\n",
    "    # create the masks\n",
    "    currentLabelSlice[np.where(currentLabelSlice!=areaInd)] = 0\n",
    "    currentLabelSlice[np.where(currentLabelSlice==areaInd)] = 1\n",
    "\n",
    "    # apply mask\n",
    "    maskedData = currentLabelSlice * currentDataSlice\n",
    "\n",
    "    # store mask in the volumetric data\n",
    "    dataBrainSegmented[sliceInd,:,:] = maskedData\n",
    "    \n",
    "    scipy.misc.imsave(outDir+'{}.jpg'.format(sliceInd), image_array)"
   ]
  },
  {
   "cell_type": "code",
   "execution_count": 90,
   "metadata": {},
   "outputs": [
    {
     "data": {
      "image/png": "[encoded data removed]",
      "text/plain": [
       "<Figure size 432x288 with 1 Axes>"
      ]
     },
     "metadata": {
      "needs_background": "light"
     },
     "output_type": "display_data"
    }
   ],
   "source": [
    "showSlice(dataBrainSegmented[100,:,:])"
   ]
  },
  {
   "cell_type": "code",
   "execution_count": null,
   "metadata": {},
   "outputs": [],
   "source": []
  }
 ],
 "metadata": {
  "kernelspec": {
   "display_name": "Python 2",
   "language": "python",
   "name": "python2"
  },
  "language_info": {
   "codemirror_mode": {
    "name": "ipython",
    "version": 2
   },
   "file_extension": ".py",
   "mimetype": "text/x-python",
   "name": "python",
   "nbconvert_exporter": "python",
   "pygments_lexer": "ipython2",
   "version": "2.7.15"
  },
  "latex_envs": {
   "LaTeX_envs_menu_present": true,
   "autoclose": false,
   "autocomplete": true,
   "bibliofile": "biblio.bib",
   "cite_by": "apalike",
   "current_citInitial": 1,
   "eqLabelWithNumbers": true,
   "eqNumInitial": 1,
   "hotkeys": {
    "equation": "Ctrl-E",
    "itemize": "Ctrl-I"
   },
   "labels_anchors": false,
   "latex_user_defs": false,
   "report_style_numbering": false,
   "user_envs_cfg": false
  }
 },
 "nbformat": 4,
 "nbformat_minor": 2
}
