{
 "cells": [
  {
   "cell_type": "markdown",
   "metadata": {},
   "source": [
    "# Background\n"
   ]
  },
  {
   "cell_type": "markdown",
   "metadata": {},
   "source": [
    "Loop through the entire segmented area and generate all the models."
   ]
  },
  {
   "cell_type": "markdown",
   "metadata": {},
   "source": [
    "I found the database here:\n",
    " - [NeuroMouse Project](http://phm.utoronto.ca/~jeffh/surgical.htm)\n",
    " - [Back to Mouse Atlas Variational Mouse Brain Atlas](http://localhost:8888/notebooks/notebooks/Segmentation/Dataset%20-%20Mouse%20Brain%20and%20Labels%20V02.ipynb) This is the other toronto based atlas.  hopefully the labels here are accurate.\n",
    " "
   ]
  },
  {
   "cell_type": "markdown",
   "metadata": {},
   "source": [
    "# Imports"
   ]
  },
  {
   "cell_type": "code",
   "execution_count": 1,
   "metadata": {},
   "outputs": [
    {
     "name": "stdout",
     "output_type": "stream",
     "text": [
      "Populating the interactive namespace from numpy and matplotlib\n"
     ]
    }
   ],
   "source": [
    "import nibabel as nib  \n",
    "import numpy\n",
    "import matplotlib.pyplot as plt\n",
    "%pylab inline\n",
    "from IPython.display import Image"
   ]
  },
  {
   "cell_type": "code",
   "execution_count": 2,
   "metadata": {},
   "outputs": [],
   "source": [
    "import scipy.misc\n",
    "from skimage import measure"
   ]
  },
  {
   "cell_type": "code",
   "execution_count": 3,
   "metadata": {},
   "outputs": [],
   "source": [
    "# for this module the stl is now depricated\n",
    "# pip install numpy-stl\n",
    "from stl import mesh"
   ]
  },
  {
   "cell_type": "code",
   "execution_count": 4,
   "metadata": {},
   "outputs": [],
   "source": [
    "from mpl_toolkits.mplot3d.art3d import Poly3DCollection"
   ]
  },
  {
   "cell_type": "markdown",
   "metadata": {},
   "source": [
    "# Functions"
   ]
  },
  {
   "cell_type": "code",
   "execution_count": 5,
   "metadata": {},
   "outputs": [],
   "source": [
    "def loadMNC(filepath):\n",
    "    img = nib.load(filepath)\n",
    "    data = img.get_data()\n",
    "    return data"
   ]
  },
  {
   "cell_type": "code",
   "execution_count": 6,
   "metadata": {},
   "outputs": [],
   "source": [
    "def showSlice(data):\n",
    "    plt.set_cmap(\"gray\")\n",
    "    plt.imshow(data)"
   ]
  },
  {
   "cell_type": "code",
   "execution_count": 7,
   "metadata": {},
   "outputs": [],
   "source": [
    "def getLabelInfo(labelArray,index):\n",
    "    try:\n",
    "        print(labelArray[index])\n",
    "    except:\n",
    "        print(\"{} is too large the there are only {} labels including 0 index\".format(index,len(labelArray)-1))\n",
    "    "
   ]
  },
  {
   "cell_type": "code",
   "execution_count": 8,
   "metadata": {},
   "outputs": [],
   "source": [
    "def make_mesh(image, threshold=-300, step_size=1):\n",
    "#     print \"Transposing surface\"\n",
    "    p = image.transpose(2,1,0)\n",
    "    \n",
    "#     print \"Calculating surface\"\n",
    "    try:\n",
    "        verts, faces = measure.marching_cubes(p, threshold) \n",
    "    except:\n",
    "        verts, faces = measure.marching_cubes_classic(p, threshold)         \n",
    "    return verts, faces"
   ]
  },
  {
   "cell_type": "code",
   "execution_count": null,
   "metadata": {},
   "outputs": [],
   "source": []
  },
  {
   "cell_type": "markdown",
   "metadata": {},
   "source": [
    "# Parameters"
   ]
  },
  {
   "cell_type": "code",
   "execution_count": 9,
   "metadata": {},
   "outputs": [],
   "source": [
    "# Directory locations\n",
    "pathBrain = \"C://Cerebral//_MarioSandBox//DB//medicalHolography//Animal Brains//UofTLabeledData//129SV_atlas.mnc\"\n",
    "pathLabels = \"C://Cerebral//_MarioSandBox//DB//medicalHolography//Animal Brains//UofTLabeledData//129SV_atlas_labelling.mnc\"\n",
    "pathLabelInfo = \"C://Cerebral//_MarioSandBox//DB//medicalHolography//Animal Brains//UofTLabeledData//129SV_atlas_labelling_names.txt\""
   ]
  },
  {
   "cell_type": "code",
   "execution_count": 10,
   "metadata": {},
   "outputs": [],
   "source": [
    "areaInd = 3 # Use the text file \"129SV_atlas_labelling_names.txt\" to select the approriate area you want to create an STL of \n",
    "outDir = 'C://Cerebral//_MarioSandBox//DB//medicalHolography//Animal Brains//UofTLabeledData//Segmented//'"
   ]
  },
  {
   "cell_type": "code",
   "execution_count": null,
   "metadata": {},
   "outputs": [],
   "source": []
  },
  {
   "cell_type": "markdown",
   "metadata": {},
   "source": [
    "# Reading File"
   ]
  },
  {
   "cell_type": "markdown",
   "metadata": {},
   "source": [
    "Read the label informaiton and place it in an array for easy viewing later"
   ]
  },
  {
   "cell_type": "code",
   "execution_count": 21,
   "metadata": {},
   "outputs": [],
   "source": [
    "labelInfo = []\n",
    "\n",
    "f = open(pathLabelInfo, \"r\") \n",
    "for line in f: \n",
    "    labelInfo.append(line)\n",
    "#     print line "
   ]
  },
  {
   "cell_type": "code",
   "execution_count": 12,
   "metadata": {
    "scrolled": true
   },
   "outputs": [
    {
     "name": "stdout",
     "output_type": "stream",
     "text": [
      "3 brain_stem\n",
      "\n"
     ]
    }
   ],
   "source": [
    "getLabelInfo(labelInfo,areaInd-1)"
   ]
  },
  {
   "cell_type": "markdown",
   "metadata": {},
   "source": [
    "There are some nodes that do not have labels so keep track of these as well just in case"
   ]
  },
  {
   "cell_type": "code",
   "execution_count": 13,
   "metadata": {},
   "outputs": [],
   "source": [
    "dataBrain = loadMNC(pathBrain)\n",
    "dataLabels = loadMNC(pathLabels)"
   ]
  },
  {
   "cell_type": "markdown",
   "metadata": {},
   "source": [
    "# Segmentation"
   ]
  },
  {
   "cell_type": "markdown",
   "metadata": {},
   "source": [
    "Crude segmentation when we have the labels:\n",
    "1. Obtain label slice and data slice\n",
    "2. create mask of the label\n",
    "3. multiply mask and data\n",
    "4. store new masked data\n",
    "5. repeat for all slices"
   ]
  },
  {
   "cell_type": "markdown",
   "metadata": {},
   "source": [
    "- dataBrain = variable containing the data\n",
    "- dataLabels = varible containg the labels"
   ]
  },
  {
   "cell_type": "code",
   "execution_count": 14,
   "metadata": {},
   "outputs": [
    {
     "data": {
      "text/plain": [
       "43"
      ]
     },
     "execution_count": 14,
     "metadata": {},
     "output_type": "execute_result"
    }
   ],
   "source": [
    "len(labelInfo)"
   ]
  },
  {
   "cell_type": "code",
   "execution_count": 15,
   "metadata": {},
   "outputs": [],
   "source": [
    "labelInfoLine = labelInfo[0]"
   ]
  },
  {
   "cell_type": "code",
   "execution_count": null,
   "metadata": {},
   "outputs": [],
   "source": []
  },
  {
   "cell_type": "code",
   "execution_count": null,
   "metadata": {},
   "outputs": [],
   "source": []
  },
  {
   "cell_type": "code",
   "execution_count": 18,
   "metadata": {},
   "outputs": [
    {
     "name": "stdout",
     "output_type": "stream",
     "text": [
      "Now processing 1 cortex\n",
      "\n",
      "Now processing 2 cerebellum\n",
      "\n",
      "Now processing 3 brain_stem\n",
      "\n",
      "Now processing 4 diencephalon\n",
      "\n",
      "Now processing 5 olfactory_bulbs\n",
      "\n",
      "Now processing 6 hippocampus\n",
      "\n",
      "Now processing 7 striatum\n",
      "\n",
      "Now processing 8 corpus_callosum\n",
      "\n",
      "Now processing 9 superior_colliculus\n",
      "\n",
      "Now processing 10 periaqueductal_gray\n",
      "\n",
      "Now processing 11 fimbria\n",
      "\n",
      "Now processing 12 internal_capsule\n",
      "\n",
      "Now processing 13 dentate_gyrus\n",
      "\n",
      "Now processing 14 cerebral_penduncle\n",
      "\n",
      "Now processing 15 anterior_commissure_pars_anterior\n",
      "\n",
      "Now processing 16 optic_tract\n",
      "\n",
      "Now processing 17 stria_medullaris_thalami\n",
      "\n",
      "Now processing 18 medial_lemniscus_longitudinal_fasciculus\n",
      "\n",
      "Now processing 19 medial_lemniscus\n",
      "\n",
      "Now processing 20 facial_nerve \n",
      "\n",
      "Now processing 21 mammilothalamic_tract\n",
      "\n",
      "Now processing 22 fornix\n",
      "\n",
      "Now processing 23 anterior_commissure_pars_posterior\n",
      "\n",
      "Now processing 25 habenulo_peduncular_tract \n",
      "\n",
      "Now processing 26 posterior_commissure\n",
      "\n",
      "Now processing 43 inferior_cilliculus\n",
      "\n",
      "Now processing 44 globus_pallidus\n",
      "\n",
      "Now processing 45 lateral_ventricles\n",
      "\n",
      "Now processing 46 3rd_and 4th_ventricle_cerebral_acquaduct \n",
      "\n"
     ]
    },
    {
     "ename": "ValueError",
     "evalue": "too many values to unpack",
     "output_type": "error",
     "traceback": [
      "\u001b[1;31m---------------------------------------------------------------------------\u001b[0m",
      "\u001b[1;31mValueError\u001b[0m                                Traceback (most recent call last)",
      "\u001b[1;32m<ipython-input-18-0e25b04736c2>\u001b[0m in \u001b[0;36m<module>\u001b[1;34m()\u001b[0m\n\u001b[0;32m      2\u001b[0m \u001b[1;33m\u001b[0m\u001b[0m\n\u001b[0;32m      3\u001b[0m     \u001b[1;32mprint\u001b[0m\u001b[1;33m(\u001b[0m\u001b[1;34m'Now processing {}'\u001b[0m\u001b[1;33m.\u001b[0m\u001b[0mformat\u001b[0m\u001b[1;33m(\u001b[0m\u001b[0mareaOfInterest\u001b[0m\u001b[1;33m)\u001b[0m\u001b[1;33m)\u001b[0m\u001b[1;33m\u001b[0m\u001b[0m\n\u001b[1;32m----> 4\u001b[1;33m     \u001b[0mareaInd\u001b[0m\u001b[1;33m,\u001b[0m\u001b[0mlocationName\u001b[0m \u001b[1;33m=\u001b[0m \u001b[0mareaOfInterest\u001b[0m\u001b[1;33m.\u001b[0m\u001b[0msplit\u001b[0m\u001b[1;33m(\u001b[0m\u001b[1;33m)\u001b[0m\u001b[1;33m\u001b[0m\u001b[0m\n\u001b[0m\u001b[0;32m      5\u001b[0m \u001b[1;33m\u001b[0m\u001b[0m\n\u001b[0;32m      6\u001b[0m     \u001b[0mareaInd\u001b[0m \u001b[1;33m=\u001b[0m \u001b[0mint\u001b[0m\u001b[1;33m(\u001b[0m\u001b[0mareaInd\u001b[0m\u001b[1;33m)\u001b[0m\u001b[1;33m\u001b[0m\u001b[0m\n",
      "\u001b[1;31mValueError\u001b[0m: too many values to unpack"
     ]
    }
   ],
   "source": [
    "for areaOfInterest in labelInfo:\n",
    "    \n",
    "    print('Now processing {}'.format(areaOfInterest))\n",
    "    areaInd,locationName = areaOfInterest.split()\n",
    "    \n",
    "    areaInd = int(areaInd)\n",
    "    \n",
    "    numSlice,xdim,ydim = dataBrain.shape\n",
    "    \n",
    "    dataBrainSegmented = np.zeros(dataBrain.shape)\n",
    "\n",
    "    for sliceInd in xrange(numSlice):\n",
    "    #     print('Now applying mask to slice {}'.format(sliceInd))\n",
    "        # looping paramters\n",
    "        # this will be the cerebellum\n",
    "        # sliceInd = 80\n",
    "\n",
    "        # obtain working slice\n",
    "        currentDataSlice = np.copy(dataBrain[sliceInd,:,:])\n",
    "        currentLabelSlice = np.copy(dataLabels[sliceInd,:,:])\n",
    "\n",
    "        # create the masks\n",
    "        currentLabelSlice[np.where(currentLabelSlice!=areaInd)] = 0\n",
    "        currentLabelSlice[np.where(currentLabelSlice==areaInd)] = 1\n",
    "\n",
    "        # apply mask\n",
    "        maskedData = currentLabelSlice * currentDataSlice\n",
    "\n",
    "        # store mask in the volumetric data\n",
    "        dataBrainSegmented[sliceInd,:,:] = maskedData\n",
    "\n",
    "        # Save images    \n",
    "        #     scipy.misc.imsave(outDir+'{}.jpg'.format(sliceInd), maskedData)\n",
    "        # we are not doing this... we want to save them in an stl file instead of a stack of images\n",
    "\n",
    "    # Generate mesh\n",
    "    v, f = make_mesh(dataBrainSegmented,0.0)\n",
    "\n",
    "    # generate volume\n",
    "    veins = mesh.Mesh(np.zeros(f.shape[0], dtype=mesh.Mesh.dtype))\n",
    "\n",
    "    for i, f in enumerate(f):\n",
    "        for j in range(3):\n",
    "            veins.vectors[i][j] = v[f[j],:]\n",
    "\n",
    "    # save volume\n",
    "    outSTLDir = 'C://Cerebral//_MarioSandBox//DB//medicalHolography//Animal Brains//UofTLabeledData//Segmented//'\n",
    "    veins.save(outSTLDir+locationName+'.stl')\n",
    "    "
   ]
  },
  {
   "cell_type": "markdown",
   "metadata": {},
   "source": [
    "There was a problem with the spacing in the text file but this was fixed using the following code."
   ]
  },
  {
   "cell_type": "code",
   "execution_count": 28,
   "metadata": {},
   "outputs": [
    {
     "name": "stdout",
     "output_type": "stream",
     "text": [
      "Now processing 46 3rd_and_4th_ventricle_cerebral_acquaduct \n",
      "\n",
      "Now processing 47 arbor_vita\n",
      "\n",
      "Now processing 48 pre_para_subiculum\n",
      "\n",
      "Now processing 49 UD1 \n",
      "\n",
      "Now processing 50 UD2 \n",
      "\n",
      "Now processing 51 amygdaloid_region_ventral \n",
      "\n",
      "Now processing 52 ventral_pallidm_&_medial_forebtain_bundle \n",
      "\n",
      "Now processing 53 medial_septum\n",
      "\n",
      "Now processing 54 lateral_septum\n",
      "\n",
      "Now processing 55 nucleus_accumbens_undefined_area \n",
      "\n",
      "Now processing 56 UD3\n",
      "\n",
      "Now processing 57 UD4 \n",
      "\n",
      "Now processing 58 amygdaloid_region_dorsal \n",
      "\n",
      "Now processing 59 stria_terminallis\n",
      "\n",
      "Now processing 60 UD5\n",
      "\n"
     ]
    }
   ],
   "source": [
    "counter = 0\n",
    "\n",
    "for areaOfInterest in labelInfo:\n",
    "    if counter>27:\n",
    "        print('Now processing {}'.format(areaOfInterest))\n",
    "        areaInd,locationName = areaOfInterest.split()\n",
    "\n",
    "        areaInd = int(areaInd)\n",
    "\n",
    "        numSlice,xdim,ydim = dataBrain.shape\n",
    "\n",
    "        dataBrainSegmented = np.zeros(dataBrain.shape)\n",
    "\n",
    "        for sliceInd in xrange(numSlice):\n",
    "        #     print('Now applying mask to slice {}'.format(sliceInd))\n",
    "            # looping paramters\n",
    "            # this will be the cerebellum\n",
    "            # sliceInd = 80\n",
    "\n",
    "            # obtain working slice\n",
    "            currentDataSlice = np.copy(dataBrain[sliceInd,:,:])\n",
    "            currentLabelSlice = np.copy(dataLabels[sliceInd,:,:])\n",
    "\n",
    "            # create the masks\n",
    "            currentLabelSlice[np.where(currentLabelSlice!=areaInd)] = 0\n",
    "            currentLabelSlice[np.where(currentLabelSlice==areaInd)] = 1\n",
    "\n",
    "            # apply mask\n",
    "            maskedData = currentLabelSlice * currentDataSlice\n",
    "\n",
    "            # store mask in the volumetric data\n",
    "            dataBrainSegmented[sliceInd,:,:] = maskedData\n",
    "\n",
    "            # Save images    \n",
    "            #     scipy.misc.imsave(outDir+'{}.jpg'.format(sliceInd), maskedData)\n",
    "            # we are not doing this... we want to save them in an stl file instead of a stack of images\n",
    "\n",
    "        # Generate mesh\n",
    "        v, f = make_mesh(dataBrainSegmented,0.0)\n",
    "\n",
    "        # generate volume\n",
    "        veins = mesh.Mesh(np.zeros(f.shape[0], dtype=mesh.Mesh.dtype))\n",
    "\n",
    "        for i, f in enumerate(f):\n",
    "            for j in range(3):\n",
    "                veins.vectors[i][j] = v[f[j],:]\n",
    "\n",
    "        # save volume\n",
    "        outSTLDir = 'C://Cerebral//_MarioSandBox//DB//medicalHolography//Animal Brains//UofTLabeledData//Segmented//'\n",
    "        veins.save(outSTLDir+locationName+'.stl')\n",
    "    \n",
    "    counter = counter +1"
   ]
  },
  {
   "cell_type": "code",
   "execution_count": null,
   "metadata": {},
   "outputs": [],
   "source": []
  },
  {
   "cell_type": "code",
   "execution_count": null,
   "metadata": {},
   "outputs": [],
   "source": []
  },
  {
   "cell_type": "code",
   "execution_count": null,
   "metadata": {},
   "outputs": [],
   "source": []
  },
  {
   "cell_type": "code",
   "execution_count": null,
   "metadata": {},
   "outputs": [],
   "source": []
  },
  {
   "cell_type": "code",
   "execution_count": null,
   "metadata": {},
   "outputs": [],
   "source": []
  }
 ],
 "metadata": {
  "kernelspec": {
   "display_name": "Python 2",
   "language": "python",
   "name": "python2"
  },
  "language_info": {
   "codemirror_mode": {
    "name": "ipython",
    "version": 2
   },
   "file_extension": ".py",
   "mimetype": "text/x-python",
   "name": "python",
   "nbconvert_exporter": "python",
   "pygments_lexer": "ipython2",
   "version": "2.7.15"
  },
  "latex_envs": {
   "LaTeX_envs_menu_present": true,
   "autoclose": false,
   "autocomplete": true,
   "bibliofile": "biblio.bib",
   "cite_by": "apalike",
   "current_citInitial": 1,
   "eqLabelWithNumbers": true,
   "eqNumInitial": 1,
   "hotkeys": {
    "equation": "Ctrl-E",
    "itemize": "Ctrl-I"
   },
   "labels_anchors": false,
   "latex_user_defs": false,
   "report_style_numbering": false,
   "user_envs_cfg": false
  }
 },
 "nbformat": 4,
 "nbformat_minor": 2
}
