{
 "cells": [
  {
   "cell_type": "markdown",
   "metadata": {},
   "source": [
    "# Goal"
   ]
  },
  {
   "cell_type": "markdown",
   "metadata": {},
   "source": [
    "The goal of this notebook is to perform automatic segmentation.\n",
    "\n",
    "- get only the brain\n",
    "- perform automatic segmentation\n",
    "\n",
    "Realized that this is extremely difficult so changing tactics and I am going to do it for each slice.\n",
    "\n",
    "This is done and it can be seen in the folder **JPG Stack Cortex Segmentation** located here:\n",
    "- **C:\\Cerebral\\_MarioSandBox\\DB\\medicalHolography\\Animal Brains\\Monkey\\JPG Stack Cortex Segmentation**"
   ]
  },
  {
   "cell_type": "markdown",
   "metadata": {},
   "source": [
    "# Background"
   ]
  },
  {
   "cell_type": "markdown",
   "metadata": {},
   "source": [
    "- [DB](http://www.chimpanzeebrain.org/mri-datasets-for-direct-download)\n",
    "- [Simple ITK Image Basics](http://simpleitk.github.io/SimpleITK-Notebooks/01_Image_Basics.html)\n",
    "\n",
    "I will try to following these VTK and ITK tutorials:\n",
    "- [Image Segmentation with Python and SimpleITK](https://pyscience.wordpress.com/2014/10/19/image-segmentation-with-python-and-simpleitk/)\n",
    "    - [Jupyter notebook](http://nbviewer.jupyter.org/urls/bitbucket.org/somada141/pyscience/raw/master/20141001_SegmentationSimpleITK/Material/SegmentationSimpleITK.ipynb)\n",
    "    \n",
    "Articles to read:\n",
    "- [MRI Segmentation of the Human Brain: Challenges, Methods, and Applications](https://www.ncbi.nlm.nih.gov/pmc/articles/PMC4402572/)\n",
    "- [Automatic Segmentation of Newborn Brain MRI](https://www.ncbi.nlm.nih.gov/pmc/articles/PMC2945911/)\n",
    "- [Methods on Skull Stripping of MRI Head Scan Images—a Review](https://www.ncbi.nlm.nih.gov/pmc/articles/PMC4879034/)"
   ]
  },
  {
   "cell_type": "markdown",
   "metadata": {},
   "source": [
    "# Imports"
   ]
  },
  {
   "cell_type": "code",
   "execution_count": 1,
   "metadata": {},
   "outputs": [
    {
     "name": "stdout",
     "output_type": "stream",
     "text": [
      "Populating the interactive namespace from numpy and matplotlib\n"
     ]
    }
   ],
   "source": [
    "import os\n",
    "import numpy\n",
    "import SimpleITK\n",
    "import matplotlib.pyplot as plt\n",
    "%pylab inline"
   ]
  },
  {
   "cell_type": "code",
   "execution_count": 2,
   "metadata": {},
   "outputs": [],
   "source": [
    "import scipy.ndimage\n",
    "import scipy.misc"
   ]
  },
  {
   "cell_type": "markdown",
   "metadata": {},
   "source": [
    "# Functions"
   ]
  },
  {
   "cell_type": "code",
   "execution_count": 3,
   "metadata": {},
   "outputs": [],
   "source": [
    "def sitk_show(img, title=None, margin=0.05, dpi=40 ):\n",
    "    nda = SimpleITK.GetArrayFromImage(img)\n",
    "    spacing = img.GetSpacing()\n",
    "    figsize = (1 + margin) * nda.shape[0] / dpi, (1 + margin) * nda.shape[1] / dpi\n",
    "    extent = (0, nda.shape[1]*spacing[1], nda.shape[0]*spacing[0], 0)\n",
    "    fig = plt.figure(figsize=figsize, dpi=dpi)\n",
    "    ax = fig.add_axes([margin, margin, 1 - 2*margin, 1 - 2*margin])\n",
    "\n",
    "    plt.set_cmap(\"gray\")\n",
    "    ax.imshow(nda,extent=extent,interpolation=None)\n",
    "    \n",
    "    if title:\n",
    "        plt.title(title)\n",
    "    \n",
    "    plt.show()"
   ]
  },
  {
   "cell_type": "code",
   "execution_count": 4,
   "metadata": {},
   "outputs": [],
   "source": [
    "def showSegmentation(sliceNum=90):\n",
    "    # Get slice\n",
    "    idxSlice = sliceNum\n",
    "    imgOriginal = image[:,:,idxSlice]\n",
    "\n",
    "    # Apply smoothing\n",
    "    imgSmooth = SimpleITK.CurvatureFlow(image1=imgOriginal,\n",
    "                                        timeStep=0.125,\n",
    "                                        numberOfIterations=5)\n",
    "    sitk_show(imgSmooth)\n",
    "\n",
    "    # Get segmentation\n",
    "    lstSeeds = [(75,60)]\n",
    "\n",
    "    imgWhiteMatter = SimpleITK.ConnectedThreshold(image1=imgSmooth, \n",
    "                                                  seedList=lstSeeds, \n",
    "                                                  lower=0, \n",
    "                                                  upper=40,\n",
    "                                                  replaceValue=labelWhiteMatter)\n",
    "\n",
    "    # Rescale 'imgSmooth' and cast it to an integer type to match that of 'imgWhiteMatter'\n",
    "    imgSmoothInt = SimpleITK.Cast(SimpleITK.RescaleIntensity(imgSmooth), imgWhiteMatter.GetPixelID())\n",
    "\n",
    "    # Use 'LabelOverlay' to overlay 'imgSmooth' and 'imgWhiteMatter'\n",
    "    sitk_show(SimpleITK.LabelOverlay(imgSmoothInt, imgWhiteMatter))\n",
    "\n",
    "    # show segmentation\n",
    "    sitk_show(imgWhiteMatter)"
   ]
  },
  {
   "cell_type": "code",
   "execution_count": null,
   "metadata": {},
   "outputs": [],
   "source": []
  },
  {
   "cell_type": "code",
   "execution_count": 79,
   "metadata": {},
   "outputs": [],
   "source": [
    "def getMask(sliceImage,pxlRanges):\n",
    "#     sliceImage = np.copy(grayMatterMask[:,:,50])\n",
    "    xLen,yLen = np.shape(sliceImage)\n",
    "#     pxlRanges = grayMatterRange\n",
    "    lower = pxlRanges[0]\n",
    "    upper = pxlRanges[1]\n",
    "\n",
    "    for x in xrange(xLen):\n",
    "        for y in xrange(yLen):        \n",
    "            if(sliceImage[x,y]>=lower and sliceImage[x,y]<=upper):                        \n",
    "                sliceImage[x,y] = 1.0\n",
    "            else:\n",
    "                sliceImage[x,y] = 0.0\n",
    "    \n",
    "    return sliceImage"
   ]
  },
  {
   "cell_type": "code",
   "execution_count": null,
   "metadata": {},
   "outputs": [],
   "source": []
  },
  {
   "cell_type": "markdown",
   "metadata": {},
   "source": [
    "# Parameters"
   ]
  },
  {
   "cell_type": "code",
   "execution_count": 5,
   "metadata": {},
   "outputs": [],
   "source": [
    "inpath = 'C://Cerebral//_MarioSandBox//DB//medicalHolography//Monkey//10 sample Chimpanzee 3T for NCBR website//Male_Fritz.nii'\n",
    "# inpath = \"C://Cerebral//_MarioSandBox//DB//medicalHolography//UofT Mouse Brain//C57brain.mnc\""
   ]
  },
  {
   "cell_type": "code",
   "execution_count": 6,
   "metadata": {},
   "outputs": [],
   "source": [
    "segmentationDir = 'C://Cerebral//_MarioSandBox//DB//medicalHolography//Animal Brains//Monkey//JPG Stack Cortex Segmentation//'"
   ]
  },
  {
   "cell_type": "code",
   "execution_count": 7,
   "metadata": {},
   "outputs": [],
   "source": [
    "# Z slice of the DICOM files to process. In the interest of\n",
    "# simplicity, segmentation will be limited to a single 2D\n",
    "# image but all processes are entirely applicable to the 3D image\n",
    "idxSlice = 50\n",
    "\n",
    "# int labels to assign to the segmented white and gray matter.\n",
    "# These need to be different integers but their values themselves\n",
    "# don't matter\n",
    "labelWhiteMatter = 1\n",
    "labelGrayMatter = 2"
   ]
  },
  {
   "cell_type": "markdown",
   "metadata": {},
   "source": [
    "# Reading Data"
   ]
  },
  {
   "cell_type": "markdown",
   "metadata": {},
   "source": [
    "Lets read the entire Dir into a 256 x 256 x num Slice array so that it is easier to navigate"
   ]
  },
  {
   "cell_type": "code",
   "execution_count": 15,
   "metadata": {},
   "outputs": [],
   "source": [
    "startSlice = 17\n",
    "endSlice = 105\n",
    "sliceInd = range(startSlice,endSlice+1)"
   ]
  },
  {
   "cell_type": "code",
   "execution_count": 19,
   "metadata": {},
   "outputs": [],
   "source": [
    "data = np.zeros((256,256,len(sliceInd)))"
   ]
  },
  {
   "cell_type": "code",
   "execution_count": 21,
   "metadata": {},
   "outputs": [
    {
     "name": "stderr",
     "output_type": "stream",
     "text": [
      "C:\\Users\\HP\\Anaconda2\\envs\\py27\\lib\\site-packages\\ipykernel_launcher.py:5: DeprecationWarning: `imread` is deprecated!\n",
      "`imread` is deprecated in SciPy 1.0.0.\n",
      "Use ``matplotlib.pyplot.imread`` instead.\n",
      "  \"\"\"\n"
     ]
    }
   ],
   "source": [
    "sliceNum = 0\n",
    "for ind in sliceInd:         \n",
    "    fileLocation = segmentationDir\n",
    "    fileName = '{}.jpg'.format(ind)\n",
    "    img = scipy.ndimage.imread(fileLocation+fileName)\n",
    "    try:\n",
    "        data[:,:,sliceNum] = img[:,:,0]\n",
    "    except:\n",
    "        data[:,:,sliceNum] = img\n",
    "    sliceNum = sliceNum+1"
   ]
  },
  {
   "cell_type": "markdown",
   "metadata": {},
   "source": [
    "Quick check to see if data is consistant"
   ]
  },
  {
   "cell_type": "code",
   "execution_count": 22,
   "metadata": {},
   "outputs": [
    {
     "data": {
      "text/plain": [
       "(256L, 256L, 89L)"
      ]
     },
     "execution_count": 22,
     "metadata": {},
     "output_type": "execute_result"
    }
   ],
   "source": [
    "np.shape(data)"
   ]
  },
  {
   "cell_type": "markdown",
   "metadata": {},
   "source": [
    "Let us look at a couple of slices "
   ]
  },
  {
   "cell_type": "code",
   "execution_count": 77,
   "metadata": {},
   "outputs": [
    {
     "data": {
      "text/plain": [
       "Text(0.5,1,'Showing Slice 85')"
      ]
     },
     "execution_count": 77,
     "metadata": {},
     "output_type": "execute_result"
    },
    {
     "data": {
      "image/png": "[encoded data removed]",
      "text/plain": [
       "<Figure size 432x288 with 3 Axes>"
      ]
     },
     "metadata": {
      "needs_background": "light"
     },
     "output_type": "display_data"
    }
   ],
   "source": [
    "plt.subplot(1,3,1)\n",
    "sliceShowInd = 15\n",
    "plt.set_cmap(\"gray\")\n",
    "plt.imshow(data[:,:,sliceShowInd])\n",
    "plt.title('Showing Slice {}'.format(sliceShowInd))\n",
    "plt.subplot(1,3,2)\n",
    "sliceShowInd = 50\n",
    "plt.set_cmap(\"gray\")\n",
    "plt.imshow(data[:,:,sliceShowInd])\n",
    "plt.title('Showing Slice {}'.format(sliceShowInd))\n",
    "plt.subplot(1,3,3)\n",
    "sliceShowInd = 85\n",
    "plt.set_cmap(\"gray\")\n",
    "plt.imshow(data[:,:,sliceShowInd])\n",
    "plt.title('Showing Slice {}'.format(sliceShowInd))"
   ]
  },
  {
   "cell_type": "markdown",
   "metadata": {},
   "source": [
    "This looks really good so far so now let us look at this histogram distribution.  Note that with out crude segmentation we thought the follow segmentation \n",
    "- Gray Matter : [90-200]\n",
    "- White Matter : [40-90]\n",
    "\n",
    "Let us see if these hold"
   ]
  },
  {
   "cell_type": "code",
   "execution_count": 31,
   "metadata": {},
   "outputs": [
    {
     "data": {
      "image/png": "[encoded data removed]",
      "text/plain": [
       "<Figure size 432x288 with 3 Axes>"
      ]
     },
     "metadata": {
      "needs_background": "light"
     },
     "output_type": "display_data"
    }
   ],
   "source": [
    "sliceShowInd = [15,50,85]\n",
    "count = 0\n",
    "\n",
    "for sInd in sliceShowInd:\n",
    "    plt.subplot(1,3,count+1)\n",
    "    # note that this is not from 0-256 but rather from 1 - 255 because we want to ignore the background\n",
    "    plt.hist(data[:,:,sInd].ravel(),256,[1,255]); \n",
    "    plt.title('Showing Hist of slice {}'.format(sInd))\n",
    "#     plt.show()   \n",
    "    \n",
    "    count = count + 1 "
   ]
  },
  {
   "cell_type": "markdown",
   "metadata": {},
   "source": [
    "This distribution is exactly what we'd expect when looking at the histogram.  There are 3 distict peaks which corresponds to \n",
    "- White Matter (WM)\n",
    "- Gray Matter (GM)\n",
    "- cerebrospinal fluid (CSF)\n",
    "\n",
    "see image below: \n",
    "\n",
    "![](https://openi.nlm.nih.gov/imgs/512/394/4402572/PMC4402572_CMMM2015-450341.008.png)"
   ]
  },
  {
   "cell_type": "markdown",
   "metadata": {},
   "source": [
    "Notice the inconsistency of each of the distribution in each of the slices.  In a perfect world you'd expect these to be all the same but they are not. Slice 85 in particular look like it has not white white matter but it does, but the image is just darker.  This means we have to perform histogram manipulation to perform proper segmentation.  But before we go into this let us use our previous visual inspection method and see if segmentation is adequate here. "
   ]
  },
  {
   "cell_type": "markdown",
   "metadata": {},
   "source": [
    "# Segmentation"
   ]
  },
  {
   "cell_type": "code",
   "execution_count": 82,
   "metadata": {},
   "outputs": [],
   "source": [
    "grayMatterRange = [90.0,255.0]\n",
    "whiteMatterRange = [35.0,90.0]\n",
    "\n",
    "grayMatterMask = np.copy(data)\n",
    "whiteMatterMask = np.copy(data)\n",
    "\n",
    "x,y,numSlices = np.shape(data)"
   ]
  },
  {
   "cell_type": "code",
   "execution_count": 83,
   "metadata": {},
   "outputs": [],
   "source": [
    "for ind in xrange(numSlices):         \n",
    "    # Gray Matter Mask Generation\n",
    "    grayMatterMask[:,:,ind] = getMask(grayMatterMask[:,:,ind],grayMatterRange)\n",
    "    \n",
    "    # White Matter Mask Generation\n",
    "    whiteMatterMask[:,:,ind] = getMask(whiteMatterMask[:,:,ind],whiteMatterRange)    "
   ]
  },
  {
   "cell_type": "markdown",
   "metadata": {},
   "source": [
    "Let us see the masks for this."
   ]
  },
  {
   "cell_type": "code",
   "execution_count": 84,
   "metadata": {},
   "outputs": [
    {
     "data": {
      "image/png": "[encoded data removed]",
      "text/plain": [
       "<Figure size 432x288 with 9 Axes>"
      ]
     },
     "metadata": {
      "needs_background": "light"
     },
     "output_type": "display_data"
    }
   ],
   "source": [
    "sliceShowInd = [15,50,85]\n",
    "count = 1\n",
    "\n",
    "for sInd in sliceShowInd:\n",
    "    # Slice\n",
    "    plt.subplot(3,3,count)\n",
    "    plt.set_cmap(\"gray\")\n",
    "    plt.imshow(data[:,:,sInd])\n",
    "    plt.title('Showing Slice {}'.format(sInd))    \n",
    "    \n",
    "    #Mask White Matter\n",
    "    plt.subplot(3,3,count+3)\n",
    "    plt.set_cmap(\"gray\")\n",
    "    plt.imshow(whiteMatterMask[:,:,sInd]*255.0)\n",
    "    plt.title('WM Mask') \n",
    "    \n",
    "    #Mask Gray Matter\n",
    "    plt.subplot(3,3,count+6)\n",
    "    plt.set_cmap(\"gray\")\n",
    "    plt.imshow(grayMatterMask[:,:,sInd]*255.0)\n",
    "    plt.title('GM Mask')  \n",
    "    \n",
    "    \n",
    "    count = count + 1     \n"
   ]
  },
  {
   "cell_type": "markdown",
   "metadata": {},
   "source": [
    "Alright this looks good so let us output these into two separte file locations for documentation purpose but the next step would be to create the model."
   ]
  },
  {
   "cell_type": "markdown",
   "metadata": {},
   "source": [
    "# Save File"
   ]
  },
  {
   "cell_type": "code",
   "execution_count": 78,
   "metadata": {},
   "outputs": [],
   "source": [
    "gmOutMask = 'C://Cerebral//_MarioSandBox//DB//medicalHolography//Animal Brains//Monkey//JPG Mask - Gray Matter//'\n",
    "gmMasked = 'C://Cerebral//_MarioSandBox//DB//medicalHolography//Animal Brains//Monkey//JPG Stack Gray Matter Segmentation//'\n",
    "\n",
    "wmOutMask = 'C://Cerebral//_MarioSandBox//DB//medicalHolography//Animal Brains//Monkey//JPG Mask - White Matter//'\n",
    "wmMaksed = 'C://Cerebral//_MarioSandBox//DB//medicalHolography//Animal Brains//Monkey//JPG Stack White Matter Segmentation//'"
   ]
  },
  {
   "cell_type": "code",
   "execution_count": 88,
   "metadata": {},
   "outputs": [
    {
     "name": "stderr",
     "output_type": "stream",
     "text": [
      "C:\\Users\\HP\\Anaconda2\\envs\\py27\\lib\\site-packages\\ipykernel_launcher.py:6: DeprecationWarning: `imsave` is deprecated!\n",
      "`imsave` is deprecated in SciPy 1.0.0, and will be removed in 1.2.0.\n",
      "Use ``imageio.imwrite`` instead.\n",
      "  \n",
      "C:\\Users\\HP\\Anaconda2\\envs\\py27\\lib\\site-packages\\ipykernel_launcher.py:9: DeprecationWarning: `imsave` is deprecated!\n",
      "`imsave` is deprecated in SciPy 1.0.0, and will be removed in 1.2.0.\n",
      "Use ``imageio.imwrite`` instead.\n",
      "  if __name__ == '__main__':\n",
      "C:\\Users\\HP\\Anaconda2\\envs\\py27\\lib\\site-packages\\ipykernel_launcher.py:14: DeprecationWarning: `imsave` is deprecated!\n",
      "`imsave` is deprecated in SciPy 1.0.0, and will be removed in 1.2.0.\n",
      "Use ``imageio.imwrite`` instead.\n",
      "  \n",
      "C:\\Users\\HP\\Anaconda2\\envs\\py27\\lib\\site-packages\\ipykernel_launcher.py:17: DeprecationWarning: `imsave` is deprecated!\n",
      "`imsave` is deprecated in SciPy 1.0.0, and will be removed in 1.2.0.\n",
      "Use ``imageio.imwrite`` instead.\n"
     ]
    }
   ],
   "source": [
    "for sInd in xrange(numSlices):    \n",
    "    \n",
    "    #White Matter\n",
    "    # Mask\n",
    "    mask = whiteMatterMask[:,:,sInd]*255.0\n",
    "    scipy.misc.imsave(wmOutMask+'{}.jpg'.format(sInd), mask)\n",
    "    # Masked image\n",
    "    maskedImage = whiteMatterMask[:,:,sInd] * data[:,:,sInd]\n",
    "    scipy.misc.imsave(wmMaksed+'{}.jpg'.format(sInd), maskedImage)\n",
    "    \n",
    "    #Gray Matter\n",
    "    # Mask\n",
    "    mask = grayMatterMask[:,:,sInd]*255.0\n",
    "    scipy.misc.imsave(gmOutMask+'{}.jpg'.format(sInd), mask)\n",
    "    # Masked image\n",
    "    maskedImage = grayMatterMask[:,:,sInd] * data[:,:,sInd]\n",
    "    scipy.misc.imsave(gmMasked+'{}.jpg'.format(sInd), maskedImage)\n",
    "    "
   ]
  },
  {
   "cell_type": "code",
   "execution_count": null,
   "metadata": {},
   "outputs": [],
   "source": []
  }
 ],
 "metadata": {
  "kernelspec": {
   "display_name": "Python 2",
   "language": "python",
   "name": "python2"
  },
  "language_info": {
   "codemirror_mode": {
    "name": "ipython",
    "version": 2
   },
   "file_extension": ".py",
   "mimetype": "text/x-python",
   "name": "python",
   "nbconvert_exporter": "python",
   "pygments_lexer": "ipython2",
   "version": "2.7.15"
  },
  "latex_envs": {
   "LaTeX_envs_menu_present": true,
   "autoclose": false,
   "autocomplete": true,
   "bibliofile": "biblio.bib",
   "cite_by": "apalike",
   "current_citInitial": 1,
   "eqLabelWithNumbers": true,
   "eqNumInitial": 1,
   "hotkeys": {
    "equation": "Ctrl-E",
    "itemize": "Ctrl-I"
   },
   "labels_anchors": false,
   "latex_user_defs": false,
   "report_style_numbering": false,
   "user_envs_cfg": false
  }
 },
 "nbformat": 4,
 "nbformat_minor": 2
}
