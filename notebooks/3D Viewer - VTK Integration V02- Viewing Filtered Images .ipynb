{
 "cells": [
  {
   "cell_type": "markdown",
   "metadata": {},
   "source": [
    "All of this can be found [here](https://www.vtk.org/Wiki/VTK/Examples/Python/vtkWithNumpy)\n",
    "\n",
    "But also debugging stuff can be found here:\n",
    "- [setDataExtent](https://gist.github.com/somada141/b125fd74916018ffe028)"
   ]
  },
  {
   "cell_type": "code",
   "execution_count": 1,
   "metadata": {},
   "outputs": [],
   "source": [
    "# An example from scipy cookbook demonstrating the use of numpy arrys in vtk \n",
    " \n",
    "import vtk\n",
    "from numpy import *"
   ]
  },
  {
   "cell_type": "code",
   "execution_count": 2,
   "metadata": {},
   "outputs": [],
   "source": [
    "dbDir = 'C:/Cerebral/_MarioSandBox/DB/medicalHolography/pythonVariables/'\n",
    "filteredImageFileName = dbDir + 'thStackMorphologyApplied.npy'"
   ]
  },
  {
   "cell_type": "code",
   "execution_count": 3,
   "metadata": {},
   "outputs": [],
   "source": [
    "stack = load(filteredImageFileName)"
   ]
  },
  {
   "cell_type": "code",
   "execution_count": 4,
   "metadata": {},
   "outputs": [
    {
     "data": {
      "text/plain": [
       "(180L, 760L, 766L)"
      ]
     },
     "execution_count": 4,
     "metadata": {},
     "output_type": "execute_result"
    }
   ],
   "source": [
    "shape(stack)"
   ]
  },
  {
   "cell_type": "code",
   "execution_count": 5,
   "metadata": {},
   "outputs": [],
   "source": [
    "data_matrix = stack"
   ]
  },
  {
   "cell_type": "code",
   "execution_count": 6,
   "metadata": {},
   "outputs": [
    {
     "data": {
      "text/plain": [
       "255.0"
      ]
     },
     "execution_count": 6,
     "metadata": {},
     "output_type": "execute_result"
    }
   ],
   "source": [
    "amax(data_matrix[0])"
   ]
  },
  {
   "cell_type": "code",
   "execution_count": 7,
   "metadata": {},
   "outputs": [
    {
     "data": {
      "text/plain": [
       "0.0"
      ]
     },
     "execution_count": 7,
     "metadata": {},
     "output_type": "execute_result"
    }
   ],
   "source": [
    "amin(data_matrix[0])"
   ]
  },
  {
   "cell_type": "code",
   "execution_count": 8,
   "metadata": {},
   "outputs": [],
   "source": [
    "# For VTK to be able to use the data, it must be stored as a VTK-image. This can be done by the vtkImageImport-class which\n",
    "# imports raw data and stores it.\n",
    "dataImporter = vtk.vtkImageImport()\n",
    "# The preaviusly created array is converted to a string of chars and imported.\n",
    "data_string = data_matrix.tostring()\n",
    "dataImporter.CopyImportVoidPointer(data_string, len(data_string))\n",
    "# The type of the newly imported data is set to unsigned char (uint8)\n",
    "dataImporter.SetDataScalarTypeToUnsignedChar()\n",
    "# Because the data that is imported only contains an intensity value (it isnt RGB-coded or someting similar), the importer\n",
    "# must be told this is the case.\n",
    "dataImporter.SetNumberOfScalarComponents(1)\n",
    "# The following two functions describe how the data is stored and the dimensions of the array it is stored in. For this\n",
    "# simple case, all axes are of length 75 and begins with the first element. For other data, this is probably not the case.\n",
    "# I have to admit however, that I honestly dont know the difference between SetDataExtent() and SetWholeExtent() although\n",
    "# VTK complains if not both are used."
   ]
  },
  {
   "cell_type": "code",
   "execution_count": 9,
   "metadata": {},
   "outputs": [],
   "source": [
    "extent = dataImporter.GetDataExtent()"
   ]
  },
  {
   "cell_type": "code",
   "execution_count": 10,
   "metadata": {},
   "outputs": [],
   "source": [
    "dim = stack.shape\n",
    "dataImporter.SetDataExtent(extent[0], extent[0] + dim[2] - 1,\n",
    "                           extent[2], extent[2] + dim[1] - 1,\n",
    "                           extent[4], extent[4] + dim[0] - 1)\n",
    "dataImporter.SetWholeExtent(extent[0], extent[0] + dim[2] - 1,\n",
    "                            extent[2], extent[2] + dim[1] - 1,\n",
    "                            extent[4], extent[4] + dim[0] - 1)"
   ]
  },
  {
   "cell_type": "code",
   "execution_count": 11,
   "metadata": {},
   "outputs": [
    {
     "data": {
      "text/plain": [
       "1"
      ]
     },
     "execution_count": 11,
     "metadata": {},
     "output_type": "execute_result"
    }
   ],
   "source": [
    "# The following class is used to store transparencyv-values for later retrival. In our case, we want the value 0 to be\n",
    "# completly opaque whereas the three different cubes are given different transperancy-values to show how it works.\n",
    "alphaChannelFunc = vtk.vtkPiecewiseFunction()\n",
    "alphaChannelFunc.AddPoint(0, 0.0)\n",
    "#alphaChannelFunc.AddPoint(50, 0.05)\n",
    "#alphaChannelFunc.AddPoint(100, 0.1)\n",
    "#alphaChannelFunc.AddPoint(150, 0.2)\n",
    "alphaChannelFunc.AddPoint(255, 0.2)\n",
    " \n",
    "# This class stores color data and can create color tables from a few color points. For this demo, we want the three cubes\n",
    "# to be of the colors red green and blue.\n",
    "colorFunc = vtk.vtkColorTransferFunction()\n",
    "colorFunc.AddRGBPoint(0, 1.0, 0.0, 0.0)\n",
    "#colorFunc.AddRGBPoint(50, 1.0, 0.0, 0.0)\n",
    "#colorFunc.AddRGBPoint(100, 0.0, 1.0, 0.0)\n",
    "#colorFunc.AddRGBPoint(150, 0.0, 0.0, 1.0)\n",
    "colorFunc.AddRGBPoint(255, 0.0, 0.0, 1.0)"
   ]
  },
  {
   "cell_type": "code",
   "execution_count": 12,
   "metadata": {},
   "outputs": [],
   "source": [
    "# The preavius two classes stored properties. Because we want to apply these properties to the volume we want to render,\n",
    "# we have to store them in a class that stores volume prpoperties.\n",
    "volumeProperty = vtk.vtkVolumeProperty()\n",
    "volumeProperty.SetColor(colorFunc)\n",
    "volumeProperty.SetScalarOpacity(alphaChannelFunc)\n",
    " \n",
    "# This class describes how the volume is rendered (through ray tracing).\n",
    "compositeFunction = vtk.vtkVolumeRayCastCompositeFunction()\n",
    "# We can finally create our volume. We also have to specify the data for it, as well as how the data will be rendered.\n",
    "volumeMapper = vtk.vtkVolumeRayCastMapper()\n",
    "volumeMapper.SetVolumeRayCastFunction(compositeFunction)\n",
    "volumeMapper.SetInputConnection(dataImporter.GetOutputPort())\n",
    " \n",
    "# The class vtkVolume is used to pair the preaviusly declared volume as well as the properties to be used when rendering that volume.\n",
    "volume = vtk.vtkVolume()\n",
    "volume.SetMapper(volumeMapper)\n",
    "volume.SetProperty(volumeProperty)"
   ]
  },
  {
   "cell_type": "code",
   "execution_count": 13,
   "metadata": {},
   "outputs": [],
   "source": [
    "# With almost everything else ready, its time to initialize the renderer and window, as well as creating a method for exiting the application\n",
    "renderer = vtk.vtkRenderer()\n",
    "renderWin = vtk.vtkRenderWindow()\n",
    "renderWin.AddRenderer(renderer)\n",
    "renderInteractor = vtk.vtkRenderWindowInteractor()\n",
    "renderInteractor.SetRenderWindow(renderWin)\n",
    " \n",
    "# We add the volume to the renderer ...\n",
    "renderer.AddVolume(volume)\n",
    "# ... set background color to white ...\n",
    "renderer.SetBackground(0,0,0)\n",
    "# ... and set window size.\n",
    "renderWin.SetSize(400, 400)\n",
    " \n",
    "# A simple function to be called when the user decides to quit the application.\n",
    "def exitCheck(obj, event):\n",
    "    if obj.GetEventPending() != 0:\n",
    "        obj.SetAbortRender(1)"
   ]
  },
  {
   "cell_type": "code",
   "execution_count": 14,
   "metadata": {},
   "outputs": [
    {
     "ename": "KeyboardInterrupt",
     "evalue": "",
     "output_type": "error",
     "traceback": [
      "\u001b[1;31m---------------------------------------------------------------------------\u001b[0m",
      "\u001b[1;31mKeyboardInterrupt\u001b[0m                         Traceback (most recent call last)",
      "\u001b[1;32m<ipython-input-14-c6e344f42c38>\u001b[0m in \u001b[0;36m<module>\u001b[1;34m()\u001b[0m\n\u001b[0;32m      5\u001b[0m \u001b[1;31m# Because nothing will be rendered without any input, we order the first render manually before control is handed over to the main-loop.\u001b[0m\u001b[1;33m\u001b[0m\u001b[1;33m\u001b[0m\u001b[0m\n\u001b[0;32m      6\u001b[0m \u001b[0mrenderWin\u001b[0m\u001b[1;33m.\u001b[0m\u001b[0mRender\u001b[0m\u001b[1;33m(\u001b[0m\u001b[1;33m)\u001b[0m\u001b[1;33m\u001b[0m\u001b[0m\n\u001b[1;32m----> 7\u001b[1;33m \u001b[0mrenderInteractor\u001b[0m\u001b[1;33m.\u001b[0m\u001b[0mStart\u001b[0m\u001b[1;33m(\u001b[0m\u001b[1;33m)\u001b[0m\u001b[1;33m\u001b[0m\u001b[0m\n\u001b[0m",
      "\u001b[1;32mC:\\Users\\HP\\Anaconda2\\lib\\site-packages\\IPython\\core\\displayhook.pyc\u001b[0m in \u001b[0;36m__call__\u001b[1;34m(self, result)\u001b[0m\n\u001b[0;32m    240\u001b[0m         \u001b[0mactivated\u001b[0m \u001b[0mby\u001b[0m \u001b[0msetting\u001b[0m \u001b[0mthe\u001b[0m \u001b[0mvariable\u001b[0m \u001b[0msys\u001b[0m\u001b[1;33m.\u001b[0m\u001b[0mdisplayhook\u001b[0m \u001b[0mto\u001b[0m \u001b[0mit\u001b[0m\u001b[1;33m.\u001b[0m\u001b[1;33m\u001b[0m\u001b[0m\n\u001b[0;32m    241\u001b[0m         \"\"\"\n\u001b[1;32m--> 242\u001b[1;33m         \u001b[0mself\u001b[0m\u001b[1;33m.\u001b[0m\u001b[0mcheck_for_underscore\u001b[0m\u001b[1;33m(\u001b[0m\u001b[1;33m)\u001b[0m\u001b[1;33m\u001b[0m\u001b[0m\n\u001b[0m\u001b[0;32m    243\u001b[0m         \u001b[1;32mif\u001b[0m \u001b[0mresult\u001b[0m \u001b[1;32mis\u001b[0m \u001b[1;32mnot\u001b[0m \u001b[0mNone\u001b[0m \u001b[1;32mand\u001b[0m \u001b[1;32mnot\u001b[0m \u001b[0mself\u001b[0m\u001b[1;33m.\u001b[0m\u001b[0mquiet\u001b[0m\u001b[1;33m(\u001b[0m\u001b[1;33m)\u001b[0m\u001b[1;33m:\u001b[0m\u001b[1;33m\u001b[0m\u001b[0m\n\u001b[0;32m    244\u001b[0m             \u001b[0mself\u001b[0m\u001b[1;33m.\u001b[0m\u001b[0mstart_displayhook\u001b[0m\u001b[1;33m(\u001b[0m\u001b[1;33m)\u001b[0m\u001b[1;33m\u001b[0m\u001b[0m\n",
      "\u001b[1;32mC:\\Users\\HP\\Anaconda2\\lib\\site-packages\\IPython\\core\\displayhook.pyc\u001b[0m in \u001b[0;36mcheck_for_underscore\u001b[1;34m(self)\u001b[0m\n\u001b[0;32m     75\u001b[0m         \u001b[1;31m# ipython's automatic one so we don't clobber that.  gettext() in\u001b[0m\u001b[1;33m\u001b[0m\u001b[1;33m\u001b[0m\u001b[0m\n\u001b[0;32m     76\u001b[0m         \u001b[1;31m# particular uses _, so we need to stay away from it.\u001b[0m\u001b[1;33m\u001b[0m\u001b[1;33m\u001b[0m\u001b[0m\n\u001b[1;32m---> 77\u001b[1;33m         \u001b[1;32mif\u001b[0m \u001b[1;34m'_'\u001b[0m \u001b[1;32min\u001b[0m \u001b[0mbuiltin_mod\u001b[0m\u001b[1;33m.\u001b[0m\u001b[0m__dict__\u001b[0m\u001b[1;33m:\u001b[0m\u001b[1;33m\u001b[0m\u001b[0m\n\u001b[0m\u001b[0;32m     78\u001b[0m             \u001b[1;32mtry\u001b[0m\u001b[1;33m:\u001b[0m\u001b[1;33m\u001b[0m\u001b[0m\n\u001b[0;32m     79\u001b[0m                 \u001b[1;32mdel\u001b[0m \u001b[0mself\u001b[0m\u001b[1;33m.\u001b[0m\u001b[0mshell\u001b[0m\u001b[1;33m.\u001b[0m\u001b[0muser_ns\u001b[0m\u001b[1;33m[\u001b[0m\u001b[1;34m'_'\u001b[0m\u001b[1;33m]\u001b[0m\u001b[1;33m\u001b[0m\u001b[0m\n",
      "\u001b[1;31mKeyboardInterrupt\u001b[0m: "
     ]
    }
   ],
   "source": [
    "# Tell the application to use the function as an exit check.\n",
    "renderWin.AddObserver(\"AbortCheckEvent\", exitCheck)\n",
    " \n",
    "renderInteractor.Initialize()\n",
    "# Because nothing will be rendered without any input, we order the first render manually before control is handed over to the main-loop.\n",
    "renderWin.Render()\n",
    "renderInteractor.Start()"
   ]
  },
  {
   "cell_type": "code",
   "execution_count": null,
   "metadata": {},
   "outputs": [],
   "source": []
  }
 ],
 "metadata": {
  "kernelspec": {
   "display_name": "Python [conda env:Anaconda2]",
   "language": "python",
   "name": "conda-env-Anaconda2-py"
  },
  "language_info": {
   "codemirror_mode": {
    "name": "ipython",
    "version": 2
   },
   "file_extension": ".py",
   "mimetype": "text/x-python",
   "name": "python",
   "nbconvert_exporter": "python",
   "pygments_lexer": "ipython2",
   "version": "2.7.15"
  }
 },
 "nbformat": 4,
 "nbformat_minor": 2
}
