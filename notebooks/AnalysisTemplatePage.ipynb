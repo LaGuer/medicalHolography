{
 "cells": [
  {
   "cell_type": "markdown",
   "metadata": {},
   "source": [
    "# Imports"
   ]
  },
  {
   "cell_type": "code",
   "execution_count": 6,
   "metadata": {},
   "outputs": [
    {
     "name": "stdout",
     "output_type": "stream",
     "text": [
      "Populating the interactive namespace from numpy and matplotlib\n"
     ]
    }
   ],
   "source": [
    "import os\n",
    "import numpy\n",
    "import SimpleITK\n",
    "import matplotlib.pyplot as plt\n",
    "import scipy.ndimage\n",
    "import scipy.misc\n",
    "%pylab inline"
   ]
  },
  {
   "cell_type": "code",
   "execution_count": 12,
   "metadata": {},
   "outputs": [],
   "source": [
    "from os import listdir\n",
    "from os.path import isfile, join"
   ]
  },
  {
   "cell_type": "code",
   "execution_count": 9,
   "metadata": {},
   "outputs": [],
   "source": [
    "from skimage import measure\n",
    "# for this module the stl is now depricated\n",
    "# pip install numpy-stl\n",
    "from stl import mesh"
   ]
  },
  {
   "cell_type": "markdown",
   "metadata": {},
   "source": [
    "# Functions"
   ]
  },
  {
   "cell_type": "markdown",
   "metadata": {},
   "source": [
    "## Reading Files"
   ]
  },
  {
   "cell_type": "code",
   "execution_count": 37,
   "metadata": {},
   "outputs": [],
   "source": [
    "def readMRIFile(inpath):\n",
    "    # Read an MR file (.dcm,.nii,.mnc) and stores it in an ITK image stack file tensor\n",
    "    \n",
    "    reader = SimpleITK.ImageFileReader()\n",
    "    mriImage = SimpleITK.ReadImage(inpath)\n",
    "    return mriImage"
   ]
  },
  {
   "cell_type": "code",
   "execution_count": 4,
   "metadata": {},
   "outputs": [],
   "source": [
    "def convertToNP(itkImage):\n",
    "    # Converts the a single ITK image into a numpy array\n",
    "    \n",
    "    npArray = SimpleITK.GetArrayFromImage(itkImage)\n",
    "    return npArray    "
   ]
  },
  {
   "cell_type": "code",
   "execution_count": 36,
   "metadata": {},
   "outputs": [],
   "source": [
    "def applySmoothingMRI(singleMRIImage):\n",
    "    # Applys smoothing to an ITK image and returns an ITK image\n",
    "    \n",
    "    mriImageSmooth = SimpleITK.CurvatureFlow(image1=singleMRIImage,\n",
    "                                            timeStep=0.125,\n",
    "                                            numberOfIterations=5)   \n",
    "    return mriImageSmooth"
   ]
  },
  {
   "cell_type": "code",
   "execution_count": 32,
   "metadata": {},
   "outputs": [],
   "source": [
    "def readStackOfImage(imageStackDirectory):\n",
    "    # Get all file names in the firectory \n",
    "    onlyFiles = [f for f in listdir(imageStackDirectory) if isfile(join(imageStackDirectory, f))]\n",
    "    \n",
    "    # get sizes of each image\n",
    "    oneFile = imageStackDirectory + onlyFiles[0]\n",
    "    oneFileImage = scipy.ndimage.imread(oneFile)\n",
    "    [w,h] = oneFileImage.shape\n",
    "    \n",
    "    # Allocate variable for the image stack\n",
    "    numSlices = len(onlyFiles)\n",
    "    imageStack = np.zeros((w,h,numSlices))\n",
    "    \n",
    "    # Read and store image stack in an array\n",
    "    for sliceImageFile in onlyFiles:\n",
    "        imageStack[:,:,sliceInd] = scipy.ndimage.imread(sliceImageFile)\n",
    "    \n",
    "    return imageStack"
   ]
  },
  {
   "cell_type": "markdown",
   "metadata": {},
   "source": [
    "## Get Data Statistics"
   ]
  },
  {
   "cell_type": "code",
   "execution_count": 1,
   "metadata": {},
   "outputs": [],
   "source": [
    "def getDataStatistics(npArray):\n",
    "    [numSlices,width,height] = npArray.shape\n",
    "    print(\"The data contains {} slices with the image resolution being {} x {}\".format(numSlices,width,height))\n",
    "    return [numSlices,width,height] "
   ]
  },
  {
   "cell_type": "markdown",
   "metadata": {},
   "source": [
    "## Image Processing"
   ]
  },
  {
   "cell_type": "code",
   "execution_count": 7,
   "metadata": {},
   "outputs": [],
   "source": [
    "def showSegmentation(sliceNum=90):\n",
    "    # Get slice\n",
    "    idxSlice = sliceNum\n",
    "    imgOriginal = image[:,:,idxSlice]\n",
    "\n",
    "    # Apply smoothing\n",
    "    imgSmooth = SimpleITK.CurvatureFlow(image1=imgOriginal,\n",
    "                                        timeStep=0.125,\n",
    "                                        numberOfIterations=5)\n",
    "    sitk_show(imgSmooth)\n",
    "\n",
    "    # Get segmentation\n",
    "    lstSeeds = [(75,60)]\n",
    "\n",
    "    imgWhiteMatter = SimpleITK.ConnectedThreshold(image1=imgSmooth, \n",
    "                                                  seedList=lstSeeds, \n",
    "                                                  lower=0, \n",
    "                                                  upper=40,\n",
    "                                                  replaceValue=labelWhiteMatter)\n",
    "\n",
    "    # Rescale 'imgSmooth' and cast it to an integer type to match that of 'imgWhiteMatter'\n",
    "    imgSmoothInt = SimpleITK.Cast(SimpleITK.RescaleIntensity(imgSmooth), imgWhiteMatter.GetPixelID())\n",
    "\n",
    "    # Use 'LabelOverlay' to overlay 'imgSmooth' and 'imgWhiteMatter'\n",
    "    sitk_show(SimpleITK.LabelOverlay(imgSmoothInt, imgWhiteMatter))\n",
    "\n",
    "    # show segmentation\n",
    "    sitk_show(imgWhiteMatter)"
   ]
  },
  {
   "cell_type": "code",
   "execution_count": 8,
   "metadata": {},
   "outputs": [],
   "source": [
    "def getMask(sliceImage,pxlRanges):\n",
    "#     sliceImage = np.copy(grayMatterMask[:,:,50])\n",
    "    xLen,yLen = np.shape(sliceImage)\n",
    "#     pxlRanges = grayMatterRange\n",
    "    lower = pxlRanges[0]\n",
    "    upper = pxlRanges[1]\n",
    "\n",
    "    for x in xrange(xLen):\n",
    "        for y in xrange(yLen):        \n",
    "            if(sliceImage[x,y]>=lower and sliceImage[x,y]<=upper):                        \n",
    "                sliceImage[x,y] = 1.0\n",
    "            else:\n",
    "                sliceImage[x,y] = 0.0\n",
    "    \n",
    "    return sliceImage"
   ]
  },
  {
   "cell_type": "markdown",
   "metadata": {},
   "source": [
    "## Model Generation"
   ]
  },
  {
   "cell_type": "code",
   "execution_count": 10,
   "metadata": {},
   "outputs": [],
   "source": [
    "def make_mesh(image, threshold=-100, step_size=1):\n",
    "    # Generates a mesh from a stack of images (image variable)\n",
    "    \n",
    "    print \"Transposing surface\"\n",
    "    p = image.transpose(2,1,0)\n",
    "    \n",
    "    print \"Calculating surface\"\n",
    "    try:\n",
    "        verts, faces = measure.marching_cubes(p, threshold) \n",
    "    except:\n",
    "        verts, faces = measure.marching_cubes_classic(p, threshold)         \n",
    "    return verts, faces"
   ]
  },
  {
   "cell_type": "code",
   "execution_count": 11,
   "metadata": {},
   "outputs": [],
   "source": [
    "def make_meshNew(image, threshold=-100, step_size=1):\n",
    "    # Generates a mesh from a stack of images (image variable)\n",
    "    \n",
    "    print \"Transposing surface\"\n",
    "#     p = image.transpose(2,1,0)\n",
    "    p=image\n",
    "    \n",
    "    print \"Calculating surface\"\n",
    "    try:\n",
    "        if(threshold==0.0):\n",
    "            verts, faces = measure.marching_cubes(p) \n",
    "        else:            \n",
    "            verts, faces = measure.marching_cubes(p, threshold) \n",
    "    except:\n",
    "        if(threshold==0.0):\n",
    "            verts, faces = measure.marching_cubes_classic(p)         \n",
    "        else:\n",
    "            verts, faces = measure.marching_cubes_classic(p, threshold)         \n",
    "    return verts, faces"
   ]
  },
  {
   "cell_type": "code",
   "execution_count": 35,
   "metadata": {},
   "outputs": [],
   "source": [
    "def generateSTL(fileOut,imageStack,TH=0.0):\n",
    "    # Note: imageStack is the output of the function readStackOfImage\n",
    "    \n",
    "    # Get verticies\n",
    "    v, f = make_meshNew(imageStack,TH)\n",
    "    \n",
    "    # Generate mesh\n",
    "    imageMesh = mesh.Mesh(np.zeros(f.shape[0], dtype=mesh.Mesh.dtype))\n",
    "    \n",
    "    # Connect Vertices\n",
    "    for i, f in enumerate(f):\n",
    "        for j in range(3):\n",
    "            imageMesh.vectors[i][j] = v[f[j],:]\n",
    "        \n",
    "    # Create Mesh    \n",
    "    imageMesh.save(fileOut)    "
   ]
  },
  {
   "cell_type": "markdown",
   "metadata": {},
   "source": [
    "## Visualization"
   ]
  },
  {
   "cell_type": "code",
   "execution_count": 38,
   "metadata": {},
   "outputs": [],
   "source": [
    "def sitk_show(img, title=None, margin=0.05, dpi=40 ):\n",
    "    # Simple visualization tool to view a single slice\n",
    "    \n",
    "    nda = SimpleITK.GetArrayFromImage(img)\n",
    "    spacing = img.GetSpacing()\n",
    "    figsize = (1 + margin) * nda.shape[0] / dpi, (1 + margin) * nda.shape[1] / dpi\n",
    "    extent = (0, nda.shape[1]*spacing[1], nda.shape[0]*spacing[0], 0)\n",
    "    fig = plt.figure(figsize=figsize, dpi=dpi)\n",
    "    ax = fig.add_axes([margin, margin, 1 - 2*margin, 1 - 2*margin])\n",
    "\n",
    "    plt.set_cmap(\"gray\")\n",
    "    ax.imshow(nda,extent=extent,interpolation=None)\n",
    "    \n",
    "    if title:\n",
    "        plt.title(title)\n",
    "    \n",
    "    plt.show()"
   ]
  },
  {
   "cell_type": "code",
   "execution_count": null,
   "metadata": {},
   "outputs": [],
   "source": [
    "def resizePlane(mrSlice,w,h):    \n",
    "    resizedMRImage = skImg.transform.resize(mrSlice,(w,h),anti_aliasing =True)\n",
    "    return resizedMRImage"
   ]
  },
  {
   "cell_type": "code",
   "execution_count": null,
   "metadata": {},
   "outputs": [],
   "source": [
    "def getPlanarViewImage(imgStack,indSlice,viewType='axial'):\n",
    "    [numSlices,width,height] = imgStack.shape    \n",
    "    \n",
    "    if(viewType=='axial'):\n",
    "        mrImage =  imgStack[indSlice,:,:]    \n",
    "    elif(viewType=='coronal'):\n",
    "        mrImage =  np.flipud(imgStack[:,indSlice,:])\n",
    "        mrImage = resizePlane(mrImage,width,height)        \n",
    "    elif(viewType=='sagittal'):\n",
    "        mrImage =  np.flipud(np.fliplr(imgStack[:,:,indSlice]))\n",
    "        mrImage = resizePlane(mrImage,width,height)        \n",
    "    \n",
    "    return mrImage    "
   ]
  },
  {
   "cell_type": "code",
   "execution_count": null,
   "metadata": {},
   "outputs": [],
   "source": [
    "def display3Slices(imageStack,arrayIndSlice,viewType='axial',cmap=\"bone\"):\n",
    "    # ----------------------------------------------------------------------------\n",
    "    # imageStack = is a np array with the format [slice,width,height]\n",
    "    # arrayIndSlice = is a an array with 3 ind values no greater than max slice,max width or max height\n",
    "    # viewType = string specifying planar views, can be 'axial', 'coronal', 'sagittal' \n",
    "    # cmap = the most commonly used ones are [\"gray\",'bone','binary','jet', 'gist_ncar','seismic','Set1',]\n",
    "    # ----------------------------------------------------------------------------\n",
    "    [numSlices,width,height] = imageStack.shape\n",
    "    figure(num=None, figsize=(10, 6), dpi=80, facecolor='w', edgecolor='k')\n",
    "    \n",
    "    # show first slice\n",
    "    plt.subplot(1,3,1)    \n",
    "    plt.set_cmap(cmap)    \n",
    "    mrImg1 = getPlanarViewImage(imageStack,arrayIndSlice[0],viewType=viewType)\n",
    "    plt.imshow(mrImg1)\n",
    "    plt.title('Showing Slice {}'.format(arrayIndSlice[0]))\n",
    "    \n",
    "    # show second slice\n",
    "    plt.subplot(1,3,2)    \n",
    "    plt.set_cmap(cmap)    \n",
    "    mrImg1 = getPlanarViewImage(imageStack,arrayIndSlice[1],viewType=viewType)\n",
    "    plt.imshow(mrImg1)\n",
    "    plt.title('Showing Slice {}'.format(arrayIndSlice[1]))\n",
    "    \n",
    "    # show third slice\n",
    "    plt.subplot(1,3,3)    \n",
    "    plt.set_cmap(cmap)    \n",
    "    mrImg1 = getPlanarViewImage(imageStack,arrayIndSlice[2],viewType=viewType)\n",
    "    plt.imshow(mrImg1)\n",
    "    plt.title('Showing Slice {}'.format(arrayIndSlice[2]))\n",
    "    \n",
    "    plt.tight_layout()\n",
    "    plt.show()"
   ]
  }
 ],
 "metadata": {
  "kernelspec": {
   "display_name": "Python 2",
   "language": "python",
   "name": "python2"
  },
  "language_info": {
   "codemirror_mode": {
    "name": "ipython",
    "version": 2
   },
   "file_extension": ".py",
   "mimetype": "text/x-python",
   "name": "python",
   "nbconvert_exporter": "python",
   "pygments_lexer": "ipython2",
   "version": "2.7.15"
  },
  "latex_envs": {
   "LaTeX_envs_menu_present": true,
   "autoclose": false,
   "autocomplete": true,
   "bibliofile": "biblio.bib",
   "cite_by": "apalike",
   "current_citInitial": 1,
   "eqLabelWithNumbers": true,
   "eqNumInitial": 1,
   "hotkeys": {
    "equation": "Ctrl-E",
    "itemize": "Ctrl-I"
   },
   "labels_anchors": false,
   "latex_user_defs": false,
   "report_style_numbering": false,
   "user_envs_cfg": false
  }
 },
 "nbformat": 4,
 "nbformat_minor": 2
}
