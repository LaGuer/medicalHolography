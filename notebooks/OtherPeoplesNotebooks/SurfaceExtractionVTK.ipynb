{
 "cells": [
  {
   "cell_type": "markdown",
   "metadata": {},
   "source": [
    "### Import & Setup"
   ]
  },
  {
   "cell_type": "code",
   "execution_count": 1,
   "metadata": {
    "collapsed": false
   },
   "outputs": [],
   "source": [
    "import vtk\n",
    "from vtk.util import numpy_support\n",
    "import os\n",
    "import numpy"
   ]
  },
  {
   "cell_type": "code",
   "execution_count": 2,
   "metadata": {
    "collapsed": false
   },
   "outputs": [],
   "source": [
    "import plotly\n",
    "from plotly.graph_objs import *\n",
    "plotly.plotly.sign_in(\"somada141\", \"1t2qb5b9y1\")"
   ]
  },
  {
   "cell_type": "markdown",
   "metadata": {},
   "source": [
    "---"
   ]
  },
  {
   "cell_type": "markdown",
   "metadata": {},
   "source": [
    "### Tools"
   ]
  },
  {
   "cell_type": "markdown",
   "metadata": {},
   "source": [
    "We're gonna use this function to quickly convert a `vtkImageData` array to a `numpy.ndarray`"
   ]
  },
  {
   "cell_type": "code",
   "execution_count": 3,
   "metadata": {
    "collapsed": false
   },
   "outputs": [],
   "source": [
    "def vtkImageToNumPy(image, pixelDims):\n",
    "    pointData = image.GetPointData()\n",
    "    arrayData = pointData.GetArray(0)\n",
    "    ArrayDicom = numpy_support.vtk_to_numpy(arrayData)\n",
    "    ArrayDicom = ArrayDicom.reshape(pixelDims, order='F')\n",
    "    \n",
    "    return ArrayDicom"
   ]
  },
  {
   "cell_type": "markdown",
   "metadata": {},
   "source": [
    "We're gonna use this function to quickly plot a 2D array (or slice of a 3D) array with Plotly as a heatmap with a grayscale colormap"
   ]
  },
  {
   "cell_type": "code",
   "execution_count": 4,
   "metadata": {
    "collapsed": false
   },
   "outputs": [],
   "source": [
    "def plotHeatmap(array, name=\"plot\"):\n",
    "    data = Data([\n",
    "        Heatmap(\n",
    "            z=array,\n",
    "            scl='Greys'\n",
    "        )\n",
    "    ])\n",
    "    layout = Layout(\n",
    "        autosize=False,\n",
    "        title=name\n",
    "    )\n",
    "    fig = Figure(data=data, layout=layout)\n",
    "\n",
    "    return plotly.plotly.iplot(fig, filename=name)"
   ]
  },
  {
   "cell_type": "markdown",
   "metadata": {},
   "source": [
    "We're gonna use this function to embed a still image of a VTK render"
   ]
  },
  {
   "cell_type": "code",
   "execution_count": 5,
   "metadata": {
    "collapsed": false
   },
   "outputs": [],
   "source": [
    "import vtk\n",
    "from IPython.display import Image\n",
    "def vtk_show(renderer, width=400, height=300):\n",
    "    \"\"\"\n",
    "    Takes vtkRenderer instance and returns an IPython Image with the rendering.\n",
    "    \"\"\"\n",
    "    renderWindow = vtk.vtkRenderWindow()\n",
    "    renderWindow.SetOffScreenRendering(1)\n",
    "    renderWindow.AddRenderer(renderer)\n",
    "    renderWindow.SetSize(width, height)\n",
    "    renderWindow.Render()\n",
    "     \n",
    "    windowToImageFilter = vtk.vtkWindowToImageFilter()\n",
    "    windowToImageFilter.SetInput(renderWindow)\n",
    "    windowToImageFilter.Update()\n",
    "     \n",
    "    writer = vtk.vtkPNGWriter()\n",
    "    writer.SetWriteToMemory(1)\n",
    "    writer.SetInputConnection(windowToImageFilter.GetOutputPort())\n",
    "    writer.Write()\n",
    "    data = str(buffer(writer.GetResult()))\n",
    "    \n",
    "    return Image(data)"
   ]
  },
  {
   "cell_type": "markdown",
   "metadata": {},
   "source": [
    "---"
   ]
  },
  {
   "cell_type": "markdown",
   "metadata": {},
   "source": [
    "### DICOM Input"
   ]
  },
  {
   "cell_type": "markdown",
   "metadata": {},
   "source": [
    "Load and read-in the DICOM files"
   ]
  },
  {
   "cell_type": "code",
   "execution_count": 10,
   "metadata": {
    "collapsed": false
   },
   "outputs": [],
   "source": [
    "PathDicom = \"./vhm_head/\"\n",
    "reader = vtk.vtkDICOMImageReader()\n",
    "reader.SetDirectoryName(PathDicom)\n",
    "reader.Update()"
   ]
  },
  {
   "cell_type": "markdown",
   "metadata": {},
   "source": [
    "Read in meta-data"
   ]
  },
  {
   "cell_type": "code",
   "execution_count": 11,
   "metadata": {
    "collapsed": false
   },
   "outputs": [],
   "source": [
    "# Load dimensions using `GetDataExtent`\n",
    "_extent = reader.GetDataExtent()\n",
    "ConstPixelDims = [_extent[1]-_extent[0]+1, _extent[3]-_extent[2]+1, _extent[5]-_extent[4]+1]\n",
    "\n",
    "# Load spacing values\n",
    "ConstPixelSpacing = reader.GetPixelSpacing()"
   ]
  },
  {
   "cell_type": "markdown",
   "metadata": {},
   "source": [
    "It seems that the `vtkDICOMImageReader` automatically rescales the DICOM data to give the Hounsfield Units. If it didn't then this is how you would go about rescaling it"
   ]
  },
  {
   "cell_type": "code",
   "execution_count": 12,
   "metadata": {
    "collapsed": false
   },
   "outputs": [],
   "source": [
    "#shiftScale = vtk.vtkImageShiftScale()\n",
    "#shiftScale.SetScale(reader.GetRescaleSlope())\n",
    "#shiftScale.SetShift(reader.GetRescaleOffset())\n",
    "#shiftScale.SetInputConnection(reader.GetOutputPort())\n",
    "#shiftScale.Update()\n",
    "\n",
    "# In the next cell you would simply get the output with 'GetOutput' from 'shiftScale' instead of 'reader'"
   ]
  },
  {
   "cell_type": "markdown",
   "metadata": {},
   "source": [
    "---"
   ]
  },
  {
   "cell_type": "markdown",
   "metadata": {},
   "source": [
    "Visualize"
   ]
  },
  {
   "cell_type": "code",
   "execution_count": 13,
   "metadata": {
    "collapsed": false
   },
   "outputs": [
    {
     "data": {
      "text/html": [
       "<iframe id=\"igraph\" scrolling=\"no\" style=\"border:none;\"seamless=\"seamless\" src=\"https://plot.ly/~somada141/24\" height=\"525\" width=\"100%\"></iframe>"
      ],
      "text/plain": [
       "<IPython.core.display.HTML object>"
      ]
     },
     "metadata": {},
     "output_type": "display_data"
    }
   ],
   "source": [
    "ArrayDicom = vtkImageToNumPy(reader.GetOutput(), ConstPixelDims)\n",
    "plotHeatmap(numpy.rot90(ArrayDicom[:, 256, :]), name=\"CT_Original\")"
   ]
  },
  {
   "cell_type": "markdown",
   "metadata": {},
   "source": [
    "Use the `vtkImageThreshold` to clean all soft-tissue from the image data"
   ]
  },
  {
   "cell_type": "code",
   "execution_count": 14,
   "metadata": {
    "collapsed": false
   },
   "outputs": [],
   "source": [
    "threshold = vtk.vtkImageThreshold ()\n",
    "threshold.SetInputConnection(reader.GetOutputPort())\n",
    "threshold.ThresholdByLower(400)  # remove all soft tissue\n",
    "threshold.ReplaceInOn()\n",
    "threshold.SetInValue(0)  # set all values below 400 to 0\n",
    "threshold.ReplaceOutOn()\n",
    "threshold.SetOutValue(1)  # set all values above 400 to 1\n",
    "threshold.Update()"
   ]
  },
  {
   "cell_type": "code",
   "execution_count": 15,
   "metadata": {
    "collapsed": false
   },
   "outputs": [
    {
     "data": {
      "text/html": [
       "<iframe id=\"igraph\" scrolling=\"no\" style=\"border:none;\"seamless=\"seamless\" src=\"https://plot.ly/~somada141/25\" height=\"525\" width=\"100%\"></iframe>"
      ],
      "text/plain": [
       "<IPython.core.display.HTML object>"
      ]
     },
     "metadata": {},
     "output_type": "display_data"
    }
   ],
   "source": [
    "ArrayDicom = vtkImageToNumPy(threshold.GetOutput(), ConstPixelDims)\n",
    "plotHeatmap(numpy.rot90(ArrayDicom[:, 256, :]), name=\"CT_Thresholded\")"
   ]
  },
  {
   "cell_type": "markdown",
   "metadata": {},
   "source": [
    "Use the `vtkDiscreteMarchingCubes` class to extract the surface"
   ]
  },
  {
   "cell_type": "code",
   "execution_count": 16,
   "metadata": {
    "collapsed": false
   },
   "outputs": [
    {
     "name": "stdout",
     "output_type": "stream",
     "text": [
      "CPU times: user 2.91 s, sys: 53.3 ms, total: 2.97 s\n",
      "Wall time: 2.99 s\n"
     ]
    }
   ],
   "source": [
    "%%time\n",
    "dmc = vtk.vtkDiscreteMarchingCubes()\n",
    "dmc.SetInputConnection(threshold.GetOutputPort())\n",
    "dmc.GenerateValues(1, 1, 1)\n",
    "dmc.Update()"
   ]
  },
  {
   "cell_type": "code",
   "execution_count": 17,
   "metadata": {
    "collapsed": false
   },
   "outputs": [
    {
     "data": {
      "image/png": "[encoded data removed]",
      "text/plain": [
       "<IPython.core.display.Image object>"
      ]
     },
     "execution_count": 17,
     "metadata": {},
     "output_type": "execute_result"
    }
   ],
   "source": [
    "mapper = vtk.vtkPolyDataMapper()\n",
    "mapper.SetInputConnection(dmc.GetOutputPort())\n",
    "\n",
    "actor = vtk.vtkActor()\n",
    "actor.SetMapper(mapper)\n",
    "\n",
    "renderer = vtk.vtkRenderer()\n",
    "renderer.AddActor(actor)\n",
    "renderer.SetBackground(1.0, 1.0, 1.0)\n",
    "\n",
    "camera = renderer.MakeCamera()\n",
    "camera.SetPosition(-500.0, 245.5, 122.0)\n",
    "camera.SetFocalPoint(301.0, 245.5, 122.0)\n",
    "camera.SetViewAngle(30.0)\n",
    "camera.SetRoll(-90.0)\n",
    "renderer.SetActiveCamera(camera)\n",
    "vtk_show(renderer, 600, 600)"
   ]
  },
  {
   "cell_type": "code",
   "execution_count": 18,
   "metadata": {
    "collapsed": false
   },
   "outputs": [
    {
     "data": {
      "image/png": "[encoded data removed]",
      "text/plain": [
       "<IPython.core.display.Image object>"
      ]
     },
     "execution_count": 18,
     "metadata": {},
     "output_type": "execute_result"
    }
   ],
   "source": [
    "camera = renderer.GetActiveCamera()\n",
    "camera.SetPosition(301.0, 1045.0, 122.0)\n",
    "camera.SetFocalPoint(301.0, 245.5, 122.0)\n",
    "camera.SetViewAngle(30.0)\n",
    "camera.SetRoll(0.0)\n",
    "renderer.SetActiveCamera(camera)\n",
    "vtk_show(renderer, 600, 600)"
   ]
  },
  {
   "cell_type": "markdown",
   "metadata": {},
   "source": [
    "Save the extracted surface as an .stl file"
   ]
  },
  {
   "cell_type": "code",
   "execution_count": null,
   "metadata": {
    "collapsed": false
   },
   "outputs": [],
   "source": [
    "writer = vtk.vtkSTLWriter()\n",
    "writer.SetInputConnection(dmc.GetOutputPort())\n",
    "writer.SetFileTypeToBinary()\n",
    "writer.SetFileName(\"bones.stl\")\n",
    "writer.Write()"
   ]
  },
  {
   "cell_type": "code",
   "execution_count": null,
   "metadata": {
    "collapsed": false
   },
   "outputs": [],
   "source": [
    "renderer_window = vtk.vtkRenderWindow()\n",
    "renderer_window.AddRenderer(renderer) \n",
    "renderer_interactor = vtk.vtkRenderWindowInteractor()\n",
    "renderer_interactor.SetRenderWindow(renderer_window)\n",
    "renderer.SetBackground(1,1,1)\n",
    "renderer_window.SetSize(1024, 768)\n",
    "\n",
    "renderer_interactor.Initialize()\n",
    "renderer_window.Render()\n",
    "renderer_interactor.Start()"
   ]
  },
  {
   "cell_type": "code",
   "execution_count": null,
   "metadata": {
    "collapsed": true
   },
   "outputs": [],
   "source": []
  }
 ],
 "metadata": {
  "kernelspec": {
   "display_name": "Python 2",
   "language": "python",
   "name": "python2"
  },
  "language_info": {
   "codemirror_mode": {
    "name": "ipython",
    "version": 2
   },
   "file_extension": ".py",
   "mimetype": "text/x-python",
   "name": "python",
   "nbconvert_exporter": "python",
   "pygments_lexer": "ipython2",
   "version": "2.7.11"
  }
 },
 "nbformat": 4,
 "nbformat_minor": 0
}