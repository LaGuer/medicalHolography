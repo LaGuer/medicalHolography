{
 "cells": [
  {
   "cell_type": "markdown",
   "metadata": {},
   "source": [
    "# Generate Image Stack For Import In 3D Slicer\n",
    "The main goal of this notebook is to generate black and white images of each slice and then import them into 3D slicer."
   ]
  },
  {
   "cell_type": "markdown",
   "metadata": {},
   "source": [
    "# Imports"
   ]
  },
  {
   "cell_type": "code",
   "execution_count": 1,
   "metadata": {},
   "outputs": [],
   "source": [
    "import numpy as np\n",
    "import scipy.io \n",
    "import pandas as  pd"
   ]
  },
  {
   "cell_type": "code",
   "execution_count": 2,
   "metadata": {},
   "outputs": [],
   "source": [
    "import matplotlib.pyplot as plt\n",
    "%matplotlib notebook"
   ]
  },
  {
   "cell_type": "markdown",
   "metadata": {},
   "source": [
    "# DB"
   ]
  },
  {
   "cell_type": "code",
   "execution_count": 3,
   "metadata": {},
   "outputs": [],
   "source": [
    "workingDir = 'C:/Cerebral/_MarioSandBox/DB/medicalHolography/vascular/Example/'\n",
    "dataName = 'VTD_ready_for_ROI_choice.mat'\n",
    "maskName = 'mask.mat'"
   ]
  },
  {
   "cell_type": "code",
   "execution_count": 4,
   "metadata": {},
   "outputs": [],
   "source": [
    "def readData(fileLocationAndName,VariableName):\n",
    "    data = scipy.io.loadmat(fileLocationAndName)\n",
    "    data = data[VariableName]\n",
    "    dataArray = np.array(data)\n",
    "    return dataArray"
   ]
  },
  {
   "cell_type": "code",
   "execution_count": 5,
   "metadata": {},
   "outputs": [
    {
     "data": {
      "text/plain": [
       "(360L, 766L, 760L)"
      ]
     },
     "execution_count": 5,
     "metadata": {},
     "output_type": "execute_result"
    }
   ],
   "source": [
    "data = readData(workingDir+dataName,'VTD_ready')\n",
    "data.shape"
   ]
  },
  {
   "cell_type": "code",
   "execution_count": 6,
   "metadata": {},
   "outputs": [
    {
     "data": {
      "text/plain": [
       "(760L, 766L)"
      ]
     },
     "execution_count": 6,
     "metadata": {},
     "output_type": "execute_result"
    }
   ],
   "source": [
    "mask = readData(workingDir+maskName,'mask')\n",
    "mask.shape"
   ]
  },
  {
   "cell_type": "markdown",
   "metadata": {},
   "source": [
    "# Data Manipulation"
   ]
  },
  {
   "cell_type": "code",
   "execution_count": 7,
   "metadata": {},
   "outputs": [],
   "source": [
    "def invertImages(stack):\n",
    "    [slices,w,l] = np.shape(stack)\n",
    "    invertedImages = np.zeros([slices,l,w])\n",
    "    numSlices = np.shape(stack)[0]\n",
    "    for sliceIndex in xrange(numSlices):        \n",
    "        currentImage = np.fliplr(np.flipud(stack[sliceIndex].T))\n",
    "        invertedImages[sliceIndex]= currentImage        \n",
    "    return invertedImages    "
   ]
  },
  {
   "cell_type": "markdown",
   "metadata": {},
   "source": [
    "# Visualization Functions"
   ]
  },
  {
   "cell_type": "code",
   "execution_count": 8,
   "metadata": {},
   "outputs": [],
   "source": [
    "def drawSingleImage(stack):\n",
    "    plt.figure()\n",
    "    plt.imshow(stack)"
   ]
  },
  {
   "cell_type": "code",
   "execution_count": 9,
   "metadata": {},
   "outputs": [],
   "source": [
    "def drawSlice(stack,sliceIndex):\n",
    "    plt.figure()\n",
    "    plt.imshow(stack[sliceIndex])"
   ]
  },
  {
   "cell_type": "code",
   "execution_count": 10,
   "metadata": {},
   "outputs": [],
   "source": [
    "def sample_stack(stack, rows=6, cols=6, start_with=10, show_every=3):\n",
    "    fig,ax = plt.subplots(rows,cols,figsize=[12,12])\n",
    "    for i in range(rows*cols):\n",
    "        ind = start_with + i*show_every\n",
    "        ax[int(i/rows),int(i % rows)].set_title('slice %d' % ind)\n",
    "        ax[int(i/rows),int(i % rows)].imshow(stack[ind],cmap='jet')\n",
    "        ax[int(i/rows),int(i % rows)].axis('off')\n",
    "    plt.show()"
   ]
  },
  {
   "cell_type": "markdown",
   "metadata": {},
   "source": [
    "# Mask Functions"
   ]
  },
  {
   "cell_type": "code",
   "execution_count": 11,
   "metadata": {},
   "outputs": [],
   "source": [
    "def maskImageStack(stack,mask):    \n",
    "    maskedImages = np.zeros(np.shape(stack))\n",
    "    numSlices = np.shape(stack)[0]\n",
    "    for sliceIndex in xrange(numSlices):\n",
    "        currentImage = stack[sliceIndex]\n",
    "        maskedImages[sliceIndex]= np.multiply(currentImage,mask)\n",
    "    \n",
    "    return maskedImages    "
   ]
  },
  {
   "cell_type": "markdown",
   "metadata": {},
   "source": [
    "# Data visualization Functions\n",
    "- [3D Plotting](https://www.raddq.com/dicom-processing-segmentation-visualization-in-python/)"
   ]
  },
  {
   "cell_type": "code",
   "execution_count": 12,
   "metadata": {},
   "outputs": [],
   "source": [
    "from plotly import __version__\n",
    "from plotly.offline import download_plotlyjs, init_notebook_mode, plot, iplot\n",
    "from plotly.tools import FigureFactory as FF\n",
    "from plotly.graph_objs import *\n",
    "\n",
    "import  plotly.plotly  as py\n",
    "import plotly.graph_objs as go"
   ]
  },
  {
   "cell_type": "code",
   "execution_count": 13,
   "metadata": {},
   "outputs": [],
   "source": [
    "from mpl_toolkits.mplot3d.art3d import Poly3DCollection\n",
    "import scipy.ndimage\n",
    "from skimage import morphology\n",
    "from skimage import measure\n",
    "from skimage.transform import resize\n",
    "from sklearn.cluster import KMeans"
   ]
  },
  {
   "cell_type": "code",
   "execution_count": 14,
   "metadata": {},
   "outputs": [],
   "source": [
    "def make_mesh(image, threshold=-300, step_size=1):\n",
    "    print \"Transposing surface\"\n",
    "    p = image.transpose(2,1,0)\n",
    "    \n",
    "    print \"Calculating surface\"\n",
    "    verts, faces = measure.marching_cubes(p, threshold) \n",
    "    #verts, faces, normals, values = measure.marching_cubes_lewiner(p, 0.0)\n",
    "    return verts, faces\n",
    "\n",
    "def plotly_3d(verts, faces):\n",
    "    x,y,z = zip(*verts) \n",
    "    \n",
    "    print \"Drawing\"\n",
    "    \n",
    "    # Make the colormap single color since the axes are positional not intensity. \n",
    "#    colormap=['rgb(255,105,180)','rgb(255,255,51)','rgb(0,191,255)']\n",
    "    colormap=['rgb(236, 236, 212)','rgb(236, 236, 212)']\n",
    "    \n",
    "    fig = FF.create_trisurf(x=x,\n",
    "                        y=y, \n",
    "                        z=z, \n",
    "                        plot_edges=False,\n",
    "                        colormap=colormap,\n",
    "                        simplices=faces,\n",
    "                        backgroundcolor='rgb(64, 64, 64)',\n",
    "                        title=\"Interactive Visualization\")\n",
    "    iplot(fig)\n",
    "\n",
    "def plt_3d(verts, faces):\n",
    "    print \"Drawing\"\n",
    "    x,y,z = zip(*verts) \n",
    "    fig = plt.figure(figsize=(10, 10))\n",
    "    ax = fig.add_subplot(111, projection='3d')\n",
    "    \n",
    "    print 'generating poly3d'\n",
    "    # Fancy indexing: `verts[faces]` to generate a collection of triangles\n",
    "    mesh = Poly3DCollection(verts[faces], linewidths=0.05, alpha=1)\n",
    "    print 'finished generating poly3d'\n",
    "    face_color = [1, 1, 0.9]\n",
    "    print 'adding some colour'\n",
    "    mesh.set_facecolor(face_color)\n",
    "    ax.add_collection3d(mesh)\n",
    "\n",
    "    print 'setting limits'\n",
    "    ax.set_xlim(0, max(x))\n",
    "    ax.set_ylim(0, max(y))\n",
    "    ax.set_zlim(0, max(z))\n",
    "    print 'adding some colour'\n",
    "    ax.set_axis_bgcolor((0.7, 0.7, 0.7))\n",
    "    print 'showing'\n",
    "    plt.show()\n",
    "    print 'finished'"
   ]
  },
  {
   "cell_type": "code",
   "execution_count": 15,
   "metadata": {},
   "outputs": [],
   "source": [
    "def myplotly_3d(verts, faces):\n",
    "    x,y,z = zip(*verts) \n",
    "    \n",
    "    print \"Drawing\"\n",
    "    \n",
    "    # Make the colormap single color since the axes are positional not intensity. \n",
    "#    colormap=['rgb(255,105,180)','rgb(255,255,51)','rgb(0,191,255)']\n",
    "    colormap=['rgb(236, 236, 212)','rgb(236, 236, 212)']\n",
    "    \n",
    "    fig = FF.create_trisurf(x=x,\n",
    "                        y=y, \n",
    "                        z=z, \n",
    "                        plot_edges=False,\n",
    "                        colormap=\"Portland\",\n",
    "                        simplices=faces,\n",
    "                        backgroundcolor='rgb(64, 64, 64)',\n",
    "                        title=\"Interactive Visualization\")\n",
    "    iplot(fig)\n"
   ]
  },
  {
   "cell_type": "markdown",
   "metadata": {},
   "source": [
    "# Main Work"
   ]
  },
  {
   "cell_type": "markdown",
   "metadata": {},
   "source": [
    "Before doing some mesh generation we need to massage the data such that it looks like the ones we see in the example folder that was given to us."
   ]
  },
  {
   "cell_type": "code",
   "execution_count": 16,
   "metadata": {},
   "outputs": [],
   "source": [
    "newData = invertImages(data)"
   ]
  },
  {
   "cell_type": "markdown",
   "metadata": {},
   "source": [
    "Now let us apply the mask to this new data and then view it again."
   ]
  },
  {
   "cell_type": "code",
   "execution_count": 17,
   "metadata": {
    "scrolled": false
   },
   "outputs": [],
   "source": [
    "maskedData = maskImageStack(newData,mask)"
   ]
  },
  {
   "cell_type": "code",
   "execution_count": 18,
   "metadata": {},
   "outputs": [
    {
     "data": {
      "image/png": "[encoded data removed]",
      "text/plain": [
       "<Figure size 432x288 with 1 Axes>"
      ]
     },
     "metadata": {
      "needs_background": "light"
     },
     "output_type": "display_data"
    }
   ],
   "source": [
    "drawSingleImage(maskedData[105])"
   ]
  },
  {
   "cell_type": "code",
   "execution_count": 22,
   "metadata": {},
   "outputs": [],
   "source": [
    "def getTHImageStack(stack):\n",
    "    [s,l,w] = np.shape(stack)\n",
    "\n",
    "    for sliceIndex in xrange(s):\n",
    "        imgSlice = np.zeros([l,w])\n",
    "        imgSlice = stack[sliceIndex,:,:]\n",
    "        imgSlice[imgSlice>0]=255\n",
    "        stack[sliceIndex,:,:] = imgSlice   \n",
    "    return stack"
   ]
  },
  {
   "cell_type": "code",
   "execution_count": 23,
   "metadata": {},
   "outputs": [],
   "source": [
    "thImageStack = getTHImageStack(maskedData)    "
   ]
  },
  {
   "cell_type": "code",
   "execution_count": 24,
   "metadata": {},
   "outputs": [
    {
     "data": {
      "image/png": "[encoded data removed]",
      "text/plain": [
       "<Figure size 432x288 with 1 Axes>"
      ]
     },
     "metadata": {
      "needs_background": "light"
     },
     "output_type": "display_data"
    }
   ],
   "source": [
    "drawSingleImage(thImageStack[105])"
   ]
  },
  {
   "cell_type": "markdown",
   "metadata": {},
   "source": [
    "Yes this is exactly what we are looking for.  We can perform some dilation and closing but let us use this for now."
   ]
  },
  {
   "cell_type": "markdown",
   "metadata": {},
   "source": [
    "# Generate Stack of Images"
   ]
  },
  {
   "cell_type": "code",
   "execution_count": 25,
   "metadata": {},
   "outputs": [],
   "source": [
    "import scipy.misc as scioM"
   ]
  },
  {
   "cell_type": "code",
   "execution_count": 47,
   "metadata": {},
   "outputs": [],
   "source": [
    "def saveImage(stack,saveDir,fileName):\n",
    "    [s,l,w] = np.shape(stack)\n",
    "    \n",
    "    for imageSlice in xrange(s):\n",
    "        if imageSlice<10:\n",
    "            fileOut = saveDir+fileName+'00'+str(imageSlice)+'.png'\n",
    "        elif imageSlice <100:\n",
    "            fileOut = saveDir+fileName+'0'+str(imageSlice)+'.png'\n",
    "        else:\n",
    "            fileOut = saveDir+fileName+str(imageSlice)+'.png'\n",
    "        print('Now creating: '+fileOut)\n",
    "        \n",
    "        scioM.imsave(fileOut,stack[imageSlice,:,:])        "
   ]
  },
  {
   "cell_type": "code",
   "execution_count": 48,
   "metadata": {},
   "outputs": [],
   "source": [
    "saveDir = \"C:/Cerebral/_MarioSandBox/DB/medicalHolography/imgStacks/ThresholdedImages/\"\n",
    "fileName = 'sliceImg_'"
   ]
  },
  {
   "cell_type": "code",
   "execution_count": 50,
   "metadata": {},
   "outputs": [
    {
     "name": "stdout",
     "output_type": "stream",
     "text": [
      "Now creating: C:/Cerebral/_MarioSandBox/DB/medicalHolography/imgStacks/ThresholdedImages/sliceImg_000.png\n",
      "Now creating: C:/Cerebral/_MarioSandBox/DB/medicalHolography/imgStacks/ThresholdedImages/sliceImg_001.png\n",
      "Now creating: C:/Cerebral/_MarioSandBox/DB/medicalHolography/imgStacks/ThresholdedImages/sliceImg_002.png\n",
      "Now creating: C:/Cerebral/_MarioSandBox/DB/medicalHolography/imgStacks/ThresholdedImages/sliceImg_003.png\n",
      "Now creating: C:/Cerebral/_MarioSandBox/DB/medicalHolography/imgStacks/ThresholdedImages/sliceImg_004.png\n",
      "Now creating: C:/Cerebral/_MarioSandBox/DB/medicalHolography/imgStacks/ThresholdedImages/sliceImg_005.png\n"
     ]
    },
    {
     "name": "stderr",
     "output_type": "stream",
     "text": [
      "C:\\Users\\HP\\Anaconda2\\lib\\site-packages\\ipykernel\\__main__.py:13: DeprecationWarning:\n",
      "\n",
      "`imsave` is deprecated!\n",
      "`imsave` is deprecated in SciPy 1.0.0, and will be removed in 1.2.0.\n",
      "Use ``imageio.imwrite`` instead.\n",
      "\n"
     ]
    },
    {
     "name": "stdout",
     "output_type": "stream",
     "text": [
      "Now creating: C:/Cerebral/_MarioSandBox/DB/medicalHolography/imgStacks/ThresholdedImages/sliceImg_006.png\n",
      "Now creating: C:/Cerebral/_MarioSandBox/DB/medicalHolography/imgStacks/ThresholdedImages/sliceImg_007.png\n",
      "Now creating: C:/Cerebral/_MarioSandBox/DB/medicalHolography/imgStacks/ThresholdedImages/sliceImg_008.png\n",
      "Now creating: C:/Cerebral/_MarioSandBox/DB/medicalHolography/imgStacks/ThresholdedImages/sliceImg_009.png\n",
      "Now creating: C:/Cerebral/_MarioSandBox/DB/medicalHolography/imgStacks/ThresholdedImages/sliceImg_010.png\n",
      "Now creating: C:/Cerebral/_MarioSandBox/DB/medicalHolography/imgStacks/ThresholdedImages/sliceImg_011.png\n",
      "Now creating: C:/Cerebral/_MarioSandBox/DB/medicalHolography/imgStacks/ThresholdedImages/sliceImg_012.png\n",
      "Now creating: C:/Cerebral/_MarioSandBox/DB/medicalHolography/imgStacks/ThresholdedImages/sliceImg_013.png\n",
      "Now creating: C:/Cerebral/_MarioSandBox/DB/medicalHolography/imgStacks/ThresholdedImages/sliceImg_014.png\n",
      "Now creating: C:/Cerebral/_MarioSandBox/DB/medicalHolography/imgStacks/ThresholdedImages/sliceImg_015.png\n",
      "Now creating: C:/Cerebral/_MarioSandBox/DB/medicalHolography/imgStacks/ThresholdedImages/sliceImg_016.png\n",
      "Now creating: C:/Cerebral/_MarioSandBox/DB/medicalHolography/imgStacks/ThresholdedImages/sliceImg_017.png\n",
      "Now creating: C:/Cerebral/_MarioSandBox/DB/medicalHolography/imgStacks/ThresholdedImages/sliceImg_018.png\n",
      "Now creating: C:/Cerebral/_MarioSandBox/DB/medicalHolography/imgStacks/ThresholdedImages/sliceImg_019.png\n",
      "Now creating: C:/Cerebral/_MarioSandBox/DB/medicalHolography/imgStacks/ThresholdedImages/sliceImg_020.png\n",
      "Now creating: C:/Cerebral/_MarioSandBox/DB/medicalHolography/imgStacks/ThresholdedImages/sliceImg_021.png\n",
      "Now creating: C:/Cerebral/_MarioSandBox/DB/medicalHolography/imgStacks/ThresholdedImages/sliceImg_022.png\n",
      "Now creating: C:/Cerebral/_MarioSandBox/DB/medicalHolography/imgStacks/ThresholdedImages/sliceImg_023.png\n",
      "Now creating: C:/Cerebral/_MarioSandBox/DB/medicalHolography/imgStacks/ThresholdedImages/sliceImg_024.png\n",
      "Now creating: C:/Cerebral/_MarioSandBox/DB/medicalHolography/imgStacks/ThresholdedImages/sliceImg_025.png\n",
      "Now creating: C:/Cerebral/_MarioSandBox/DB/medicalHolography/imgStacks/ThresholdedImages/sliceImg_026.png\n",
      "Now creating: C:/Cerebral/_MarioSandBox/DB/medicalHolography/imgStacks/ThresholdedImages/sliceImg_027.png\n",
      "Now creating: C:/Cerebral/_MarioSandBox/DB/medicalHolography/imgStacks/ThresholdedImages/sliceImg_028.png\n",
      "Now creating: C:/Cerebral/_MarioSandBox/DB/medicalHolography/imgStacks/ThresholdedImages/sliceImg_029.png\n",
      "Now creating: C:/Cerebral/_MarioSandBox/DB/medicalHolography/imgStacks/ThresholdedImages/sliceImg_030.png\n",
      "Now creating: C:/Cerebral/_MarioSandBox/DB/medicalHolography/imgStacks/ThresholdedImages/sliceImg_031.png\n",
      "Now creating: C:/Cerebral/_MarioSandBox/DB/medicalHolography/imgStacks/ThresholdedImages/sliceImg_032.png\n",
      "Now creating: C:/Cerebral/_MarioSandBox/DB/medicalHolography/imgStacks/ThresholdedImages/sliceImg_033.png\n",
      "Now creating: C:/Cerebral/_MarioSandBox/DB/medicalHolography/imgStacks/ThresholdedImages/sliceImg_034.png\n",
      "Now creating: C:/Cerebral/_MarioSandBox/DB/medicalHolography/imgStacks/ThresholdedImages/sliceImg_035.png\n",
      "Now creating: C:/Cerebral/_MarioSandBox/DB/medicalHolography/imgStacks/ThresholdedImages/sliceImg_036.png\n",
      "Now creating: C:/Cerebral/_MarioSandBox/DB/medicalHolography/imgStacks/ThresholdedImages/sliceImg_037.png\n",
      "Now creating: C:/Cerebral/_MarioSandBox/DB/medicalHolography/imgStacks/ThresholdedImages/sliceImg_038.png\n",
      "Now creating: C:/Cerebral/_MarioSandBox/DB/medicalHolography/imgStacks/ThresholdedImages/sliceImg_039.png\n",
      "Now creating: C:/Cerebral/_MarioSandBox/DB/medicalHolography/imgStacks/ThresholdedImages/sliceImg_040.png\n",
      "Now creating: C:/Cerebral/_MarioSandBox/DB/medicalHolography/imgStacks/ThresholdedImages/sliceImg_041.png\n",
      "Now creating: C:/Cerebral/_MarioSandBox/DB/medicalHolography/imgStacks/ThresholdedImages/sliceImg_042.png\n",
      "Now creating: C:/Cerebral/_MarioSandBox/DB/medicalHolography/imgStacks/ThresholdedImages/sliceImg_043.png\n",
      "Now creating: C:/Cerebral/_MarioSandBox/DB/medicalHolography/imgStacks/ThresholdedImages/sliceImg_044.png\n",
      "Now creating: C:/Cerebral/_MarioSandBox/DB/medicalHolography/imgStacks/ThresholdedImages/sliceImg_045.png\n",
      "Now creating: C:/Cerebral/_MarioSandBox/DB/medicalHolography/imgStacks/ThresholdedImages/sliceImg_046.png\n",
      "Now creating: C:/Cerebral/_MarioSandBox/DB/medicalHolography/imgStacks/ThresholdedImages/sliceImg_047.png\n",
      "Now creating: C:/Cerebral/_MarioSandBox/DB/medicalHolography/imgStacks/ThresholdedImages/sliceImg_048.png\n",
      "Now creating: C:/Cerebral/_MarioSandBox/DB/medicalHolography/imgStacks/ThresholdedImages/sliceImg_049.png\n",
      "Now creating: C:/Cerebral/_MarioSandBox/DB/medicalHolography/imgStacks/ThresholdedImages/sliceImg_050.png\n",
      "Now creating: C:/Cerebral/_MarioSandBox/DB/medicalHolography/imgStacks/ThresholdedImages/sliceImg_051.png\n",
      "Now creating: C:/Cerebral/_MarioSandBox/DB/medicalHolography/imgStacks/ThresholdedImages/sliceImg_052.png\n",
      "Now creating: C:/Cerebral/_MarioSandBox/DB/medicalHolography/imgStacks/ThresholdedImages/sliceImg_053.png\n",
      "Now creating: C:/Cerebral/_MarioSandBox/DB/medicalHolography/imgStacks/ThresholdedImages/sliceImg_054.png\n",
      "Now creating: C:/Cerebral/_MarioSandBox/DB/medicalHolography/imgStacks/ThresholdedImages/sliceImg_055.png\n",
      "Now creating: C:/Cerebral/_MarioSandBox/DB/medicalHolography/imgStacks/ThresholdedImages/sliceImg_056.png\n",
      "Now creating: C:/Cerebral/_MarioSandBox/DB/medicalHolography/imgStacks/ThresholdedImages/sliceImg_057.png\n",
      "Now creating: C:/Cerebral/_MarioSandBox/DB/medicalHolography/imgStacks/ThresholdedImages/sliceImg_058.png\n",
      "Now creating: C:/Cerebral/_MarioSandBox/DB/medicalHolography/imgStacks/ThresholdedImages/sliceImg_059.png\n",
      "Now creating: C:/Cerebral/_MarioSandBox/DB/medicalHolography/imgStacks/ThresholdedImages/sliceImg_060.png\n",
      "Now creating: C:/Cerebral/_MarioSandBox/DB/medicalHolography/imgStacks/ThresholdedImages/sliceImg_061.png\n",
      "Now creating: C:/Cerebral/_MarioSandBox/DB/medicalHolography/imgStacks/ThresholdedImages/sliceImg_062.png\n",
      "Now creating: C:/Cerebral/_MarioSandBox/DB/medicalHolography/imgStacks/ThresholdedImages/sliceImg_063.png\n",
      "Now creating: C:/Cerebral/_MarioSandBox/DB/medicalHolography/imgStacks/ThresholdedImages/sliceImg_064.png\n",
      "Now creating: C:/Cerebral/_MarioSandBox/DB/medicalHolography/imgStacks/ThresholdedImages/sliceImg_065.png\n",
      "Now creating: C:/Cerebral/_MarioSandBox/DB/medicalHolography/imgStacks/ThresholdedImages/sliceImg_066.png\n",
      "Now creating: C:/Cerebral/_MarioSandBox/DB/medicalHolography/imgStacks/ThresholdedImages/sliceImg_067.png\n",
      "Now creating: C:/Cerebral/_MarioSandBox/DB/medicalHolography/imgStacks/ThresholdedImages/sliceImg_068.png\n",
      "Now creating: C:/Cerebral/_MarioSandBox/DB/medicalHolography/imgStacks/ThresholdedImages/sliceImg_069.png\n",
      "Now creating: C:/Cerebral/_MarioSandBox/DB/medicalHolography/imgStacks/ThresholdedImages/sliceImg_070.png\n",
      "Now creating: C:/Cerebral/_MarioSandBox/DB/medicalHolography/imgStacks/ThresholdedImages/sliceImg_071.png\n",
      "Now creating: C:/Cerebral/_MarioSandBox/DB/medicalHolography/imgStacks/ThresholdedImages/sliceImg_072.png\n",
      "Now creating: C:/Cerebral/_MarioSandBox/DB/medicalHolography/imgStacks/ThresholdedImages/sliceImg_073.png\n",
      "Now creating: C:/Cerebral/_MarioSandBox/DB/medicalHolography/imgStacks/ThresholdedImages/sliceImg_074.png\n",
      "Now creating: C:/Cerebral/_MarioSandBox/DB/medicalHolography/imgStacks/ThresholdedImages/sliceImg_075.png\n",
      "Now creating: C:/Cerebral/_MarioSandBox/DB/medicalHolography/imgStacks/ThresholdedImages/sliceImg_076.png\n",
      "Now creating: C:/Cerebral/_MarioSandBox/DB/medicalHolography/imgStacks/ThresholdedImages/sliceImg_077.png\n",
      "Now creating: C:/Cerebral/_MarioSandBox/DB/medicalHolography/imgStacks/ThresholdedImages/sliceImg_078.png\n",
      "Now creating: C:/Cerebral/_MarioSandBox/DB/medicalHolography/imgStacks/ThresholdedImages/sliceImg_079.png\n",
      "Now creating: C:/Cerebral/_MarioSandBox/DB/medicalHolography/imgStacks/ThresholdedImages/sliceImg_080.png\n",
      "Now creating: C:/Cerebral/_MarioSandBox/DB/medicalHolography/imgStacks/ThresholdedImages/sliceImg_081.png\n",
      "Now creating: C:/Cerebral/_MarioSandBox/DB/medicalHolography/imgStacks/ThresholdedImages/sliceImg_082.png\n",
      "Now creating: C:/Cerebral/_MarioSandBox/DB/medicalHolography/imgStacks/ThresholdedImages/sliceImg_083.png\n",
      "Now creating: C:/Cerebral/_MarioSandBox/DB/medicalHolography/imgStacks/ThresholdedImages/sliceImg_084.png\n",
      "Now creating: C:/Cerebral/_MarioSandBox/DB/medicalHolography/imgStacks/ThresholdedImages/sliceImg_085.png\n",
      "Now creating: C:/Cerebral/_MarioSandBox/DB/medicalHolography/imgStacks/ThresholdedImages/sliceImg_086.png\n",
      "Now creating: C:/Cerebral/_MarioSandBox/DB/medicalHolography/imgStacks/ThresholdedImages/sliceImg_087.png\n"
     ]
    },
    {
     "name": "stdout",
     "output_type": "stream",
     "text": [
      "Now creating: C:/Cerebral/_MarioSandBox/DB/medicalHolography/imgStacks/ThresholdedImages/sliceImg_088.png\n",
      "Now creating: C:/Cerebral/_MarioSandBox/DB/medicalHolography/imgStacks/ThresholdedImages/sliceImg_089.png\n",
      "Now creating: C:/Cerebral/_MarioSandBox/DB/medicalHolography/imgStacks/ThresholdedImages/sliceImg_090.png\n",
      "Now creating: C:/Cerebral/_MarioSandBox/DB/medicalHolography/imgStacks/ThresholdedImages/sliceImg_091.png\n",
      "Now creating: C:/Cerebral/_MarioSandBox/DB/medicalHolography/imgStacks/ThresholdedImages/sliceImg_092.png\n",
      "Now creating: C:/Cerebral/_MarioSandBox/DB/medicalHolography/imgStacks/ThresholdedImages/sliceImg_093.png\n",
      "Now creating: C:/Cerebral/_MarioSandBox/DB/medicalHolography/imgStacks/ThresholdedImages/sliceImg_094.png\n",
      "Now creating: C:/Cerebral/_MarioSandBox/DB/medicalHolography/imgStacks/ThresholdedImages/sliceImg_095.png\n",
      "Now creating: C:/Cerebral/_MarioSandBox/DB/medicalHolography/imgStacks/ThresholdedImages/sliceImg_096.png\n",
      "Now creating: C:/Cerebral/_MarioSandBox/DB/medicalHolography/imgStacks/ThresholdedImages/sliceImg_097.png\n",
      "Now creating: C:/Cerebral/_MarioSandBox/DB/medicalHolography/imgStacks/ThresholdedImages/sliceImg_098.png\n",
      "Now creating: C:/Cerebral/_MarioSandBox/DB/medicalHolography/imgStacks/ThresholdedImages/sliceImg_099.png\n",
      "Now creating: C:/Cerebral/_MarioSandBox/DB/medicalHolography/imgStacks/ThresholdedImages/sliceImg_100.png\n",
      "Now creating: C:/Cerebral/_MarioSandBox/DB/medicalHolography/imgStacks/ThresholdedImages/sliceImg_101.png\n",
      "Now creating: C:/Cerebral/_MarioSandBox/DB/medicalHolography/imgStacks/ThresholdedImages/sliceImg_102.png\n",
      "Now creating: C:/Cerebral/_MarioSandBox/DB/medicalHolography/imgStacks/ThresholdedImages/sliceImg_103.png\n",
      "Now creating: C:/Cerebral/_MarioSandBox/DB/medicalHolography/imgStacks/ThresholdedImages/sliceImg_104.png\n",
      "Now creating: C:/Cerebral/_MarioSandBox/DB/medicalHolography/imgStacks/ThresholdedImages/sliceImg_105.png\n",
      "Now creating: C:/Cerebral/_MarioSandBox/DB/medicalHolography/imgStacks/ThresholdedImages/sliceImg_106.png\n",
      "Now creating: C:/Cerebral/_MarioSandBox/DB/medicalHolography/imgStacks/ThresholdedImages/sliceImg_107.png\n",
      "Now creating: C:/Cerebral/_MarioSandBox/DB/medicalHolography/imgStacks/ThresholdedImages/sliceImg_108.png\n",
      "Now creating: C:/Cerebral/_MarioSandBox/DB/medicalHolography/imgStacks/ThresholdedImages/sliceImg_109.png\n",
      "Now creating: C:/Cerebral/_MarioSandBox/DB/medicalHolography/imgStacks/ThresholdedImages/sliceImg_110.png\n",
      "Now creating: C:/Cerebral/_MarioSandBox/DB/medicalHolography/imgStacks/ThresholdedImages/sliceImg_111.png\n",
      "Now creating: C:/Cerebral/_MarioSandBox/DB/medicalHolography/imgStacks/ThresholdedImages/sliceImg_112.png\n",
      "Now creating: C:/Cerebral/_MarioSandBox/DB/medicalHolography/imgStacks/ThresholdedImages/sliceImg_113.png\n",
      "Now creating: C:/Cerebral/_MarioSandBox/DB/medicalHolography/imgStacks/ThresholdedImages/sliceImg_114.png\n",
      "Now creating: C:/Cerebral/_MarioSandBox/DB/medicalHolography/imgStacks/ThresholdedImages/sliceImg_115.png\n",
      "Now creating: C:/Cerebral/_MarioSandBox/DB/medicalHolography/imgStacks/ThresholdedImages/sliceImg_116.png\n",
      "Now creating: C:/Cerebral/_MarioSandBox/DB/medicalHolography/imgStacks/ThresholdedImages/sliceImg_117.png\n",
      "Now creating: C:/Cerebral/_MarioSandBox/DB/medicalHolography/imgStacks/ThresholdedImages/sliceImg_118.png\n",
      "Now creating: C:/Cerebral/_MarioSandBox/DB/medicalHolography/imgStacks/ThresholdedImages/sliceImg_119.png\n",
      "Now creating: C:/Cerebral/_MarioSandBox/DB/medicalHolography/imgStacks/ThresholdedImages/sliceImg_120.png\n",
      "Now creating: C:/Cerebral/_MarioSandBox/DB/medicalHolography/imgStacks/ThresholdedImages/sliceImg_121.png\n",
      "Now creating: C:/Cerebral/_MarioSandBox/DB/medicalHolography/imgStacks/ThresholdedImages/sliceImg_122.png\n",
      "Now creating: C:/Cerebral/_MarioSandBox/DB/medicalHolography/imgStacks/ThresholdedImages/sliceImg_123.png\n",
      "Now creating: C:/Cerebral/_MarioSandBox/DB/medicalHolography/imgStacks/ThresholdedImages/sliceImg_124.png\n",
      "Now creating: C:/Cerebral/_MarioSandBox/DB/medicalHolography/imgStacks/ThresholdedImages/sliceImg_125.png\n",
      "Now creating: C:/Cerebral/_MarioSandBox/DB/medicalHolography/imgStacks/ThresholdedImages/sliceImg_126.png\n",
      "Now creating: C:/Cerebral/_MarioSandBox/DB/medicalHolography/imgStacks/ThresholdedImages/sliceImg_127.png\n",
      "Now creating: C:/Cerebral/_MarioSandBox/DB/medicalHolography/imgStacks/ThresholdedImages/sliceImg_128.png\n",
      "Now creating: C:/Cerebral/_MarioSandBox/DB/medicalHolography/imgStacks/ThresholdedImages/sliceImg_129.png\n",
      "Now creating: C:/Cerebral/_MarioSandBox/DB/medicalHolography/imgStacks/ThresholdedImages/sliceImg_130.png\n",
      "Now creating: C:/Cerebral/_MarioSandBox/DB/medicalHolography/imgStacks/ThresholdedImages/sliceImg_131.png\n",
      "Now creating: C:/Cerebral/_MarioSandBox/DB/medicalHolography/imgStacks/ThresholdedImages/sliceImg_132.png\n",
      "Now creating: C:/Cerebral/_MarioSandBox/DB/medicalHolography/imgStacks/ThresholdedImages/sliceImg_133.png\n",
      "Now creating: C:/Cerebral/_MarioSandBox/DB/medicalHolography/imgStacks/ThresholdedImages/sliceImg_134.png\n",
      "Now creating: C:/Cerebral/_MarioSandBox/DB/medicalHolography/imgStacks/ThresholdedImages/sliceImg_135.png\n",
      "Now creating: C:/Cerebral/_MarioSandBox/DB/medicalHolography/imgStacks/ThresholdedImages/sliceImg_136.png\n",
      "Now creating: C:/Cerebral/_MarioSandBox/DB/medicalHolography/imgStacks/ThresholdedImages/sliceImg_137.png\n",
      "Now creating: C:/Cerebral/_MarioSandBox/DB/medicalHolography/imgStacks/ThresholdedImages/sliceImg_138.png\n",
      "Now creating: C:/Cerebral/_MarioSandBox/DB/medicalHolography/imgStacks/ThresholdedImages/sliceImg_139.png\n",
      "Now creating: C:/Cerebral/_MarioSandBox/DB/medicalHolography/imgStacks/ThresholdedImages/sliceImg_140.png\n",
      "Now creating: C:/Cerebral/_MarioSandBox/DB/medicalHolography/imgStacks/ThresholdedImages/sliceImg_141.png\n",
      "Now creating: C:/Cerebral/_MarioSandBox/DB/medicalHolography/imgStacks/ThresholdedImages/sliceImg_142.png\n",
      "Now creating: C:/Cerebral/_MarioSandBox/DB/medicalHolography/imgStacks/ThresholdedImages/sliceImg_143.png\n",
      "Now creating: C:/Cerebral/_MarioSandBox/DB/medicalHolography/imgStacks/ThresholdedImages/sliceImg_144.png\n",
      "Now creating: C:/Cerebral/_MarioSandBox/DB/medicalHolography/imgStacks/ThresholdedImages/sliceImg_145.png\n",
      "Now creating: C:/Cerebral/_MarioSandBox/DB/medicalHolography/imgStacks/ThresholdedImages/sliceImg_146.png\n",
      "Now creating: C:/Cerebral/_MarioSandBox/DB/medicalHolography/imgStacks/ThresholdedImages/sliceImg_147.png\n",
      "Now creating: C:/Cerebral/_MarioSandBox/DB/medicalHolography/imgStacks/ThresholdedImages/sliceImg_148.png\n",
      "Now creating: C:/Cerebral/_MarioSandBox/DB/medicalHolography/imgStacks/ThresholdedImages/sliceImg_149.png\n",
      "Now creating: C:/Cerebral/_MarioSandBox/DB/medicalHolography/imgStacks/ThresholdedImages/sliceImg_150.png\n",
      "Now creating: C:/Cerebral/_MarioSandBox/DB/medicalHolography/imgStacks/ThresholdedImages/sliceImg_151.png\n",
      "Now creating: C:/Cerebral/_MarioSandBox/DB/medicalHolography/imgStacks/ThresholdedImages/sliceImg_152.png\n",
      "Now creating: C:/Cerebral/_MarioSandBox/DB/medicalHolography/imgStacks/ThresholdedImages/sliceImg_153.png\n",
      "Now creating: C:/Cerebral/_MarioSandBox/DB/medicalHolography/imgStacks/ThresholdedImages/sliceImg_154.png\n",
      "Now creating: C:/Cerebral/_MarioSandBox/DB/medicalHolography/imgStacks/ThresholdedImages/sliceImg_155.png\n",
      "Now creating: C:/Cerebral/_MarioSandBox/DB/medicalHolography/imgStacks/ThresholdedImages/sliceImg_156.png\n",
      "Now creating: C:/Cerebral/_MarioSandBox/DB/medicalHolography/imgStacks/ThresholdedImages/sliceImg_157.png\n",
      "Now creating: C:/Cerebral/_MarioSandBox/DB/medicalHolography/imgStacks/ThresholdedImages/sliceImg_158.png\n",
      "Now creating: C:/Cerebral/_MarioSandBox/DB/medicalHolography/imgStacks/ThresholdedImages/sliceImg_159.png\n",
      "Now creating: C:/Cerebral/_MarioSandBox/DB/medicalHolography/imgStacks/ThresholdedImages/sliceImg_160.png\n",
      "Now creating: C:/Cerebral/_MarioSandBox/DB/medicalHolography/imgStacks/ThresholdedImages/sliceImg_161.png\n",
      "Now creating: C:/Cerebral/_MarioSandBox/DB/medicalHolography/imgStacks/ThresholdedImages/sliceImg_162.png\n",
      "Now creating: C:/Cerebral/_MarioSandBox/DB/medicalHolography/imgStacks/ThresholdedImages/sliceImg_163.png\n",
      "Now creating: C:/Cerebral/_MarioSandBox/DB/medicalHolography/imgStacks/ThresholdedImages/sliceImg_164.png\n",
      "Now creating: C:/Cerebral/_MarioSandBox/DB/medicalHolography/imgStacks/ThresholdedImages/sliceImg_165.png\n",
      "Now creating: C:/Cerebral/_MarioSandBox/DB/medicalHolography/imgStacks/ThresholdedImages/sliceImg_166.png\n",
      "Now creating: C:/Cerebral/_MarioSandBox/DB/medicalHolography/imgStacks/ThresholdedImages/sliceImg_167.png\n",
      "Now creating: C:/Cerebral/_MarioSandBox/DB/medicalHolography/imgStacks/ThresholdedImages/sliceImg_168.png\n",
      "Now creating: C:/Cerebral/_MarioSandBox/DB/medicalHolography/imgStacks/ThresholdedImages/sliceImg_169.png\n",
      "Now creating: C:/Cerebral/_MarioSandBox/DB/medicalHolography/imgStacks/ThresholdedImages/sliceImg_170.png\n"
     ]
    },
    {
     "name": "stdout",
     "output_type": "stream",
     "text": [
      "Now creating: C:/Cerebral/_MarioSandBox/DB/medicalHolography/imgStacks/ThresholdedImages/sliceImg_171.png\n",
      "Now creating: C:/Cerebral/_MarioSandBox/DB/medicalHolography/imgStacks/ThresholdedImages/sliceImg_172.png\n",
      "Now creating: C:/Cerebral/_MarioSandBox/DB/medicalHolography/imgStacks/ThresholdedImages/sliceImg_173.png\n",
      "Now creating: C:/Cerebral/_MarioSandBox/DB/medicalHolography/imgStacks/ThresholdedImages/sliceImg_174.png\n",
      "Now creating: C:/Cerebral/_MarioSandBox/DB/medicalHolography/imgStacks/ThresholdedImages/sliceImg_175.png\n",
      "Now creating: C:/Cerebral/_MarioSandBox/DB/medicalHolography/imgStacks/ThresholdedImages/sliceImg_176.png\n",
      "Now creating: C:/Cerebral/_MarioSandBox/DB/medicalHolography/imgStacks/ThresholdedImages/sliceImg_177.png\n",
      "Now creating: C:/Cerebral/_MarioSandBox/DB/medicalHolography/imgStacks/ThresholdedImages/sliceImg_178.png\n",
      "Now creating: C:/Cerebral/_MarioSandBox/DB/medicalHolography/imgStacks/ThresholdedImages/sliceImg_179.png\n",
      "Now creating: C:/Cerebral/_MarioSandBox/DB/medicalHolography/imgStacks/ThresholdedImages/sliceImg_180.png\n",
      "Now creating: C:/Cerebral/_MarioSandBox/DB/medicalHolography/imgStacks/ThresholdedImages/sliceImg_181.png\n",
      "Now creating: C:/Cerebral/_MarioSandBox/DB/medicalHolography/imgStacks/ThresholdedImages/sliceImg_182.png\n",
      "Now creating: C:/Cerebral/_MarioSandBox/DB/medicalHolography/imgStacks/ThresholdedImages/sliceImg_183.png\n",
      "Now creating: C:/Cerebral/_MarioSandBox/DB/medicalHolography/imgStacks/ThresholdedImages/sliceImg_184.png\n",
      "Now creating: C:/Cerebral/_MarioSandBox/DB/medicalHolography/imgStacks/ThresholdedImages/sliceImg_185.png\n",
      "Now creating: C:/Cerebral/_MarioSandBox/DB/medicalHolography/imgStacks/ThresholdedImages/sliceImg_186.png\n",
      "Now creating: C:/Cerebral/_MarioSandBox/DB/medicalHolography/imgStacks/ThresholdedImages/sliceImg_187.png\n",
      "Now creating: C:/Cerebral/_MarioSandBox/DB/medicalHolography/imgStacks/ThresholdedImages/sliceImg_188.png\n",
      "Now creating: C:/Cerebral/_MarioSandBox/DB/medicalHolography/imgStacks/ThresholdedImages/sliceImg_189.png\n",
      "Now creating: C:/Cerebral/_MarioSandBox/DB/medicalHolography/imgStacks/ThresholdedImages/sliceImg_190.png\n",
      "Now creating: C:/Cerebral/_MarioSandBox/DB/medicalHolography/imgStacks/ThresholdedImages/sliceImg_191.png\n",
      "Now creating: C:/Cerebral/_MarioSandBox/DB/medicalHolography/imgStacks/ThresholdedImages/sliceImg_192.png\n",
      "Now creating: C:/Cerebral/_MarioSandBox/DB/medicalHolography/imgStacks/ThresholdedImages/sliceImg_193.png\n",
      "Now creating: C:/Cerebral/_MarioSandBox/DB/medicalHolography/imgStacks/ThresholdedImages/sliceImg_194.png\n",
      "Now creating: C:/Cerebral/_MarioSandBox/DB/medicalHolography/imgStacks/ThresholdedImages/sliceImg_195.png\n",
      "Now creating: C:/Cerebral/_MarioSandBox/DB/medicalHolography/imgStacks/ThresholdedImages/sliceImg_196.png\n",
      "Now creating: C:/Cerebral/_MarioSandBox/DB/medicalHolography/imgStacks/ThresholdedImages/sliceImg_197.png\n",
      "Now creating: C:/Cerebral/_MarioSandBox/DB/medicalHolography/imgStacks/ThresholdedImages/sliceImg_198.png\n",
      "Now creating: C:/Cerebral/_MarioSandBox/DB/medicalHolography/imgStacks/ThresholdedImages/sliceImg_199.png\n",
      "Now creating: C:/Cerebral/_MarioSandBox/DB/medicalHolography/imgStacks/ThresholdedImages/sliceImg_200.png\n",
      "Now creating: C:/Cerebral/_MarioSandBox/DB/medicalHolography/imgStacks/ThresholdedImages/sliceImg_201.png\n",
      "Now creating: C:/Cerebral/_MarioSandBox/DB/medicalHolography/imgStacks/ThresholdedImages/sliceImg_202.png\n",
      "Now creating: C:/Cerebral/_MarioSandBox/DB/medicalHolography/imgStacks/ThresholdedImages/sliceImg_203.png\n",
      "Now creating: C:/Cerebral/_MarioSandBox/DB/medicalHolography/imgStacks/ThresholdedImages/sliceImg_204.png\n",
      "Now creating: C:/Cerebral/_MarioSandBox/DB/medicalHolography/imgStacks/ThresholdedImages/sliceImg_205.png\n",
      "Now creating: C:/Cerebral/_MarioSandBox/DB/medicalHolography/imgStacks/ThresholdedImages/sliceImg_206.png\n",
      "Now creating: C:/Cerebral/_MarioSandBox/DB/medicalHolography/imgStacks/ThresholdedImages/sliceImg_207.png\n",
      "Now creating: C:/Cerebral/_MarioSandBox/DB/medicalHolography/imgStacks/ThresholdedImages/sliceImg_208.png\n",
      "Now creating: C:/Cerebral/_MarioSandBox/DB/medicalHolography/imgStacks/ThresholdedImages/sliceImg_209.png\n",
      "Now creating: C:/Cerebral/_MarioSandBox/DB/medicalHolography/imgStacks/ThresholdedImages/sliceImg_210.png\n",
      "Now creating: C:/Cerebral/_MarioSandBox/DB/medicalHolography/imgStacks/ThresholdedImages/sliceImg_211.png\n",
      "Now creating: C:/Cerebral/_MarioSandBox/DB/medicalHolography/imgStacks/ThresholdedImages/sliceImg_212.png\n",
      "Now creating: C:/Cerebral/_MarioSandBox/DB/medicalHolography/imgStacks/ThresholdedImages/sliceImg_213.png\n",
      "Now creating: C:/Cerebral/_MarioSandBox/DB/medicalHolography/imgStacks/ThresholdedImages/sliceImg_214.png\n",
      "Now creating: C:/Cerebral/_MarioSandBox/DB/medicalHolography/imgStacks/ThresholdedImages/sliceImg_215.png\n",
      "Now creating: C:/Cerebral/_MarioSandBox/DB/medicalHolography/imgStacks/ThresholdedImages/sliceImg_216.png\n",
      "Now creating: C:/Cerebral/_MarioSandBox/DB/medicalHolography/imgStacks/ThresholdedImages/sliceImg_217.png\n",
      "Now creating: C:/Cerebral/_MarioSandBox/DB/medicalHolography/imgStacks/ThresholdedImages/sliceImg_218.png\n",
      "Now creating: C:/Cerebral/_MarioSandBox/DB/medicalHolography/imgStacks/ThresholdedImages/sliceImg_219.png\n",
      "Now creating: C:/Cerebral/_MarioSandBox/DB/medicalHolography/imgStacks/ThresholdedImages/sliceImg_220.png\n",
      "Now creating: C:/Cerebral/_MarioSandBox/DB/medicalHolography/imgStacks/ThresholdedImages/sliceImg_221.png\n",
      "Now creating: C:/Cerebral/_MarioSandBox/DB/medicalHolography/imgStacks/ThresholdedImages/sliceImg_222.png\n",
      "Now creating: C:/Cerebral/_MarioSandBox/DB/medicalHolography/imgStacks/ThresholdedImages/sliceImg_223.png\n",
      "Now creating: C:/Cerebral/_MarioSandBox/DB/medicalHolography/imgStacks/ThresholdedImages/sliceImg_224.png\n",
      "Now creating: C:/Cerebral/_MarioSandBox/DB/medicalHolography/imgStacks/ThresholdedImages/sliceImg_225.png\n",
      "Now creating: C:/Cerebral/_MarioSandBox/DB/medicalHolography/imgStacks/ThresholdedImages/sliceImg_226.png\n",
      "Now creating: C:/Cerebral/_MarioSandBox/DB/medicalHolography/imgStacks/ThresholdedImages/sliceImg_227.png\n",
      "Now creating: C:/Cerebral/_MarioSandBox/DB/medicalHolography/imgStacks/ThresholdedImages/sliceImg_228.png\n",
      "Now creating: C:/Cerebral/_MarioSandBox/DB/medicalHolography/imgStacks/ThresholdedImages/sliceImg_229.png\n",
      "Now creating: C:/Cerebral/_MarioSandBox/DB/medicalHolography/imgStacks/ThresholdedImages/sliceImg_230.png\n",
      "Now creating: C:/Cerebral/_MarioSandBox/DB/medicalHolography/imgStacks/ThresholdedImages/sliceImg_231.png\n",
      "Now creating: C:/Cerebral/_MarioSandBox/DB/medicalHolography/imgStacks/ThresholdedImages/sliceImg_232.png\n",
      "Now creating: C:/Cerebral/_MarioSandBox/DB/medicalHolography/imgStacks/ThresholdedImages/sliceImg_233.png\n",
      "Now creating: C:/Cerebral/_MarioSandBox/DB/medicalHolography/imgStacks/ThresholdedImages/sliceImg_234.png\n",
      "Now creating: C:/Cerebral/_MarioSandBox/DB/medicalHolography/imgStacks/ThresholdedImages/sliceImg_235.png\n",
      "Now creating: C:/Cerebral/_MarioSandBox/DB/medicalHolography/imgStacks/ThresholdedImages/sliceImg_236.png\n",
      "Now creating: C:/Cerebral/_MarioSandBox/DB/medicalHolography/imgStacks/ThresholdedImages/sliceImg_237.png\n",
      "Now creating: C:/Cerebral/_MarioSandBox/DB/medicalHolography/imgStacks/ThresholdedImages/sliceImg_238.png\n",
      "Now creating: C:/Cerebral/_MarioSandBox/DB/medicalHolography/imgStacks/ThresholdedImages/sliceImg_239.png\n",
      "Now creating: C:/Cerebral/_MarioSandBox/DB/medicalHolography/imgStacks/ThresholdedImages/sliceImg_240.png\n",
      "Now creating: C:/Cerebral/_MarioSandBox/DB/medicalHolography/imgStacks/ThresholdedImages/sliceImg_241.png\n",
      "Now creating: C:/Cerebral/_MarioSandBox/DB/medicalHolography/imgStacks/ThresholdedImages/sliceImg_242.png\n",
      "Now creating: C:/Cerebral/_MarioSandBox/DB/medicalHolography/imgStacks/ThresholdedImages/sliceImg_243.png\n",
      "Now creating: C:/Cerebral/_MarioSandBox/DB/medicalHolography/imgStacks/ThresholdedImages/sliceImg_244.png\n",
      "Now creating: C:/Cerebral/_MarioSandBox/DB/medicalHolography/imgStacks/ThresholdedImages/sliceImg_245.png\n",
      "Now creating: C:/Cerebral/_MarioSandBox/DB/medicalHolography/imgStacks/ThresholdedImages/sliceImg_246.png\n",
      "Now creating: C:/Cerebral/_MarioSandBox/DB/medicalHolography/imgStacks/ThresholdedImages/sliceImg_247.png\n",
      "Now creating: C:/Cerebral/_MarioSandBox/DB/medicalHolography/imgStacks/ThresholdedImages/sliceImg_248.png\n",
      "Now creating: C:/Cerebral/_MarioSandBox/DB/medicalHolography/imgStacks/ThresholdedImages/sliceImg_249.png\n",
      "Now creating: C:/Cerebral/_MarioSandBox/DB/medicalHolography/imgStacks/ThresholdedImages/sliceImg_250.png\n",
      "Now creating: C:/Cerebral/_MarioSandBox/DB/medicalHolography/imgStacks/ThresholdedImages/sliceImg_251.png\n",
      "Now creating: C:/Cerebral/_MarioSandBox/DB/medicalHolography/imgStacks/ThresholdedImages/sliceImg_252.png\n"
     ]
    },
    {
     "name": "stdout",
     "output_type": "stream",
     "text": [
      "Now creating: C:/Cerebral/_MarioSandBox/DB/medicalHolography/imgStacks/ThresholdedImages/sliceImg_253.png\n",
      "Now creating: C:/Cerebral/_MarioSandBox/DB/medicalHolography/imgStacks/ThresholdedImages/sliceImg_254.png\n",
      "Now creating: C:/Cerebral/_MarioSandBox/DB/medicalHolography/imgStacks/ThresholdedImages/sliceImg_255.png\n",
      "Now creating: C:/Cerebral/_MarioSandBox/DB/medicalHolography/imgStacks/ThresholdedImages/sliceImg_256.png\n",
      "Now creating: C:/Cerebral/_MarioSandBox/DB/medicalHolography/imgStacks/ThresholdedImages/sliceImg_257.png\n",
      "Now creating: C:/Cerebral/_MarioSandBox/DB/medicalHolography/imgStacks/ThresholdedImages/sliceImg_258.png\n",
      "Now creating: C:/Cerebral/_MarioSandBox/DB/medicalHolography/imgStacks/ThresholdedImages/sliceImg_259.png\n",
      "Now creating: C:/Cerebral/_MarioSandBox/DB/medicalHolography/imgStacks/ThresholdedImages/sliceImg_260.png\n",
      "Now creating: C:/Cerebral/_MarioSandBox/DB/medicalHolography/imgStacks/ThresholdedImages/sliceImg_261.png\n",
      "Now creating: C:/Cerebral/_MarioSandBox/DB/medicalHolography/imgStacks/ThresholdedImages/sliceImg_262.png\n",
      "Now creating: C:/Cerebral/_MarioSandBox/DB/medicalHolography/imgStacks/ThresholdedImages/sliceImg_263.png\n",
      "Now creating: C:/Cerebral/_MarioSandBox/DB/medicalHolography/imgStacks/ThresholdedImages/sliceImg_264.png\n",
      "Now creating: C:/Cerebral/_MarioSandBox/DB/medicalHolography/imgStacks/ThresholdedImages/sliceImg_265.png\n",
      "Now creating: C:/Cerebral/_MarioSandBox/DB/medicalHolography/imgStacks/ThresholdedImages/sliceImg_266.png\n",
      "Now creating: C:/Cerebral/_MarioSandBox/DB/medicalHolography/imgStacks/ThresholdedImages/sliceImg_267.png\n",
      "Now creating: C:/Cerebral/_MarioSandBox/DB/medicalHolography/imgStacks/ThresholdedImages/sliceImg_268.png\n",
      "Now creating: C:/Cerebral/_MarioSandBox/DB/medicalHolography/imgStacks/ThresholdedImages/sliceImg_269.png\n",
      "Now creating: C:/Cerebral/_MarioSandBox/DB/medicalHolography/imgStacks/ThresholdedImages/sliceImg_270.png\n",
      "Now creating: C:/Cerebral/_MarioSandBox/DB/medicalHolography/imgStacks/ThresholdedImages/sliceImg_271.png\n",
      "Now creating: C:/Cerebral/_MarioSandBox/DB/medicalHolography/imgStacks/ThresholdedImages/sliceImg_272.png\n",
      "Now creating: C:/Cerebral/_MarioSandBox/DB/medicalHolography/imgStacks/ThresholdedImages/sliceImg_273.png\n",
      "Now creating: C:/Cerebral/_MarioSandBox/DB/medicalHolography/imgStacks/ThresholdedImages/sliceImg_274.png\n",
      "Now creating: C:/Cerebral/_MarioSandBox/DB/medicalHolography/imgStacks/ThresholdedImages/sliceImg_275.png\n",
      "Now creating: C:/Cerebral/_MarioSandBox/DB/medicalHolography/imgStacks/ThresholdedImages/sliceImg_276.png\n",
      "Now creating: C:/Cerebral/_MarioSandBox/DB/medicalHolography/imgStacks/ThresholdedImages/sliceImg_277.png\n",
      "Now creating: C:/Cerebral/_MarioSandBox/DB/medicalHolography/imgStacks/ThresholdedImages/sliceImg_278.png\n",
      "Now creating: C:/Cerebral/_MarioSandBox/DB/medicalHolography/imgStacks/ThresholdedImages/sliceImg_279.png\n",
      "Now creating: C:/Cerebral/_MarioSandBox/DB/medicalHolography/imgStacks/ThresholdedImages/sliceImg_280.png\n",
      "Now creating: C:/Cerebral/_MarioSandBox/DB/medicalHolography/imgStacks/ThresholdedImages/sliceImg_281.png\n",
      "Now creating: C:/Cerebral/_MarioSandBox/DB/medicalHolography/imgStacks/ThresholdedImages/sliceImg_282.png\n",
      "Now creating: C:/Cerebral/_MarioSandBox/DB/medicalHolography/imgStacks/ThresholdedImages/sliceImg_283.png\n",
      "Now creating: C:/Cerebral/_MarioSandBox/DB/medicalHolography/imgStacks/ThresholdedImages/sliceImg_284.png\n",
      "Now creating: C:/Cerebral/_MarioSandBox/DB/medicalHolography/imgStacks/ThresholdedImages/sliceImg_285.png\n",
      "Now creating: C:/Cerebral/_MarioSandBox/DB/medicalHolography/imgStacks/ThresholdedImages/sliceImg_286.png\n",
      "Now creating: C:/Cerebral/_MarioSandBox/DB/medicalHolography/imgStacks/ThresholdedImages/sliceImg_287.png\n",
      "Now creating: C:/Cerebral/_MarioSandBox/DB/medicalHolography/imgStacks/ThresholdedImages/sliceImg_288.png\n",
      "Now creating: C:/Cerebral/_MarioSandBox/DB/medicalHolography/imgStacks/ThresholdedImages/sliceImg_289.png\n",
      "Now creating: C:/Cerebral/_MarioSandBox/DB/medicalHolography/imgStacks/ThresholdedImages/sliceImg_290.png\n",
      "Now creating: C:/Cerebral/_MarioSandBox/DB/medicalHolography/imgStacks/ThresholdedImages/sliceImg_291.png\n",
      "Now creating: C:/Cerebral/_MarioSandBox/DB/medicalHolography/imgStacks/ThresholdedImages/sliceImg_292.png\n",
      "Now creating: C:/Cerebral/_MarioSandBox/DB/medicalHolography/imgStacks/ThresholdedImages/sliceImg_293.png\n",
      "Now creating: C:/Cerebral/_MarioSandBox/DB/medicalHolography/imgStacks/ThresholdedImages/sliceImg_294.png\n",
      "Now creating: C:/Cerebral/_MarioSandBox/DB/medicalHolography/imgStacks/ThresholdedImages/sliceImg_295.png\n",
      "Now creating: C:/Cerebral/_MarioSandBox/DB/medicalHolography/imgStacks/ThresholdedImages/sliceImg_296.png\n",
      "Now creating: C:/Cerebral/_MarioSandBox/DB/medicalHolography/imgStacks/ThresholdedImages/sliceImg_297.png\n",
      "Now creating: C:/Cerebral/_MarioSandBox/DB/medicalHolography/imgStacks/ThresholdedImages/sliceImg_298.png\n",
      "Now creating: C:/Cerebral/_MarioSandBox/DB/medicalHolography/imgStacks/ThresholdedImages/sliceImg_299.png\n",
      "Now creating: C:/Cerebral/_MarioSandBox/DB/medicalHolography/imgStacks/ThresholdedImages/sliceImg_300.png\n",
      "Now creating: C:/Cerebral/_MarioSandBox/DB/medicalHolography/imgStacks/ThresholdedImages/sliceImg_301.png\n",
      "Now creating: C:/Cerebral/_MarioSandBox/DB/medicalHolography/imgStacks/ThresholdedImages/sliceImg_302.png\n",
      "Now creating: C:/Cerebral/_MarioSandBox/DB/medicalHolography/imgStacks/ThresholdedImages/sliceImg_303.png\n",
      "Now creating: C:/Cerebral/_MarioSandBox/DB/medicalHolography/imgStacks/ThresholdedImages/sliceImg_304.png\n",
      "Now creating: C:/Cerebral/_MarioSandBox/DB/medicalHolography/imgStacks/ThresholdedImages/sliceImg_305.png\n",
      "Now creating: C:/Cerebral/_MarioSandBox/DB/medicalHolography/imgStacks/ThresholdedImages/sliceImg_306.png\n",
      "Now creating: C:/Cerebral/_MarioSandBox/DB/medicalHolography/imgStacks/ThresholdedImages/sliceImg_307.png\n",
      "Now creating: C:/Cerebral/_MarioSandBox/DB/medicalHolography/imgStacks/ThresholdedImages/sliceImg_308.png\n",
      "Now creating: C:/Cerebral/_MarioSandBox/DB/medicalHolography/imgStacks/ThresholdedImages/sliceImg_309.png\n",
      "Now creating: C:/Cerebral/_MarioSandBox/DB/medicalHolography/imgStacks/ThresholdedImages/sliceImg_310.png\n",
      "Now creating: C:/Cerebral/_MarioSandBox/DB/medicalHolography/imgStacks/ThresholdedImages/sliceImg_311.png\n",
      "Now creating: C:/Cerebral/_MarioSandBox/DB/medicalHolography/imgStacks/ThresholdedImages/sliceImg_312.png\n",
      "Now creating: C:/Cerebral/_MarioSandBox/DB/medicalHolography/imgStacks/ThresholdedImages/sliceImg_313.png\n",
      "Now creating: C:/Cerebral/_MarioSandBox/DB/medicalHolography/imgStacks/ThresholdedImages/sliceImg_314.png\n",
      "Now creating: C:/Cerebral/_MarioSandBox/DB/medicalHolography/imgStacks/ThresholdedImages/sliceImg_315.png\n",
      "Now creating: C:/Cerebral/_MarioSandBox/DB/medicalHolography/imgStacks/ThresholdedImages/sliceImg_316.png\n",
      "Now creating: C:/Cerebral/_MarioSandBox/DB/medicalHolography/imgStacks/ThresholdedImages/sliceImg_317.png\n",
      "Now creating: C:/Cerebral/_MarioSandBox/DB/medicalHolography/imgStacks/ThresholdedImages/sliceImg_318.png\n",
      "Now creating: C:/Cerebral/_MarioSandBox/DB/medicalHolography/imgStacks/ThresholdedImages/sliceImg_319.png\n",
      "Now creating: C:/Cerebral/_MarioSandBox/DB/medicalHolography/imgStacks/ThresholdedImages/sliceImg_320.png\n",
      "Now creating: C:/Cerebral/_MarioSandBox/DB/medicalHolography/imgStacks/ThresholdedImages/sliceImg_321.png\n",
      "Now creating: C:/Cerebral/_MarioSandBox/DB/medicalHolography/imgStacks/ThresholdedImages/sliceImg_322.png\n",
      "Now creating: C:/Cerebral/_MarioSandBox/DB/medicalHolography/imgStacks/ThresholdedImages/sliceImg_323.png\n",
      "Now creating: C:/Cerebral/_MarioSandBox/DB/medicalHolography/imgStacks/ThresholdedImages/sliceImg_324.png\n",
      "Now creating: C:/Cerebral/_MarioSandBox/DB/medicalHolography/imgStacks/ThresholdedImages/sliceImg_325.png\n",
      "Now creating: C:/Cerebral/_MarioSandBox/DB/medicalHolography/imgStacks/ThresholdedImages/sliceImg_326.png\n",
      "Now creating: C:/Cerebral/_MarioSandBox/DB/medicalHolography/imgStacks/ThresholdedImages/sliceImg_327.png\n",
      "Now creating: C:/Cerebral/_MarioSandBox/DB/medicalHolography/imgStacks/ThresholdedImages/sliceImg_328.png\n",
      "Now creating: C:/Cerebral/_MarioSandBox/DB/medicalHolography/imgStacks/ThresholdedImages/sliceImg_329.png\n",
      "Now creating: C:/Cerebral/_MarioSandBox/DB/medicalHolography/imgStacks/ThresholdedImages/sliceImg_330.png\n",
      "Now creating: C:/Cerebral/_MarioSandBox/DB/medicalHolography/imgStacks/ThresholdedImages/sliceImg_331.png\n"
     ]
    },
    {
     "name": "stdout",
     "output_type": "stream",
     "text": [
      "Now creating: C:/Cerebral/_MarioSandBox/DB/medicalHolography/imgStacks/ThresholdedImages/sliceImg_332.png\n",
      "Now creating: C:/Cerebral/_MarioSandBox/DB/medicalHolography/imgStacks/ThresholdedImages/sliceImg_333.png\n",
      "Now creating: C:/Cerebral/_MarioSandBox/DB/medicalHolography/imgStacks/ThresholdedImages/sliceImg_334.png\n",
      "Now creating: C:/Cerebral/_MarioSandBox/DB/medicalHolography/imgStacks/ThresholdedImages/sliceImg_335.png\n",
      "Now creating: C:/Cerebral/_MarioSandBox/DB/medicalHolography/imgStacks/ThresholdedImages/sliceImg_336.png\n",
      "Now creating: C:/Cerebral/_MarioSandBox/DB/medicalHolography/imgStacks/ThresholdedImages/sliceImg_337.png\n",
      "Now creating: C:/Cerebral/_MarioSandBox/DB/medicalHolography/imgStacks/ThresholdedImages/sliceImg_338.png\n",
      "Now creating: C:/Cerebral/_MarioSandBox/DB/medicalHolography/imgStacks/ThresholdedImages/sliceImg_339.png\n",
      "Now creating: C:/Cerebral/_MarioSandBox/DB/medicalHolography/imgStacks/ThresholdedImages/sliceImg_340.png\n",
      "Now creating: C:/Cerebral/_MarioSandBox/DB/medicalHolography/imgStacks/ThresholdedImages/sliceImg_341.png\n",
      "Now creating: C:/Cerebral/_MarioSandBox/DB/medicalHolography/imgStacks/ThresholdedImages/sliceImg_342.png\n",
      "Now creating: C:/Cerebral/_MarioSandBox/DB/medicalHolography/imgStacks/ThresholdedImages/sliceImg_343.png\n",
      "Now creating: C:/Cerebral/_MarioSandBox/DB/medicalHolography/imgStacks/ThresholdedImages/sliceImg_344.png\n",
      "Now creating: C:/Cerebral/_MarioSandBox/DB/medicalHolography/imgStacks/ThresholdedImages/sliceImg_345.png\n",
      "Now creating: C:/Cerebral/_MarioSandBox/DB/medicalHolography/imgStacks/ThresholdedImages/sliceImg_346.png\n",
      "Now creating: C:/Cerebral/_MarioSandBox/DB/medicalHolography/imgStacks/ThresholdedImages/sliceImg_347.png\n",
      "Now creating: C:/Cerebral/_MarioSandBox/DB/medicalHolography/imgStacks/ThresholdedImages/sliceImg_348.png\n",
      "Now creating: C:/Cerebral/_MarioSandBox/DB/medicalHolography/imgStacks/ThresholdedImages/sliceImg_349.png\n",
      "Now creating: C:/Cerebral/_MarioSandBox/DB/medicalHolography/imgStacks/ThresholdedImages/sliceImg_350.png\n",
      "Now creating: C:/Cerebral/_MarioSandBox/DB/medicalHolography/imgStacks/ThresholdedImages/sliceImg_351.png\n",
      "Now creating: C:/Cerebral/_MarioSandBox/DB/medicalHolography/imgStacks/ThresholdedImages/sliceImg_352.png\n",
      "Now creating: C:/Cerebral/_MarioSandBox/DB/medicalHolography/imgStacks/ThresholdedImages/sliceImg_353.png\n",
      "Now creating: C:/Cerebral/_MarioSandBox/DB/medicalHolography/imgStacks/ThresholdedImages/sliceImg_354.png\n",
      "Now creating: C:/Cerebral/_MarioSandBox/DB/medicalHolography/imgStacks/ThresholdedImages/sliceImg_355.png\n",
      "Now creating: C:/Cerebral/_MarioSandBox/DB/medicalHolography/imgStacks/ThresholdedImages/sliceImg_356.png\n",
      "Now creating: C:/Cerebral/_MarioSandBox/DB/medicalHolography/imgStacks/ThresholdedImages/sliceImg_357.png\n",
      "Now creating: C:/Cerebral/_MarioSandBox/DB/medicalHolography/imgStacks/ThresholdedImages/sliceImg_358.png\n",
      "Now creating: C:/Cerebral/_MarioSandBox/DB/medicalHolography/imgStacks/ThresholdedImages/sliceImg_359.png\n"
     ]
    }
   ],
   "source": [
    "saveImage(thImageStack,saveDir,fileName)"
   ]
  }
 ],
 "metadata": {
  "anaconda-cloud": {},
  "kernelspec": {
   "display_name": "Python 2",
   "language": "python",
   "name": "python2"
  },
  "language_info": {
   "codemirror_mode": {
    "name": "ipython",
    "version": 2
   },
   "file_extension": ".py",
   "mimetype": "text/x-python",
   "name": "python",
   "nbconvert_exporter": "python",
   "pygments_lexer": "ipython2",
   "version": "2.7.15"
  },
  "latex_envs": {
   "LaTeX_envs_menu_present": true,
   "autoclose": false,
   "autocomplete": true,
   "bibliofile": "biblio.bib",
   "cite_by": "apalike",
   "current_citInitial": 1,
   "eqLabelWithNumbers": true,
   "eqNumInitial": 1,
   "hotkeys": {
    "equation": "Ctrl-E",
    "itemize": "Ctrl-I"
   },
   "labels_anchors": false,
   "latex_user_defs": false,
   "report_style_numbering": false,
   "user_envs_cfg": false
  }
 },
 "nbformat": 4,
 "nbformat_minor": 2
}
