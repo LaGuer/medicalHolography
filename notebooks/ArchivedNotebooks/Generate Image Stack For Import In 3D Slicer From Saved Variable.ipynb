{
 "cells": [
  {
   "cell_type": "markdown",
   "metadata": {},
   "source": [
    "# Generate Image Stack For Import In 3D Slicer\n",
    "The main goal of this notebook is to generate black and white images of each slice and then import them into 3D slicer."
   ]
  },
  {
   "cell_type": "markdown",
   "metadata": {},
   "source": [
    "# Imports"
   ]
  },
  {
   "cell_type": "code",
   "execution_count": 1,
   "metadata": {},
   "outputs": [],
   "source": [
    "import numpy as np\n",
    "import scipy.io \n",
    "import pandas as  pd"
   ]
  },
  {
   "cell_type": "code",
   "execution_count": 2,
   "metadata": {},
   "outputs": [],
   "source": [
    "import matplotlib.pyplot as plt\n",
    "%matplotlib notebook"
   ]
  },
  {
   "cell_type": "markdown",
   "metadata": {},
   "source": [
    "# Data Manipulation"
   ]
  },
  {
   "cell_type": "code",
   "execution_count": 3,
   "metadata": {},
   "outputs": [],
   "source": [
    "def invertImages(stack):\n",
    "    [slices,w,l] = np.shape(stack)\n",
    "    invertedImages = np.zeros([slices,l,w])\n",
    "    numSlices = np.shape(stack)[0]\n",
    "    for sliceIndex in xrange(numSlices):        \n",
    "        currentImage = np.fliplr(np.flipud(stack[sliceIndex].T))\n",
    "        invertedImages[sliceIndex]= currentImage        \n",
    "    return invertedImages    "
   ]
  },
  {
   "cell_type": "markdown",
   "metadata": {},
   "source": [
    "# Visualization Functions"
   ]
  },
  {
   "cell_type": "code",
   "execution_count": 4,
   "metadata": {},
   "outputs": [],
   "source": [
    "def drawSingleImage(stack):\n",
    "    plt.figure()\n",
    "    plt.imshow(stack)"
   ]
  },
  {
   "cell_type": "code",
   "execution_count": 5,
   "metadata": {},
   "outputs": [],
   "source": [
    "def drawSlice(stack,sliceIndex):\n",
    "    plt.figure()\n",
    "    plt.imshow(stack[sliceIndex])"
   ]
  },
  {
   "cell_type": "code",
   "execution_count": 6,
   "metadata": {},
   "outputs": [],
   "source": [
    "def sample_stack(stack, rows=6, cols=6, start_with=10, show_every=3):\n",
    "    fig,ax = plt.subplots(rows,cols,figsize=[12,12])\n",
    "    for i in range(rows*cols):\n",
    "        ind = start_with + i*show_every\n",
    "        ax[int(i/rows),int(i % rows)].set_title('slice %d' % ind)\n",
    "        ax[int(i/rows),int(i % rows)].imshow(stack[ind],cmap='jet')\n",
    "        ax[int(i/rows),int(i % rows)].axis('off')\n",
    "    plt.show()"
   ]
  },
  {
   "cell_type": "markdown",
   "metadata": {},
   "source": [
    "# Mask Functions"
   ]
  },
  {
   "cell_type": "code",
   "execution_count": 7,
   "metadata": {},
   "outputs": [],
   "source": [
    "def maskImageStack(stack,mask):    \n",
    "    maskedImages = np.zeros(np.shape(stack))\n",
    "    numSlices = np.shape(stack)[0]\n",
    "    for sliceIndex in xrange(numSlices):\n",
    "        currentImage = stack[sliceIndex]\n",
    "        maskedImages[sliceIndex]= np.multiply(currentImage,mask)\n",
    "    \n",
    "    return maskedImages    "
   ]
  },
  {
   "cell_type": "markdown",
   "metadata": {},
   "source": [
    "# Data visualization Functions\n",
    "- [3D Plotting](https://www.raddq.com/dicom-processing-segmentation-visualization-in-python/)"
   ]
  },
  {
   "cell_type": "code",
   "execution_count": 8,
   "metadata": {},
   "outputs": [],
   "source": [
    "from plotly import __version__\n",
    "from plotly.offline import download_plotlyjs, init_notebook_mode, plot, iplot\n",
    "from plotly.tools import FigureFactory as FF\n",
    "from plotly.graph_objs import *\n",
    "\n",
    "import  plotly.plotly  as py\n",
    "import plotly.graph_objs as go"
   ]
  },
  {
   "cell_type": "code",
   "execution_count": 9,
   "metadata": {},
   "outputs": [],
   "source": [
    "from mpl_toolkits.mplot3d.art3d import Poly3DCollection\n",
    "import scipy.ndimage\n",
    "from skimage import morphology\n",
    "from skimage import measure\n",
    "from skimage.transform import resize\n",
    "from sklearn.cluster import KMeans"
   ]
  },
  {
   "cell_type": "code",
   "execution_count": 10,
   "metadata": {},
   "outputs": [],
   "source": [
    "def make_mesh(image, threshold=-300, step_size=1):\n",
    "    print \"Transposing surface\"\n",
    "    p = image.transpose(2,1,0)\n",
    "    \n",
    "    print \"Calculating surface\"\n",
    "    verts, faces = measure.marching_cubes(p, threshold) \n",
    "    #verts, faces, normals, values = measure.marching_cubes_lewiner(p, 0.0)\n",
    "    return verts, faces\n",
    "\n",
    "def plotly_3d(verts, faces):\n",
    "    x,y,z = zip(*verts) \n",
    "    \n",
    "    print \"Drawing\"\n",
    "    \n",
    "    # Make the colormap single color since the axes are positional not intensity. \n",
    "#    colormap=['rgb(255,105,180)','rgb(255,255,51)','rgb(0,191,255)']\n",
    "    colormap=['rgb(236, 236, 212)','rgb(236, 236, 212)']\n",
    "    \n",
    "    fig = FF.create_trisurf(x=x,\n",
    "                        y=y, \n",
    "                        z=z, \n",
    "                        plot_edges=False,\n",
    "                        colormap=colormap,\n",
    "                        simplices=faces,\n",
    "                        backgroundcolor='rgb(64, 64, 64)',\n",
    "                        title=\"Interactive Visualization\")\n",
    "    iplot(fig)\n",
    "\n",
    "def plt_3d(verts, faces):\n",
    "    print \"Drawing\"\n",
    "    x,y,z = zip(*verts) \n",
    "    fig = plt.figure(figsize=(10, 10))\n",
    "    ax = fig.add_subplot(111, projection='3d')\n",
    "    \n",
    "    print 'generating poly3d'\n",
    "    # Fancy indexing: `verts[faces]` to generate a collection of triangles\n",
    "    mesh = Poly3DCollection(verts[faces], linewidths=0.05, alpha=1)\n",
    "    print 'finished generating poly3d'\n",
    "    face_color = [1, 1, 0.9]\n",
    "    print 'adding some colour'\n",
    "    mesh.set_facecolor(face_color)\n",
    "    ax.add_collection3d(mesh)\n",
    "\n",
    "    print 'setting limits'\n",
    "    ax.set_xlim(0, max(x))\n",
    "    ax.set_ylim(0, max(y))\n",
    "    ax.set_zlim(0, max(z))\n",
    "    print 'adding some colour'\n",
    "    ax.set_axis_bgcolor((0.7, 0.7, 0.7))\n",
    "    print 'showing'\n",
    "    plt.show()\n",
    "    print 'finished'"
   ]
  },
  {
   "cell_type": "code",
   "execution_count": 11,
   "metadata": {},
   "outputs": [],
   "source": [
    "def myplotly_3d(verts, faces):\n",
    "    x,y,z = zip(*verts) \n",
    "    \n",
    "    print \"Drawing\"\n",
    "    \n",
    "    # Make the colormap single color since the axes are positional not intensity. \n",
    "#    colormap=['rgb(255,105,180)','rgb(255,255,51)','rgb(0,191,255)']\n",
    "    colormap=['rgb(236, 236, 212)','rgb(236, 236, 212)']\n",
    "    \n",
    "    fig = FF.create_trisurf(x=x,\n",
    "                        y=y, \n",
    "                        z=z, \n",
    "                        plot_edges=False,\n",
    "                        colormap=\"Portland\",\n",
    "                        simplices=faces,\n",
    "                        backgroundcolor='rgb(64, 64, 64)',\n",
    "                        title=\"Interactive Visualization\")\n",
    "    iplot(fig)\n"
   ]
  },
  {
   "cell_type": "markdown",
   "metadata": {},
   "source": [
    "# Main Work"
   ]
  },
  {
   "cell_type": "code",
   "execution_count": 21,
   "metadata": {},
   "outputs": [],
   "source": [
    "dbDir = 'C:/Cerebral/_MarioSandBox/DB/medicalHolography/pythonVariables/'\n",
    "FileName = dbDir+'thStackMedianMorphologyApplied.npy'\n",
    "VariableToSaveToImages = np.load(FileName)"
   ]
  },
  {
   "cell_type": "code",
   "execution_count": 22,
   "metadata": {},
   "outputs": [
    {
     "data": {
      "text/plain": [
       "(180L, 760L, 766L)"
      ]
     },
     "execution_count": 22,
     "metadata": {},
     "output_type": "execute_result"
    }
   ],
   "source": [
    "np.shape(VariableToSaveToImages)"
   ]
  },
  {
   "cell_type": "code",
   "execution_count": 23,
   "metadata": {},
   "outputs": [
    {
     "data": {
      "image/png": "[encoded data removed]",
      "text/plain": [
       "<Figure size 432x288 with 1 Axes>"
      ]
     },
     "metadata": {
      "needs_background": "light"
     },
     "output_type": "display_data"
    }
   ],
   "source": [
    "drawSingleImage(VariableToSaveToImages[10])"
   ]
  },
  {
   "cell_type": "markdown",
   "metadata": {},
   "source": [
    "Yes this is exactly what we are looking for.  We can perform some dilation and closing but let us use this for now."
   ]
  },
  {
   "cell_type": "markdown",
   "metadata": {},
   "source": [
    "# Generate Stack of Images"
   ]
  },
  {
   "cell_type": "code",
   "execution_count": 17,
   "metadata": {},
   "outputs": [],
   "source": [
    "import scipy.misc as scioM"
   ]
  },
  {
   "cell_type": "code",
   "execution_count": 18,
   "metadata": {},
   "outputs": [],
   "source": [
    "def saveImage(stack,saveDir,fileName):\n",
    "    [s,l,w] = np.shape(stack)\n",
    "    \n",
    "    for imageSlice in xrange(s):\n",
    "        if imageSlice<10:\n",
    "            fileOut = saveDir+fileName+'00'+str(imageSlice)+'.png'\n",
    "        elif imageSlice <100:\n",
    "            fileOut = saveDir+fileName+'0'+str(imageSlice)+'.png'\n",
    "        else:\n",
    "            fileOut = saveDir+fileName+str(imageSlice)+'.png'\n",
    "        print('Now creating: '+fileOut)\n",
    "        \n",
    "        scioM.imsave(fileOut,stack[imageSlice,:,:])        "
   ]
  },
  {
   "cell_type": "code",
   "execution_count": 24,
   "metadata": {},
   "outputs": [],
   "source": [
    "saveDir = \"C:/Cerebral/_MarioSandBox/DB/medicalHolography/imgStacks/MedianMorphologicalImages/\"\n",
    "fileName = 'sliceImg_'"
   ]
  },
  {
   "cell_type": "code",
   "execution_count": 25,
   "metadata": {},
   "outputs": [
    {
     "name": "stdout",
     "output_type": "stream",
     "text": [
      "Now creating: C:/Cerebral/_MarioSandBox/DB/medicalHolography/imgStacks/MedianMorphologicalImages/sliceImg_000.png\n",
      "Now creating: C:/Cerebral/_MarioSandBox/DB/medicalHolography/imgStacks/MedianMorphologicalImages/sliceImg_001.png\n",
      "Now creating: C:/Cerebral/_MarioSandBox/DB/medicalHolography/imgStacks/MedianMorphologicalImages/sliceImg_002.png\n",
      "Now creating: C:/Cerebral/_MarioSandBox/DB/medicalHolography/imgStacks/MedianMorphologicalImages/sliceImg_003.png\n",
      "Now creating: C:/Cerebral/_MarioSandBox/DB/medicalHolography/imgStacks/MedianMorphologicalImages/sliceImg_004.png\n",
      "Now creating: C:/Cerebral/_MarioSandBox/DB/medicalHolography/imgStacks/MedianMorphologicalImages/sliceImg_005.png\n",
      "Now creating: C:/Cerebral/_MarioSandBox/DB/medicalHolography/imgStacks/MedianMorphologicalImages/sliceImg_006.png\n",
      "Now creating: C:/Cerebral/_MarioSandBox/DB/medicalHolography/imgStacks/MedianMorphologicalImages/sliceImg_007.png\n",
      "Now creating: C:/Cerebral/_MarioSandBox/DB/medicalHolography/imgStacks/MedianMorphologicalImages/sliceImg_008.png\n",
      "Now creating: C:/Cerebral/_MarioSandBox/DB/medicalHolography/imgStacks/MedianMorphologicalImages/sliceImg_009.png\n",
      "Now creating: C:/Cerebral/_MarioSandBox/DB/medicalHolography/imgStacks/MedianMorphologicalImages/sliceImg_010.png\n",
      "Now creating: C:/Cerebral/_MarioSandBox/DB/medicalHolography/imgStacks/MedianMorphologicalImages/sliceImg_011.png\n"
     ]
    },
    {
     "name": "stderr",
     "output_type": "stream",
     "text": [
      "C:\\Users\\HP\\Anaconda2\\lib\\site-packages\\ipykernel\\__main__.py:13: DeprecationWarning:\n",
      "\n",
      "`imsave` is deprecated!\n",
      "`imsave` is deprecated in SciPy 1.0.0, and will be removed in 1.2.0.\n",
      "Use ``imageio.imwrite`` instead.\n",
      "\n"
     ]
    },
    {
     "name": "stdout",
     "output_type": "stream",
     "text": [
      "Now creating: C:/Cerebral/_MarioSandBox/DB/medicalHolography/imgStacks/MedianMorphologicalImages/sliceImg_012.png\n",
      "Now creating: C:/Cerebral/_MarioSandBox/DB/medicalHolography/imgStacks/MedianMorphologicalImages/sliceImg_013.png\n",
      "Now creating: C:/Cerebral/_MarioSandBox/DB/medicalHolography/imgStacks/MedianMorphologicalImages/sliceImg_014.png\n",
      "Now creating: C:/Cerebral/_MarioSandBox/DB/medicalHolography/imgStacks/MedianMorphologicalImages/sliceImg_015.png\n",
      "Now creating: C:/Cerebral/_MarioSandBox/DB/medicalHolography/imgStacks/MedianMorphologicalImages/sliceImg_016.png\n",
      "Now creating: C:/Cerebral/_MarioSandBox/DB/medicalHolography/imgStacks/MedianMorphologicalImages/sliceImg_017.png\n",
      "Now creating: C:/Cerebral/_MarioSandBox/DB/medicalHolography/imgStacks/MedianMorphologicalImages/sliceImg_018.png\n",
      "Now creating: C:/Cerebral/_MarioSandBox/DB/medicalHolography/imgStacks/MedianMorphologicalImages/sliceImg_019.png\n",
      "Now creating: C:/Cerebral/_MarioSandBox/DB/medicalHolography/imgStacks/MedianMorphologicalImages/sliceImg_020.png\n",
      "Now creating: C:/Cerebral/_MarioSandBox/DB/medicalHolography/imgStacks/MedianMorphologicalImages/sliceImg_021.png\n",
      "Now creating: C:/Cerebral/_MarioSandBox/DB/medicalHolography/imgStacks/MedianMorphologicalImages/sliceImg_022.png\n",
      "Now creating: C:/Cerebral/_MarioSandBox/DB/medicalHolography/imgStacks/MedianMorphologicalImages/sliceImg_023.png\n",
      "Now creating: C:/Cerebral/_MarioSandBox/DB/medicalHolography/imgStacks/MedianMorphologicalImages/sliceImg_024.png\n",
      "Now creating: C:/Cerebral/_MarioSandBox/DB/medicalHolography/imgStacks/MedianMorphologicalImages/sliceImg_025.png\n",
      "Now creating: C:/Cerebral/_MarioSandBox/DB/medicalHolography/imgStacks/MedianMorphologicalImages/sliceImg_026.png\n",
      "Now creating: C:/Cerebral/_MarioSandBox/DB/medicalHolography/imgStacks/MedianMorphologicalImages/sliceImg_027.png\n",
      "Now creating: C:/Cerebral/_MarioSandBox/DB/medicalHolography/imgStacks/MedianMorphologicalImages/sliceImg_028.png\n",
      "Now creating: C:/Cerebral/_MarioSandBox/DB/medicalHolography/imgStacks/MedianMorphologicalImages/sliceImg_029.png\n",
      "Now creating: C:/Cerebral/_MarioSandBox/DB/medicalHolography/imgStacks/MedianMorphologicalImages/sliceImg_030.png\n",
      "Now creating: C:/Cerebral/_MarioSandBox/DB/medicalHolography/imgStacks/MedianMorphologicalImages/sliceImg_031.png\n",
      "Now creating: C:/Cerebral/_MarioSandBox/DB/medicalHolography/imgStacks/MedianMorphologicalImages/sliceImg_032.png\n",
      "Now creating: C:/Cerebral/_MarioSandBox/DB/medicalHolography/imgStacks/MedianMorphologicalImages/sliceImg_033.png\n",
      "Now creating: C:/Cerebral/_MarioSandBox/DB/medicalHolography/imgStacks/MedianMorphologicalImages/sliceImg_034.png\n",
      "Now creating: C:/Cerebral/_MarioSandBox/DB/medicalHolography/imgStacks/MedianMorphologicalImages/sliceImg_035.png\n",
      "Now creating: C:/Cerebral/_MarioSandBox/DB/medicalHolography/imgStacks/MedianMorphologicalImages/sliceImg_036.png\n",
      "Now creating: C:/Cerebral/_MarioSandBox/DB/medicalHolography/imgStacks/MedianMorphologicalImages/sliceImg_037.png\n",
      "Now creating: C:/Cerebral/_MarioSandBox/DB/medicalHolography/imgStacks/MedianMorphologicalImages/sliceImg_038.png\n",
      "Now creating: C:/Cerebral/_MarioSandBox/DB/medicalHolography/imgStacks/MedianMorphologicalImages/sliceImg_039.png\n",
      "Now creating: C:/Cerebral/_MarioSandBox/DB/medicalHolography/imgStacks/MedianMorphologicalImages/sliceImg_040.png\n",
      "Now creating: C:/Cerebral/_MarioSandBox/DB/medicalHolography/imgStacks/MedianMorphologicalImages/sliceImg_041.png\n",
      "Now creating: C:/Cerebral/_MarioSandBox/DB/medicalHolography/imgStacks/MedianMorphologicalImages/sliceImg_042.png\n",
      "Now creating: C:/Cerebral/_MarioSandBox/DB/medicalHolography/imgStacks/MedianMorphologicalImages/sliceImg_043.png\n",
      "Now creating: C:/Cerebral/_MarioSandBox/DB/medicalHolography/imgStacks/MedianMorphologicalImages/sliceImg_044.png\n",
      "Now creating: C:/Cerebral/_MarioSandBox/DB/medicalHolography/imgStacks/MedianMorphologicalImages/sliceImg_045.png\n",
      "Now creating: C:/Cerebral/_MarioSandBox/DB/medicalHolography/imgStacks/MedianMorphologicalImages/sliceImg_046.png\n",
      "Now creating: C:/Cerebral/_MarioSandBox/DB/medicalHolography/imgStacks/MedianMorphologicalImages/sliceImg_047.png\n",
      "Now creating: C:/Cerebral/_MarioSandBox/DB/medicalHolography/imgStacks/MedianMorphologicalImages/sliceImg_048.png\n",
      "Now creating: C:/Cerebral/_MarioSandBox/DB/medicalHolography/imgStacks/MedianMorphologicalImages/sliceImg_049.png\n",
      "Now creating: C:/Cerebral/_MarioSandBox/DB/medicalHolography/imgStacks/MedianMorphologicalImages/sliceImg_050.png\n",
      "Now creating: C:/Cerebral/_MarioSandBox/DB/medicalHolography/imgStacks/MedianMorphologicalImages/sliceImg_051.png\n",
      "Now creating: C:/Cerebral/_MarioSandBox/DB/medicalHolography/imgStacks/MedianMorphologicalImages/sliceImg_052.png\n",
      "Now creating: C:/Cerebral/_MarioSandBox/DB/medicalHolography/imgStacks/MedianMorphologicalImages/sliceImg_053.png\n",
      "Now creating: C:/Cerebral/_MarioSandBox/DB/medicalHolography/imgStacks/MedianMorphologicalImages/sliceImg_054.png\n",
      "Now creating: C:/Cerebral/_MarioSandBox/DB/medicalHolography/imgStacks/MedianMorphologicalImages/sliceImg_055.png\n",
      "Now creating: C:/Cerebral/_MarioSandBox/DB/medicalHolography/imgStacks/MedianMorphologicalImages/sliceImg_056.png\n",
      "Now creating: C:/Cerebral/_MarioSandBox/DB/medicalHolography/imgStacks/MedianMorphologicalImages/sliceImg_057.png\n",
      "Now creating: C:/Cerebral/_MarioSandBox/DB/medicalHolography/imgStacks/MedianMorphologicalImages/sliceImg_058.png\n",
      "Now creating: C:/Cerebral/_MarioSandBox/DB/medicalHolography/imgStacks/MedianMorphologicalImages/sliceImg_059.png\n",
      "Now creating: C:/Cerebral/_MarioSandBox/DB/medicalHolography/imgStacks/MedianMorphologicalImages/sliceImg_060.png\n",
      "Now creating: C:/Cerebral/_MarioSandBox/DB/medicalHolography/imgStacks/MedianMorphologicalImages/sliceImg_061.png\n",
      "Now creating: C:/Cerebral/_MarioSandBox/DB/medicalHolography/imgStacks/MedianMorphologicalImages/sliceImg_062.png\n",
      "Now creating: C:/Cerebral/_MarioSandBox/DB/medicalHolography/imgStacks/MedianMorphologicalImages/sliceImg_063.png\n",
      "Now creating: C:/Cerebral/_MarioSandBox/DB/medicalHolography/imgStacks/MedianMorphologicalImages/sliceImg_064.png\n",
      "Now creating: C:/Cerebral/_MarioSandBox/DB/medicalHolography/imgStacks/MedianMorphologicalImages/sliceImg_065.png\n",
      "Now creating: C:/Cerebral/_MarioSandBox/DB/medicalHolography/imgStacks/MedianMorphologicalImages/sliceImg_066.png\n",
      "Now creating: C:/Cerebral/_MarioSandBox/DB/medicalHolography/imgStacks/MedianMorphologicalImages/sliceImg_067.png\n",
      "Now creating: C:/Cerebral/_MarioSandBox/DB/medicalHolography/imgStacks/MedianMorphologicalImages/sliceImg_068.png\n",
      "Now creating: C:/Cerebral/_MarioSandBox/DB/medicalHolography/imgStacks/MedianMorphologicalImages/sliceImg_069.png\n",
      "Now creating: C:/Cerebral/_MarioSandBox/DB/medicalHolography/imgStacks/MedianMorphologicalImages/sliceImg_070.png\n",
      "Now creating: C:/Cerebral/_MarioSandBox/DB/medicalHolography/imgStacks/MedianMorphologicalImages/sliceImg_071.png\n",
      "Now creating: C:/Cerebral/_MarioSandBox/DB/medicalHolography/imgStacks/MedianMorphologicalImages/sliceImg_072.png\n",
      "Now creating: C:/Cerebral/_MarioSandBox/DB/medicalHolography/imgStacks/MedianMorphologicalImages/sliceImg_073.png\n",
      "Now creating: C:/Cerebral/_MarioSandBox/DB/medicalHolography/imgStacks/MedianMorphologicalImages/sliceImg_074.png\n",
      "Now creating: C:/Cerebral/_MarioSandBox/DB/medicalHolography/imgStacks/MedianMorphologicalImages/sliceImg_075.png\n",
      "Now creating: C:/Cerebral/_MarioSandBox/DB/medicalHolography/imgStacks/MedianMorphologicalImages/sliceImg_076.png\n",
      "Now creating: C:/Cerebral/_MarioSandBox/DB/medicalHolography/imgStacks/MedianMorphologicalImages/sliceImg_077.png\n",
      "Now creating: C:/Cerebral/_MarioSandBox/DB/medicalHolography/imgStacks/MedianMorphologicalImages/sliceImg_078.png\n",
      "Now creating: C:/Cerebral/_MarioSandBox/DB/medicalHolography/imgStacks/MedianMorphologicalImages/sliceImg_079.png\n",
      "Now creating: C:/Cerebral/_MarioSandBox/DB/medicalHolography/imgStacks/MedianMorphologicalImages/sliceImg_080.png\n",
      "Now creating: C:/Cerebral/_MarioSandBox/DB/medicalHolography/imgStacks/MedianMorphologicalImages/sliceImg_081.png\n",
      "Now creating: C:/Cerebral/_MarioSandBox/DB/medicalHolography/imgStacks/MedianMorphologicalImages/sliceImg_082.png\n",
      "Now creating: C:/Cerebral/_MarioSandBox/DB/medicalHolography/imgStacks/MedianMorphologicalImages/sliceImg_083.png\n",
      "Now creating: C:/Cerebral/_MarioSandBox/DB/medicalHolography/imgStacks/MedianMorphologicalImages/sliceImg_084.png\n",
      "Now creating: C:/Cerebral/_MarioSandBox/DB/medicalHolography/imgStacks/MedianMorphologicalImages/sliceImg_085.png\n",
      "Now creating: C:/Cerebral/_MarioSandBox/DB/medicalHolography/imgStacks/MedianMorphologicalImages/sliceImg_086.png\n",
      "Now creating: C:/Cerebral/_MarioSandBox/DB/medicalHolography/imgStacks/MedianMorphologicalImages/sliceImg_087.png\n",
      "Now creating: C:/Cerebral/_MarioSandBox/DB/medicalHolography/imgStacks/MedianMorphologicalImages/sliceImg_088.png\n",
      "Now creating: C:/Cerebral/_MarioSandBox/DB/medicalHolography/imgStacks/MedianMorphologicalImages/sliceImg_089.png\n",
      "Now creating: C:/Cerebral/_MarioSandBox/DB/medicalHolography/imgStacks/MedianMorphologicalImages/sliceImg_090.png\n"
     ]
    },
    {
     "name": "stdout",
     "output_type": "stream",
     "text": [
      "Now creating: C:/Cerebral/_MarioSandBox/DB/medicalHolography/imgStacks/MedianMorphologicalImages/sliceImg_091.png\n",
      "Now creating: C:/Cerebral/_MarioSandBox/DB/medicalHolography/imgStacks/MedianMorphologicalImages/sliceImg_092.png\n",
      "Now creating: C:/Cerebral/_MarioSandBox/DB/medicalHolography/imgStacks/MedianMorphologicalImages/sliceImg_093.png\n",
      "Now creating: C:/Cerebral/_MarioSandBox/DB/medicalHolography/imgStacks/MedianMorphologicalImages/sliceImg_094.png\n",
      "Now creating: C:/Cerebral/_MarioSandBox/DB/medicalHolography/imgStacks/MedianMorphologicalImages/sliceImg_095.png\n",
      "Now creating: C:/Cerebral/_MarioSandBox/DB/medicalHolography/imgStacks/MedianMorphologicalImages/sliceImg_096.png\n",
      "Now creating: C:/Cerebral/_MarioSandBox/DB/medicalHolography/imgStacks/MedianMorphologicalImages/sliceImg_097.png\n",
      "Now creating: C:/Cerebral/_MarioSandBox/DB/medicalHolography/imgStacks/MedianMorphologicalImages/sliceImg_098.png\n",
      "Now creating: C:/Cerebral/_MarioSandBox/DB/medicalHolography/imgStacks/MedianMorphologicalImages/sliceImg_099.png\n",
      "Now creating: C:/Cerebral/_MarioSandBox/DB/medicalHolography/imgStacks/MedianMorphologicalImages/sliceImg_100.png\n",
      "Now creating: C:/Cerebral/_MarioSandBox/DB/medicalHolography/imgStacks/MedianMorphologicalImages/sliceImg_101.png\n",
      "Now creating: C:/Cerebral/_MarioSandBox/DB/medicalHolography/imgStacks/MedianMorphologicalImages/sliceImg_102.png\n",
      "Now creating: C:/Cerebral/_MarioSandBox/DB/medicalHolography/imgStacks/MedianMorphologicalImages/sliceImg_103.png\n",
      "Now creating: C:/Cerebral/_MarioSandBox/DB/medicalHolography/imgStacks/MedianMorphologicalImages/sliceImg_104.png\n",
      "Now creating: C:/Cerebral/_MarioSandBox/DB/medicalHolography/imgStacks/MedianMorphologicalImages/sliceImg_105.png\n",
      "Now creating: C:/Cerebral/_MarioSandBox/DB/medicalHolography/imgStacks/MedianMorphologicalImages/sliceImg_106.png\n",
      "Now creating: C:/Cerebral/_MarioSandBox/DB/medicalHolography/imgStacks/MedianMorphologicalImages/sliceImg_107.png\n",
      "Now creating: C:/Cerebral/_MarioSandBox/DB/medicalHolography/imgStacks/MedianMorphologicalImages/sliceImg_108.png\n",
      "Now creating: C:/Cerebral/_MarioSandBox/DB/medicalHolography/imgStacks/MedianMorphologicalImages/sliceImg_109.png\n",
      "Now creating: C:/Cerebral/_MarioSandBox/DB/medicalHolography/imgStacks/MedianMorphologicalImages/sliceImg_110.png\n",
      "Now creating: C:/Cerebral/_MarioSandBox/DB/medicalHolography/imgStacks/MedianMorphologicalImages/sliceImg_111.png\n",
      "Now creating: C:/Cerebral/_MarioSandBox/DB/medicalHolography/imgStacks/MedianMorphologicalImages/sliceImg_112.png\n",
      "Now creating: C:/Cerebral/_MarioSandBox/DB/medicalHolography/imgStacks/MedianMorphologicalImages/sliceImg_113.png\n",
      "Now creating: C:/Cerebral/_MarioSandBox/DB/medicalHolography/imgStacks/MedianMorphologicalImages/sliceImg_114.png\n",
      "Now creating: C:/Cerebral/_MarioSandBox/DB/medicalHolography/imgStacks/MedianMorphologicalImages/sliceImg_115.png\n",
      "Now creating: C:/Cerebral/_MarioSandBox/DB/medicalHolography/imgStacks/MedianMorphologicalImages/sliceImg_116.png\n",
      "Now creating: C:/Cerebral/_MarioSandBox/DB/medicalHolography/imgStacks/MedianMorphologicalImages/sliceImg_117.png\n",
      "Now creating: C:/Cerebral/_MarioSandBox/DB/medicalHolography/imgStacks/MedianMorphologicalImages/sliceImg_118.png\n",
      "Now creating: C:/Cerebral/_MarioSandBox/DB/medicalHolography/imgStacks/MedianMorphologicalImages/sliceImg_119.png\n",
      "Now creating: C:/Cerebral/_MarioSandBox/DB/medicalHolography/imgStacks/MedianMorphologicalImages/sliceImg_120.png\n",
      "Now creating: C:/Cerebral/_MarioSandBox/DB/medicalHolography/imgStacks/MedianMorphologicalImages/sliceImg_121.png\n",
      "Now creating: C:/Cerebral/_MarioSandBox/DB/medicalHolography/imgStacks/MedianMorphologicalImages/sliceImg_122.png\n",
      "Now creating: C:/Cerebral/_MarioSandBox/DB/medicalHolography/imgStacks/MedianMorphologicalImages/sliceImg_123.png\n",
      "Now creating: C:/Cerebral/_MarioSandBox/DB/medicalHolography/imgStacks/MedianMorphologicalImages/sliceImg_124.png\n",
      "Now creating: C:/Cerebral/_MarioSandBox/DB/medicalHolography/imgStacks/MedianMorphologicalImages/sliceImg_125.png\n",
      "Now creating: C:/Cerebral/_MarioSandBox/DB/medicalHolography/imgStacks/MedianMorphologicalImages/sliceImg_126.png\n",
      "Now creating: C:/Cerebral/_MarioSandBox/DB/medicalHolography/imgStacks/MedianMorphologicalImages/sliceImg_127.png\n",
      "Now creating: C:/Cerebral/_MarioSandBox/DB/medicalHolography/imgStacks/MedianMorphologicalImages/sliceImg_128.png\n",
      "Now creating: C:/Cerebral/_MarioSandBox/DB/medicalHolography/imgStacks/MedianMorphologicalImages/sliceImg_129.png\n",
      "Now creating: C:/Cerebral/_MarioSandBox/DB/medicalHolography/imgStacks/MedianMorphologicalImages/sliceImg_130.png\n",
      "Now creating: C:/Cerebral/_MarioSandBox/DB/medicalHolography/imgStacks/MedianMorphologicalImages/sliceImg_131.png\n",
      "Now creating: C:/Cerebral/_MarioSandBox/DB/medicalHolography/imgStacks/MedianMorphologicalImages/sliceImg_132.png\n",
      "Now creating: C:/Cerebral/_MarioSandBox/DB/medicalHolography/imgStacks/MedianMorphologicalImages/sliceImg_133.png\n",
      "Now creating: C:/Cerebral/_MarioSandBox/DB/medicalHolography/imgStacks/MedianMorphologicalImages/sliceImg_134.png\n",
      "Now creating: C:/Cerebral/_MarioSandBox/DB/medicalHolography/imgStacks/MedianMorphologicalImages/sliceImg_135.png\n",
      "Now creating: C:/Cerebral/_MarioSandBox/DB/medicalHolography/imgStacks/MedianMorphologicalImages/sliceImg_136.png\n",
      "Now creating: C:/Cerebral/_MarioSandBox/DB/medicalHolography/imgStacks/MedianMorphologicalImages/sliceImg_137.png\n",
      "Now creating: C:/Cerebral/_MarioSandBox/DB/medicalHolography/imgStacks/MedianMorphologicalImages/sliceImg_138.png\n",
      "Now creating: C:/Cerebral/_MarioSandBox/DB/medicalHolography/imgStacks/MedianMorphologicalImages/sliceImg_139.png\n",
      "Now creating: C:/Cerebral/_MarioSandBox/DB/medicalHolography/imgStacks/MedianMorphologicalImages/sliceImg_140.png\n",
      "Now creating: C:/Cerebral/_MarioSandBox/DB/medicalHolography/imgStacks/MedianMorphologicalImages/sliceImg_141.png\n",
      "Now creating: C:/Cerebral/_MarioSandBox/DB/medicalHolography/imgStacks/MedianMorphologicalImages/sliceImg_142.png\n",
      "Now creating: C:/Cerebral/_MarioSandBox/DB/medicalHolography/imgStacks/MedianMorphologicalImages/sliceImg_143.png\n",
      "Now creating: C:/Cerebral/_MarioSandBox/DB/medicalHolography/imgStacks/MedianMorphologicalImages/sliceImg_144.png\n",
      "Now creating: C:/Cerebral/_MarioSandBox/DB/medicalHolography/imgStacks/MedianMorphologicalImages/sliceImg_145.png\n",
      "Now creating: C:/Cerebral/_MarioSandBox/DB/medicalHolography/imgStacks/MedianMorphologicalImages/sliceImg_146.png\n",
      "Now creating: C:/Cerebral/_MarioSandBox/DB/medicalHolography/imgStacks/MedianMorphologicalImages/sliceImg_147.png\n",
      "Now creating: C:/Cerebral/_MarioSandBox/DB/medicalHolography/imgStacks/MedianMorphologicalImages/sliceImg_148.png\n",
      "Now creating: C:/Cerebral/_MarioSandBox/DB/medicalHolography/imgStacks/MedianMorphologicalImages/sliceImg_149.png\n",
      "Now creating: C:/Cerebral/_MarioSandBox/DB/medicalHolography/imgStacks/MedianMorphologicalImages/sliceImg_150.png\n",
      "Now creating: C:/Cerebral/_MarioSandBox/DB/medicalHolography/imgStacks/MedianMorphologicalImages/sliceImg_151.png\n",
      "Now creating: C:/Cerebral/_MarioSandBox/DB/medicalHolography/imgStacks/MedianMorphologicalImages/sliceImg_152.png\n",
      "Now creating: C:/Cerebral/_MarioSandBox/DB/medicalHolography/imgStacks/MedianMorphologicalImages/sliceImg_153.png\n",
      "Now creating: C:/Cerebral/_MarioSandBox/DB/medicalHolography/imgStacks/MedianMorphologicalImages/sliceImg_154.png\n",
      "Now creating: C:/Cerebral/_MarioSandBox/DB/medicalHolography/imgStacks/MedianMorphologicalImages/sliceImg_155.png\n",
      "Now creating: C:/Cerebral/_MarioSandBox/DB/medicalHolography/imgStacks/MedianMorphologicalImages/sliceImg_156.png\n",
      "Now creating: C:/Cerebral/_MarioSandBox/DB/medicalHolography/imgStacks/MedianMorphologicalImages/sliceImg_157.png\n",
      "Now creating: C:/Cerebral/_MarioSandBox/DB/medicalHolography/imgStacks/MedianMorphologicalImages/sliceImg_158.png\n",
      "Now creating: C:/Cerebral/_MarioSandBox/DB/medicalHolography/imgStacks/MedianMorphologicalImages/sliceImg_159.png\n",
      "Now creating: C:/Cerebral/_MarioSandBox/DB/medicalHolography/imgStacks/MedianMorphologicalImages/sliceImg_160.png\n",
      "Now creating: C:/Cerebral/_MarioSandBox/DB/medicalHolography/imgStacks/MedianMorphologicalImages/sliceImg_161.png\n",
      "Now creating: C:/Cerebral/_MarioSandBox/DB/medicalHolography/imgStacks/MedianMorphologicalImages/sliceImg_162.png\n",
      "Now creating: C:/Cerebral/_MarioSandBox/DB/medicalHolography/imgStacks/MedianMorphologicalImages/sliceImg_163.png\n",
      "Now creating: C:/Cerebral/_MarioSandBox/DB/medicalHolography/imgStacks/MedianMorphologicalImages/sliceImg_164.png\n",
      "Now creating: C:/Cerebral/_MarioSandBox/DB/medicalHolography/imgStacks/MedianMorphologicalImages/sliceImg_165.png\n",
      "Now creating: C:/Cerebral/_MarioSandBox/DB/medicalHolography/imgStacks/MedianMorphologicalImages/sliceImg_166.png\n",
      "Now creating: C:/Cerebral/_MarioSandBox/DB/medicalHolography/imgStacks/MedianMorphologicalImages/sliceImg_167.png\n",
      "Now creating: C:/Cerebral/_MarioSandBox/DB/medicalHolography/imgStacks/MedianMorphologicalImages/sliceImg_168.png\n"
     ]
    },
    {
     "name": "stdout",
     "output_type": "stream",
     "text": [
      "Now creating: C:/Cerebral/_MarioSandBox/DB/medicalHolography/imgStacks/MedianMorphologicalImages/sliceImg_169.png\n",
      "Now creating: C:/Cerebral/_MarioSandBox/DB/medicalHolography/imgStacks/MedianMorphologicalImages/sliceImg_170.png\n",
      "Now creating: C:/Cerebral/_MarioSandBox/DB/medicalHolography/imgStacks/MedianMorphologicalImages/sliceImg_171.png\n",
      "Now creating: C:/Cerebral/_MarioSandBox/DB/medicalHolography/imgStacks/MedianMorphologicalImages/sliceImg_172.png\n",
      "Now creating: C:/Cerebral/_MarioSandBox/DB/medicalHolography/imgStacks/MedianMorphologicalImages/sliceImg_173.png\n",
      "Now creating: C:/Cerebral/_MarioSandBox/DB/medicalHolography/imgStacks/MedianMorphologicalImages/sliceImg_174.png\n",
      "Now creating: C:/Cerebral/_MarioSandBox/DB/medicalHolography/imgStacks/MedianMorphologicalImages/sliceImg_175.png\n",
      "Now creating: C:/Cerebral/_MarioSandBox/DB/medicalHolography/imgStacks/MedianMorphologicalImages/sliceImg_176.png\n",
      "Now creating: C:/Cerebral/_MarioSandBox/DB/medicalHolography/imgStacks/MedianMorphologicalImages/sliceImg_177.png\n",
      "Now creating: C:/Cerebral/_MarioSandBox/DB/medicalHolography/imgStacks/MedianMorphologicalImages/sliceImg_178.png\n",
      "Now creating: C:/Cerebral/_MarioSandBox/DB/medicalHolography/imgStacks/MedianMorphologicalImages/sliceImg_179.png\n"
     ]
    }
   ],
   "source": [
    "saveImage(VariableToSaveToImages,saveDir,fileName)"
   ]
  },
  {
   "cell_type": "code",
   "execution_count": null,
   "metadata": {},
   "outputs": [],
   "source": []
  }
 ],
 "metadata": {
  "anaconda-cloud": {},
  "kernelspec": {
   "display_name": "Python [conda env:Anaconda2]",
   "language": "python",
   "name": "conda-env-Anaconda2-py"
  },
  "language_info": {
   "codemirror_mode": {
    "name": "ipython",
    "version": 2
   },
   "file_extension": ".py",
   "mimetype": "text/x-python",
   "name": "python",
   "nbconvert_exporter": "python",
   "pygments_lexer": "ipython2",
   "version": "2.7.15"
  }
 },
 "nbformat": 4,
 "nbformat_minor": 2
}
