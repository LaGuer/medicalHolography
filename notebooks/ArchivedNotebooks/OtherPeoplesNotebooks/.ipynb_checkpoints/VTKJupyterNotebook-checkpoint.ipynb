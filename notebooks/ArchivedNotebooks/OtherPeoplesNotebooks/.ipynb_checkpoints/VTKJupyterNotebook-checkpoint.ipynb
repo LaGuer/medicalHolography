{
 "cells": [
  {
   "cell_type": "markdown",
   "metadata": {},
   "source": [
    "I got this notebook online from [here](https://pyscience.wordpress.com/2014/09/06/numpy-to-vtk-converting-your-numpy-arrays-to-vtk-arrays-and-files/) it can be found in evernote.  This is just a simple test to see if VTK is working properly in Jupyter. \n",
    "\n",
    "Judging from the outputs it seems so.  Except the sections where you read in the data.  I can't find a compatible data source to do some rendering.  I will look into this further but for this should be working"
   ]
  },
  {
   "cell_type": "code",
   "execution_count": 1,
   "metadata": {},
   "outputs": [],
   "source": [
    "def vtk_show(renderer, w=100, h=100):\n",
    "    \"\"\"\n",
    "    Takes vtkRenderer instance and returns an IPython Image with the rendering.\n",
    "    \"\"\"\n",
    "    renderWindow = vtkRenderWindow()\n",
    "    renderWindow.SetOffScreenRendering(1)\n",
    "    renderWindow.AddRenderer(renderer)\n",
    "    renderWindow.SetSize(w, h)\n",
    "    renderWindow.Render()\n",
    "     \n",
    "    windowToImageFilter = vtkWindowToImageFilter()\n",
    "    windowToImageFilter.SetInput(renderWindow)\n",
    "    windowToImageFilter.Update()\n",
    "     \n",
    "    writer = vtkPNGWriter()\n",
    "    writer.SetWriteToMemory(1)\n",
    "    writer.SetInputConnection(windowToImageFilter.GetOutputPort())\n",
    "    writer.Write()\n",
    "    data = str(buffer(writer.GetResult()))\n",
    "    \n",
    "    from IPython.display import Image\n",
    "    return Image(data)"
   ]
  },
  {
   "cell_type": "code",
   "execution_count": 2,
   "metadata": {},
   "outputs": [
    {
     "data": {
      "image/png": "[encoded data removed]",
      "text/plain": [
       "<IPython.core.display.Image object>"
      ]
     },
     "execution_count": 2,
     "metadata": {},
     "output_type": "execute_result"
    }
   ],
   "source": [
    "from vtk import (vtkSphereSource, vtkPolyDataMapper, vtkActor, vtkRenderer,\n",
    "        vtkRenderWindow, vtkWindowToImageFilter, vtkPNGWriter)\n",
    " \n",
    "sphereSource = vtkSphereSource()\n",
    "sphereSource.SetPhiResolution(200)\n",
    "sphereSource.SetThetaResolution(200)\n",
    "mapper = vtkPolyDataMapper()\n",
    "mapper.SetInputConnection(sphereSource.GetOutputPort())\n",
    " \n",
    "actor = vtkActor()\n",
    "actor.SetMapper(mapper)\n",
    "actor.GetProperty().SetColor(1,1,0)\n",
    " \n",
    "renderer = vtkRenderer()\n",
    "renderer.AddActor(actor)\n",
    "renderer.SetBackground(1, 1, 1)\n",
    "\n",
    "vtk_show(renderer, 200, 200)"
   ]
  },
  {
   "cell_type": "code",
   "execution_count": 10,
   "metadata": {},
   "outputs": [
    {
     "data": {
      "image/png": "[encoded data removed]",
      "text/plain": [
       "<IPython.core.display.Image object>"
      ]
     },
     "execution_count": 10,
     "metadata": {},
     "output_type": "execute_result"
    }
   ],
   "source": [
    "from vtk import vtkStructuredGridReader, vtkPlane, vtkCutter, vtkDataSetMapper, vtkContourFilter\n",
    "r = vtkStructuredGridReader()\n",
    "r.SetFileName(\"C:/Cerebral/_MarioSandBox/Python/medicalHolography/notebooks/OtherPeoplesNotebooks/rbc_001.vtk\")\n",
    "r.Update()\n",
    "\n",
    "# Contour\n",
    "\n",
    "iso = vtkContourFilter()\n",
    "iso.SetInputConnection(r.GetOutputPort())\n",
    "iso.SetValue(0, 0.26)\n",
    "\n",
    "m = vtkPolyDataMapper()\n",
    "m.SetInputConnection(iso.GetOutputPort())\n",
    "m.SetScalarRange(r.GetOutput().GetScalarRange())\n",
    "\n",
    "a1 = vtkActor()\n",
    "a1.SetMapper(m)\n",
    "\n",
    "# Plane\n",
    "\n",
    "plane = vtkPlane()\n",
    "plane.SetOrigin(r.GetOutput().GetCenter())\n",
    "plane.SetNormal(-0.2, 0.2, 0.9579)\n",
    "\n",
    "c = vtkCutter()\n",
    "c.SetInputConnection(r.GetOutputPort())\n",
    "c.SetCutFunction(plane)\n",
    "\n",
    "m = vtkPolyDataMapper()\n",
    "m.SetInputConnection(c.GetOutputPort())\n",
    "m.SetScalarRange(r.GetOutput().GetScalarRange()) \n",
    "\n",
    "a2 = vtkActor()\n",
    "a2.SetMapper(m)\n",
    "\n",
    "\n",
    "# Render\n",
    "\n",
    "\n",
    "renderer = vtkRenderer()\n",
    "renderer.AddActor(a1)\n",
    "renderer.AddActor(a2)\n",
    "renderer.SetBackground(0.8, 1, 1)\n",
    "\n",
    "vtk_show(renderer, 500, 500)"
   ]
  },
  {
   "cell_type": "code",
   "execution_count": 5,
   "metadata": {},
   "outputs": [
    {
     "data": {
      "image/png": "[encoded data removed]",
      "text/plain": [
       "<IPython.core.display.Image object>"
      ]
     },
     "execution_count": 5,
     "metadata": {},
     "output_type": "execute_result"
    }
   ],
   "source": [
    "import vtk\n",
    " \n",
    "#Create a cube\n",
    "cube=vtk.vtkCubeSource()\n",
    "cube.SetXLength(40)\n",
    "cube.SetYLength(30)\n",
    "cube.SetZLength(20)\n",
    "cubeMapper=vtk.vtkPolyDataMapper()\n",
    "cubeMapper.SetInputConnection(cube.GetOutputPort())\n",
    " \n",
    "#create a plane to cut,here it cuts in the XZ direction (xz normal=(1,0,0);XY =(0,0,1),YZ =(0,1,0)\n",
    "plane=vtk.vtkPlane()\n",
    "plane.SetOrigin(10,0,0)\n",
    "plane.SetNormal(1,1,0)\n",
    " \n",
    "#create cutter\n",
    "cutter=vtk.vtkCutter()\n",
    "cutter.SetCutFunction(plane)\n",
    "cutter.SetInputConnection(cube.GetOutputPort())\n",
    "cutter.Update()\n",
    "cutterMapper=vtk.vtkPolyDataMapper()\n",
    "cutterMapper.SetInputConnection( cutter.GetOutputPort())\n",
    " \n",
    "#create plane actor\n",
    "planeActor=vtk.vtkActor()\n",
    "planeActor.GetProperty().SetColor(1.0,1,0)\n",
    "planeActor.GetProperty().SetLineWidth(2)\n",
    "planeActor.SetMapper(cutterMapper)\n",
    " \n",
    "#create cube actor\n",
    "cubeActor=vtk.vtkActor()\n",
    "cubeActor.GetProperty().SetColor(0.5,1,0.5)\n",
    "cubeActor.GetProperty().SetOpacity(0.5)\n",
    "cubeActor.SetMapper(cubeMapper)\n",
    " \n",
    "#create renderers and add actors of plane and cube\n",
    "ren = vtk.vtkRenderer()\n",
    "ren.AddActor(planeActor)\n",
    "ren.AddActor(cubeActor)\n",
    "ren.SetBackground(0,0,0)\n",
    "\n",
    "vtk_show(ren, 200, 200)"
   ]
  },
  {
   "cell_type": "code",
   "execution_count": 11,
   "metadata": {},
   "outputs": [
    {
     "data": {
      "image/png": "[encoded data removed]",
      "text/plain": [
       "<IPython.core.display.Image object>"
      ]
     },
     "execution_count": 11,
     "metadata": {},
     "output_type": "execute_result"
    }
   ],
   "source": [
    "from vtk import (vtkStructuredGridReader, vtkPlane, vtkCutter, vtkDataSetMapper, vtkContourFilter,\n",
    "        vtkCamera)\n",
    "\n",
    "def get_plane_actor(r, n1, n2, n3):\n",
    "    plane = vtkPlane()\n",
    "    plane.SetOrigin(r.GetOutput().GetCenter())\n",
    "    plane.SetNormal(n1, n2, n3)\n",
    "    \n",
    "    c = vtkCutter()\n",
    "    c.SetInputConnection(r.GetOutputPort())\n",
    "    c.SetCutFunction(plane)\n",
    "    \n",
    "    m = vtkPolyDataMapper()\n",
    "    m.SetInputConnection(c.GetOutputPort())\n",
    "    m.SetScalarRange(r.GetOutput().GetScalarRange()) \n",
    "    \n",
    "    a = vtkActor()\n",
    "    a.SetMapper(m)\n",
    "    return a\n",
    "\n",
    "\n",
    "r = vtkStructuredGridReader()\n",
    "r.SetFileName(\"C:/Cerebral/_MarioSandBox/Python/medicalHolography/notebooks/OtherPeoplesNotebooks/rbc_001.vtk\")\n",
    "r.Update()\n",
    "\n",
    "a1 = get_plane_actor(r, 0, 0, 1)\n",
    "a2 = get_plane_actor(r, 0, 1, 0)\n",
    "a3 = get_plane_actor(r, 1, 0, 0)\n",
    "\n",
    "camera =vtkCamera()\n",
    "camera.SetPosition(100, 100, 100)\n",
    "camera.SetFocalPoint(0, 0, 0)\n",
    "\n",
    "renderer = vtkRenderer()\n",
    "renderer.SetActiveCamera(camera)\n",
    "renderer.AddActor(a1)\n",
    "renderer.AddActor(a2)\n",
    "renderer.AddActor(a3)\n",
    "renderer.SetBackground(0.8, 1, 1)\n",
    "\n",
    "vtk_show(renderer, 500, 500)"
   ]
  },
  {
   "cell_type": "code",
   "execution_count": 7,
   "metadata": {},
   "outputs": [
    {
     "data": {
      "image/png": "[encoded data removed]",
      "text/plain": [
       "<IPython.core.display.Image object>"
      ]
     },
     "execution_count": 7,
     "metadata": {},
     "output_type": "execute_result"
    }
   ],
   "source": [
    "camera.SetPosition(0, 0, 100)\n",
    "vtk_show(renderer, 500, 500)"
   ]
  },
  {
   "cell_type": "code",
   "execution_count": 8,
   "metadata": {},
   "outputs": [
    {
     "data": {
      "image/png": "[encoded data removed]",
      "text/plain": [
       "<IPython.core.display.Image object>"
      ]
     },
     "execution_count": 8,
     "metadata": {},
     "output_type": "execute_result"
    }
   ],
   "source": [
    "camera.SetPosition(0, 50, 100)\n",
    "vtk_show(renderer, 500, 500)"
   ]
  },
  {
   "cell_type": "code",
   "execution_count": null,
   "metadata": {},
   "outputs": [],
   "source": []
  }
 ],
 "metadata": {
  "kernelspec": {
   "display_name": "Python [default]",
   "language": "python",
   "name": "python2"
  },
  "language_info": {
   "codemirror_mode": {
    "name": "ipython",
    "version": 2
   },
   "file_extension": ".py",
   "mimetype": "text/x-python",
   "name": "python",
   "nbconvert_exporter": "python",
   "pygments_lexer": "ipython2",
   "version": "2.7.15"
  }
 },
 "nbformat": 4,
 "nbformat_minor": 1
}
