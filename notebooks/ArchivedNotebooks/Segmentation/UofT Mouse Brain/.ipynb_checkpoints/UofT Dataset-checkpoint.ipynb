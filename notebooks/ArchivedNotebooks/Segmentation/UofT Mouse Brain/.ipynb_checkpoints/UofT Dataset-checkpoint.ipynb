{
 "cells": [
  {
   "cell_type": "markdown",
   "metadata": {},
   "source": [
    "# Background\n"
   ]
  },
  {
   "cell_type": "markdown",
   "metadata": {},
   "source": [
    "I found the database here:\n",
    " - [NeuroMouse Project](http://phm.utoronto.ca/~jeffh/surgical.html)"
   ]
  },
  {
   "cell_type": "markdown",
   "metadata": {},
   "source": [
    "# Imports"
   ]
  },
  {
   "cell_type": "code",
   "execution_count": 2,
   "metadata": {},
   "outputs": [
    {
     "name": "stdout",
     "output_type": "stream",
     "text": [
      "Populating the interactive namespace from numpy and matplotlib\n"
     ]
    }
   ],
   "source": [
    "import os\n",
    "import numpy\n",
    "import SimpleITK\n",
    "import matplotlib.pyplot as plt\n",
    "%pylab inline\n",
    "\n",
    "import vtk\n",
    "from vtk.util import numpy_support"
   ]
  },
  {
   "cell_type": "code",
   "execution_count": 3,
   "metadata": {},
   "outputs": [],
   "source": [
    "# Directory where the DICOM files are being stored (in this\n",
    "# case the 'MyHead' folder). \n",
    "pathMNC = \"C://Cerebral//_MarioSandBox//DB//medicalHolography//UofT Mouse Brain//c57bl6j_skull_whole.mnc\"\n",
    "\n",
    "# Z slice of the DICOM files to process. In the interest of\n",
    "# simplicity, segmentation will be limited to a single 2D\n",
    "# image but all processes are entirely applicable to the 3D image\n",
    "idxSlice = 10\n",
    "\n",
    "# int labels to assign to the segmented white and gray matter.\n",
    "# These need to be different integers but their values themselves\n",
    "# don't matter\n",
    "labelWhiteMatter = 1\n",
    "labelGrayMatter = 2"
   ]
  },
  {
   "cell_type": "code",
   "execution_count": 4,
   "metadata": {},
   "outputs": [
    {
     "ename": "RuntimeError",
     "evalue": "Exception thrown in SimpleITK ImageSeriesReader_Execute: ..\\..\\..\\..\\..\\SimpleITK\\Code\\IO\\src\\sitkImageSeriesReader.cxx:124:\nsitk::ERROR: File names information is empty. Cannot read series.",
     "output_type": "error",
     "traceback": [
      "\u001b[1;31m---------------------------------------------------------------------------\u001b[0m",
      "\u001b[1;31mRuntimeError\u001b[0m                              Traceback (most recent call last)",
      "\u001b[1;32m<ipython-input-4-798850cfea47>\u001b[0m in \u001b[0;36m<module>\u001b[1;34m()\u001b[0m\n\u001b[0;32m      2\u001b[0m \u001b[0mfilenamesDICOM\u001b[0m \u001b[1;33m=\u001b[0m \u001b[0mreader\u001b[0m\u001b[1;33m.\u001b[0m\u001b[0mGetGDCMSeriesFileNames\u001b[0m\u001b[1;33m(\u001b[0m\u001b[0mpathDicom\u001b[0m\u001b[1;33m)\u001b[0m\u001b[1;33m\u001b[0m\u001b[0m\n\u001b[0;32m      3\u001b[0m \u001b[0mreader\u001b[0m\u001b[1;33m.\u001b[0m\u001b[0mSetFileNames\u001b[0m\u001b[1;33m(\u001b[0m\u001b[0mfilenamesDICOM\u001b[0m\u001b[1;33m)\u001b[0m\u001b[1;33m\u001b[0m\u001b[0m\n\u001b[1;32m----> 4\u001b[1;33m \u001b[0mimgOriginalVolume\u001b[0m \u001b[1;33m=\u001b[0m \u001b[0mreader\u001b[0m\u001b[1;33m.\u001b[0m\u001b[0mExecute\u001b[0m\u001b[1;33m(\u001b[0m\u001b[1;33m)\u001b[0m\u001b[1;33m\u001b[0m\u001b[0m\n\u001b[0m",
      "\u001b[1;32mC:\\Users\\HP\\Anaconda2\\envs\\py27\\lib\\site-packages\\SimpleITK\\SimpleITK.pyc\u001b[0m in \u001b[0;36mExecute\u001b[1;34m(self)\u001b[0m\n\u001b[0;32m   8299\u001b[0m \u001b[1;33m\u001b[0m\u001b[0m\n\u001b[0;32m   8300\u001b[0m         \"\"\"\n\u001b[1;32m-> 8301\u001b[1;33m         \u001b[1;32mreturn\u001b[0m \u001b[0m_SimpleITK\u001b[0m\u001b[1;33m.\u001b[0m\u001b[0mImageSeriesReader_Execute\u001b[0m\u001b[1;33m(\u001b[0m\u001b[0mself\u001b[0m\u001b[1;33m)\u001b[0m\u001b[1;33m\u001b[0m\u001b[0m\n\u001b[0m\u001b[0;32m   8302\u001b[0m \u001b[1;33m\u001b[0m\u001b[0m\n\u001b[0;32m   8303\u001b[0m \u001b[1;33m\u001b[0m\u001b[0m\n",
      "\u001b[1;31mRuntimeError\u001b[0m: Exception thrown in SimpleITK ImageSeriesReader_Execute: ..\\..\\..\\..\\..\\SimpleITK\\Code\\IO\\src\\sitkImageSeriesReader.cxx:124:\nsitk::ERROR: File names information is empty. Cannot read series."
     ]
    }
   ],
   "source": [
    "reader = vtk.vtkDICOMImageReader()\n",
    "reader.SetDirectoryName(pathMNC)\n",
    "reader.Update()"
   ]
  },
  {
   "cell_type": "code",
   "execution_count": null,
   "metadata": {},
   "outputs": [],
   "source": []
  }
 ],
 "metadata": {
  "kernelspec": {
   "display_name": "Python 2",
   "language": "python",
   "name": "python2"
  },
  "language_info": {
   "codemirror_mode": {
    "name": "ipython",
    "version": 2
   },
   "file_extension": ".py",
   "mimetype": "text/x-python",
   "name": "python",
   "nbconvert_exporter": "python",
   "pygments_lexer": "ipython2",
   "version": "2.7.15"
  },
  "latex_envs": {
   "LaTeX_envs_menu_present": true,
   "autoclose": false,
   "autocomplete": true,
   "bibliofile": "biblio.bib",
   "cite_by": "apalike",
   "current_citInitial": 1,
   "eqLabelWithNumbers": true,
   "eqNumInitial": 1,
   "hotkeys": {
    "equation": "Ctrl-E",
    "itemize": "Ctrl-I"
   },
   "labels_anchors": false,
   "latex_user_defs": false,
   "report_style_numbering": false,
   "user_envs_cfg": false
  }
 },
 "nbformat": 4,
 "nbformat_minor": 2
}
