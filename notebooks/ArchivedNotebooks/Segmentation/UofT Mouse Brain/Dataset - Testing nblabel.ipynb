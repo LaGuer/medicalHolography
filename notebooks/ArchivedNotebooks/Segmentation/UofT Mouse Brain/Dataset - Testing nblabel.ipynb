{
 "cells": [
  {
   "cell_type": "markdown",
   "metadata": {},
   "source": [
    "# Background\n"
   ]
  },
  {
   "cell_type": "markdown",
   "metadata": {},
   "source": [
    "I found the database here:\n",
    " - [NeuroMouse Project](http://phm.utoronto.ca/~jeffh/surgical.html)"
   ]
  },
  {
   "cell_type": "markdown",
   "metadata": {},
   "source": [
    "# Imports"
   ]
  },
  {
   "cell_type": "code",
   "execution_count": 1,
   "metadata": {},
   "outputs": [
    {
     "name": "stdout",
     "output_type": "stream",
     "text": [
      "Populating the interactive namespace from numpy and matplotlib\n"
     ]
    }
   ],
   "source": [
    "import nibabel as nib  \n",
    "import numpy\n",
    "import matplotlib.pyplot as plt\n",
    "%pylab inline"
   ]
  },
  {
   "cell_type": "code",
   "execution_count": 2,
   "metadata": {},
   "outputs": [],
   "source": [
    "# Directory where the DICOM files are being stored (in this\n",
    "# case the 'MyHead' folder). \n",
    "pathMNC = \"C://Cerebral//_MarioSandBox//DB//medicalHolography//UofT Mouse Brain//c57bl6j_skull_whole.mnc\"\n",
    "\n",
    "# Z slice of the DICOM files to process. In the interest of\n",
    "# simplicity, segmentation will be limited to a single 2D\n",
    "# image but all processes are entirely applicable to the 3D image\n",
    "idxSlice = 10\n",
    "\n",
    "# int labels to assign to the segmented white and gray matter.\n",
    "# These need to be different integers but their values themselves\n",
    "# don't matter\n",
    "labelWhiteMatter = 1\n",
    "labelGrayMatter = 2"
   ]
  },
  {
   "cell_type": "code",
   "execution_count": 3,
   "metadata": {},
   "outputs": [],
   "source": [
    "img = nib.load(pathMNC)\n",
    "data = img.get_data()"
   ]
  },
  {
   "cell_type": "code",
   "execution_count": 4,
   "metadata": {},
   "outputs": [
    {
     "data": {
      "text/plain": [
       "(194L, 410L, 205L)"
      ]
     },
     "execution_count": 4,
     "metadata": {},
     "output_type": "execute_result"
    }
   ],
   "source": [
    "data.shape"
   ]
  },
  {
   "cell_type": "code",
   "execution_count": 15,
   "metadata": {},
   "outputs": [
    {
     "data": {
      "text/plain": [
       "<matplotlib.image.AxesImage at 0x198b05f8>"
      ]
     },
     "execution_count": 15,
     "metadata": {},
     "output_type": "execute_result"
    },
    {
     "data": {
      "image/png": "[encoded data removed]",
      "text/plain": [
       "<Figure size 432x288 with 1 Axes>"
      ]
     },
     "metadata": {
      "needs_background": "light"
     },
     "output_type": "display_data"
    }
   ],
   "source": [
    "plt.set_cmap(\"gray\")\n",
    "plt.imshow(data[80,:,:])"
   ]
  },
  {
   "cell_type": "code",
   "execution_count": null,
   "metadata": {},
   "outputs": [],
   "source": []
  },
  {
   "cell_type": "code",
   "execution_count": 3,
   "metadata": {},
   "outputs": [],
   "source": [
    "reader = vtk.vtkMINCImageReader()"
   ]
  },
  {
   "cell_type": "code",
   "execution_count": 4,
   "metadata": {},
   "outputs": [],
   "source": [
    "reader.SetFileName(pathMNC)"
   ]
  },
  {
   "cell_type": "code",
   "execution_count": 5,
   "metadata": {},
   "outputs": [],
   "source": [
    "reader.RescaleRealValuesOn()"
   ]
  },
  {
   "cell_type": "code",
   "execution_count": 6,
   "metadata": {},
   "outputs": [],
   "source": [
    "attributes = vtk.vtkMINCImageAttributes()\n",
    "image = reader"
   ]
  },
  {
   "cell_type": "code",
   "execution_count": 7,
   "metadata": {},
   "outputs": [],
   "source": [
    "# Get the 'vtkImageData' object from the reader\n",
    "imageData = reader.GetOutput()\n",
    "# Get the 'vtkPointData' object from the 'vtkImageData' object\n",
    "pointData = imageData.GetPointData()"
   ]
  },
  {
   "cell_type": "code",
   "execution_count": 8,
   "metadata": {},
   "outputs": [],
   "source": [
    "arrayData = pointData.GetArray(0)"
   ]
  },
  {
   "cell_type": "code",
   "execution_count": 12,
   "metadata": {},
   "outputs": [
    {
     "ename": "AttributeError",
     "evalue": "'NoneType' object has no attribute 'GetDataType'",
     "output_type": "error",
     "traceback": [
      "\u001b[1;31m---------------------------------------------------------------------------\u001b[0m",
      "\u001b[1;31mAttributeError\u001b[0m                            Traceback (most recent call last)",
      "\u001b[1;32m<ipython-input-12-98a5d34c5e66>\u001b[0m in \u001b[0;36m<module>\u001b[1;34m()\u001b[0m\n\u001b[0;32m      1\u001b[0m \u001b[1;31m# Convert the `vtkArray` to a NumPy array\u001b[0m\u001b[1;33m\u001b[0m\u001b[1;33m\u001b[0m\u001b[0m\n\u001b[1;32m----> 2\u001b[1;33m \u001b[0mArrayDicom\u001b[0m \u001b[1;33m=\u001b[0m \u001b[0mnumpy_support\u001b[0m\u001b[1;33m.\u001b[0m\u001b[0mvtk_to_numpy\u001b[0m\u001b[1;33m(\u001b[0m\u001b[0marrayData\u001b[0m\u001b[1;33m)\u001b[0m\u001b[1;33m\u001b[0m\u001b[0m\n\u001b[0m",
      "\u001b[1;32mC:\\Users\\HP\\Anaconda2\\envs\\py27\\lib\\site-packages\\vtk\\util\\numpy_support.pyc\u001b[0m in \u001b[0;36mvtk_to_numpy\u001b[1;34m(vtk_array)\u001b[0m\n\u001b[0;32m    210\u001b[0m \u001b[1;33m\u001b[0m\u001b[0m\n\u001b[0;32m    211\u001b[0m     \"\"\"\n\u001b[1;32m--> 212\u001b[1;33m     \u001b[0mtyp\u001b[0m \u001b[1;33m=\u001b[0m \u001b[0mvtk_array\u001b[0m\u001b[1;33m.\u001b[0m\u001b[0mGetDataType\u001b[0m\u001b[1;33m(\u001b[0m\u001b[1;33m)\u001b[0m\u001b[1;33m\u001b[0m\u001b[0m\n\u001b[0m\u001b[0;32m    213\u001b[0m     \u001b[1;32massert\u001b[0m \u001b[0mtyp\u001b[0m \u001b[1;32min\u001b[0m \u001b[0mget_vtk_to_numpy_typemap\u001b[0m\u001b[1;33m(\u001b[0m\u001b[1;33m)\u001b[0m\u001b[1;33m.\u001b[0m\u001b[0mkeys\u001b[0m\u001b[1;33m(\u001b[0m\u001b[1;33m)\u001b[0m\u001b[1;33m,\u001b[0m\u001b[0;31m \u001b[0m\u001b[0;31m\\\u001b[0m\u001b[1;33m\u001b[0m\u001b[0m\n\u001b[0;32m    214\u001b[0m            \u001b[1;34m\"Unsupported array type %s\"\u001b[0m\u001b[1;33m%\u001b[0m\u001b[0mtyp\u001b[0m\u001b[1;33m\u001b[0m\u001b[0m\n",
      "\u001b[1;31mAttributeError\u001b[0m: 'NoneType' object has no attribute 'GetDataType'"
     ]
    }
   ],
   "source": [
    "# Convert the `vtkArray` to a NumPy array\n",
    "ArrayDicom = numpy_support.vtk_to_numpy(arrayData)"
   ]
  },
  {
   "cell_type": "code",
   "execution_count": 13,
   "metadata": {},
   "outputs": [],
   "source": [
    "viewer = vtk.vtkImageViewer()\n",
    "viewer.SetInputConnection(reader.GetOutputPort())\n",
    "viewer.SetColorWindow(65535)\n",
    "viewer.SetColorLevel(0)\n",
    "\n",
    "# make interface\n",
    "viewer.Render()\n"
   ]
  },
  {
   "cell_type": "code",
   "execution_count": null,
   "metadata": {},
   "outputs": [],
   "source": []
  },
  {
   "cell_type": "code",
   "execution_count": null,
   "metadata": {},
   "outputs": [],
   "source": []
  },
  {
   "cell_type": "code",
   "execution_count": null,
   "metadata": {},
   "outputs": [],
   "source": [
    "# Get the 'vtkImageData' object from the reader\n",
    "imageData = reader.GetOutput()\n",
    "# Get the 'vtkPointData' object from the 'vtkImageData' object\n",
    "pointData = imageData.GetPointData()\n",
    "# Ensure that only one array exists within the 'vtkPointData' object\n",
    "assert (pointData.GetNumberOfArrays()==1)\n",
    "# Get the `vtkArray` (or whatever derived type) which is needed for the `numpy_support.vtk_to_numpy` function\n",
    "arrayData = pointData.GetArray(0)\n",
    "\n",
    "# Convert the `vtkArray` to a NumPy array\n",
    "ArrayDicom = numpy_support.vtk_to_numpy(arrayData)\n",
    "# Reshape the NumPy array to 3D using 'ConstPixelDims' as a 'shape'\n",
    "ArrayDicom = ArrayDicom.reshape(ConstPixelDims, order='F')"
   ]
  }
 ],
 "metadata": {
  "kernelspec": {
   "display_name": "Python 2",
   "language": "python",
   "name": "python2"
  },
  "language_info": {
   "codemirror_mode": {
    "name": "ipython",
    "version": 2
   },
   "file_extension": ".py",
   "mimetype": "text/x-python",
   "name": "python",
   "nbconvert_exporter": "python",
   "pygments_lexer": "ipython2",
   "version": "2.7.15"
  },
  "latex_envs": {
   "LaTeX_envs_menu_present": true,
   "autoclose": false,
   "autocomplete": true,
   "bibliofile": "biblio.bib",
   "cite_by": "apalike",
   "current_citInitial": 1,
   "eqLabelWithNumbers": true,
   "eqNumInitial": 1,
   "hotkeys": {
    "equation": "Ctrl-E",
    "itemize": "Ctrl-I"
   },
   "labels_anchors": false,
   "latex_user_defs": false,
   "report_style_numbering": false,
   "user_envs_cfg": false
  }
 },
 "nbformat": 4,
 "nbformat_minor": 2
}
