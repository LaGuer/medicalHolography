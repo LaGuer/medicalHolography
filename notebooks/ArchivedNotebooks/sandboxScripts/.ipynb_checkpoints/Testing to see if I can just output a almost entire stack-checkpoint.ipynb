{
 "cells": [
  {
   "cell_type": "markdown",
   "metadata": {},
   "source": [
    "All of this can be found [here](https://www.vtk.org/Wiki/VTK/Examples/Python/vtkWithNumpy)\n",
    "\n",
    "But also debugging stuff can be found here:\n",
    "- [setDataExtent](https://gist.github.com/somada141/b125fd74916018ffe028)"
   ]
  },
  {
   "cell_type": "code",
   "execution_count": 1,
   "metadata": {},
   "outputs": [],
   "source": [
    "# An example from scipy cookbook demonstrating the use of numpy arrys in vtk \n",
    " \n",
    "import vtk\n",
    "from numpy import *"
   ]
  },
  {
   "cell_type": "code",
   "execution_count": 2,
   "metadata": {},
   "outputs": [],
   "source": [
    "# We begin by creating the data we want to render.\n",
    "# For this tutorial, we create a 3D-image containing three overlaping cubes.\n",
    "# This data can of course easily be replaced by data from a medical CT-scan or anything else three dimensional.\n",
    "# The only limit is that the data must be reduced to unsigned 8 bit or 16 bit integers.\n",
    "data_matrix = zeros([75, 75, 75], dtype=uint8)\n",
    "data_matrix[0:35, 0:35, 0:35] = 50\n",
    "data_matrix[25:55, 25:55, 25:55] = 100\n",
    "data_matrix[45:74, 45:74, 45:74] = 150"
   ]
  },
  {
   "cell_type": "code",
   "execution_count": 3,
   "metadata": {},
   "outputs": [],
   "source": [
    "stack = load('thStack.npy')"
   ]
  },
  {
   "cell_type": "code",
   "execution_count": 4,
   "metadata": {},
   "outputs": [
    {
     "data": {
      "text/plain": [
       "(180L, 760L, 766L)"
      ]
     },
     "execution_count": 4,
     "metadata": {},
     "output_type": "execute_result"
    }
   ],
   "source": [
    "shape(stack)"
   ]
  },
  {
   "cell_type": "code",
   "execution_count": 5,
   "metadata": {},
   "outputs": [],
   "source": [
    "data_matrix = stack"
   ]
  },
  {
   "cell_type": "code",
   "execution_count": 6,
   "metadata": {},
   "outputs": [
    {
     "data": {
      "text/plain": [
       "255"
      ]
     },
     "execution_count": 6,
     "metadata": {},
     "output_type": "execute_result"
    }
   ],
   "source": [
    "amax(data_matrix[0])"
   ]
  },
  {
   "cell_type": "code",
   "execution_count": 7,
   "metadata": {},
   "outputs": [
    {
     "data": {
      "text/plain": [
       "0"
      ]
     },
     "execution_count": 7,
     "metadata": {},
     "output_type": "execute_result"
    }
   ],
   "source": [
    "amin(data_matrix[0])"
   ]
  },
  {
   "cell_type": "code",
   "execution_count": 8,
   "metadata": {},
   "outputs": [],
   "source": [
    "# For VTK to be able to use the data, it must be stored as a VTK-image. This can be done by the vtkImageImport-class which\n",
    "# imports raw data and stores it.\n",
    "dataImporter = vtk.vtkImageImport()\n",
    "# The preaviusly created array is converted to a string of chars and imported.\n",
    "data_string = data_matrix.tostring()\n",
    "dataImporter.CopyImportVoidPointer(data_string, len(data_string))\n",
    "# The type of the newly imported data is set to unsigned char (uint8)\n",
    "dataImporter.SetDataScalarTypeToUnsignedChar()\n",
    "# Because the data that is imported only contains an intensity value (it isnt RGB-coded or someting similar), the importer\n",
    "# must be told this is the case.\n",
    "dataImporter.SetNumberOfScalarComponents(1)\n",
    "# The following two functions describe how the data is stored and the dimensions of the array it is stored in. For this\n",
    "# simple case, all axes are of length 75 and begins with the first element. For other data, this is probably not the case.\n",
    "# I have to admit however, that I honestly dont know the difference between SetDataExtent() and SetWholeExtent() although\n",
    "# VTK complains if not both are used."
   ]
  },
  {
   "cell_type": "code",
   "execution_count": 9,
   "metadata": {},
   "outputs": [],
   "source": [
    "extent = dataImporter.GetDataExtent()"
   ]
  },
  {
   "cell_type": "code",
   "execution_count": 10,
   "metadata": {},
   "outputs": [],
   "source": [
    "dim = stack.shape\n",
    "dataImporter.SetDataExtent(extent[0], extent[0] + dim[2] - 1,\n",
    "                           extent[2], extent[2] + dim[1] - 1,\n",
    "                           extent[4], extent[4] + dim[0] - 1)\n",
    "dataImporter.SetWholeExtent(extent[0], extent[0] + dim[2] - 1,\n",
    "                            extent[2], extent[2] + dim[1] - 1,\n",
    "                            extent[4], extent[4] + dim[0] - 1)"
   ]
  },
  {
   "cell_type": "code",
   "execution_count": 11,
   "metadata": {},
   "outputs": [],
   "source": [
    "#This was for the original example\n",
    "# dataImporter.SetDataExtent(0, 74, 0, 74, 0, 74)\n",
    "# dataImporter.SetWholeExtent(0, 74, 0, 74, 0, 74)\n",
    "\n",
    "\n",
    "# ------------------------------------------------\n",
    "#dataImporter.SetDataExtent(0, 4, 0, 759, 0, 765)\n",
    "#dataImporter.SetWholeExtent(0, 4, 0, 759, 0, 765)\n",
    "\n",
    "# so far this is the working code but it is giving us some wierd results\n",
    "#dataImporter.SetDataExtent(0, 1, 0, 765, 0, 759)\n",
    "#dataImporter.SetWholeExtent(0, 1, 0, 765, 0, 759)\n",
    "\n",
    "#dataImporter.SetDataExtent(0, 759, 0, 765, 0, 4)\n",
    "#dataImporter.SetWholeExtent(0, 759, 0, 765, 0, 4)\n",
    "\n",
    "#dataImporter.SetDataExtent(0, 765, 0, 4, 0, 759)\n",
    "#dataImporter.SetWholeExtent(0, 765, 0, 4, 0, 759)"
   ]
  },
  {
   "cell_type": "code",
   "execution_count": 12,
   "metadata": {},
   "outputs": [
    {
     "data": {
      "text/plain": [
       "1"
      ]
     },
     "execution_count": 12,
     "metadata": {},
     "output_type": "execute_result"
    }
   ],
   "source": [
    "# The following class is used to store transparencyv-values for later retrival. In our case, we want the value 0 to be\n",
    "# completly opaque whereas the three different cubes are given different transperancy-values to show how it works.\n",
    "alphaChannelFunc = vtk.vtkPiecewiseFunction()\n",
    "alphaChannelFunc.AddPoint(0, 0.0)\n",
    "#alphaChannelFunc.AddPoint(50, 0.05)\n",
    "#alphaChannelFunc.AddPoint(100, 0.1)\n",
    "#alphaChannelFunc.AddPoint(150, 0.2)\n",
    "alphaChannelFunc.AddPoint(255, 0.2)\n",
    " \n",
    "# This class stores color data and can create color tables from a few color points. For this demo, we want the three cubes\n",
    "# to be of the colors red green and blue.\n",
    "colorFunc = vtk.vtkColorTransferFunction()\n",
    "colorFunc.AddRGBPoint(0, 1.0, 0.0, 0.0)\n",
    "#colorFunc.AddRGBPoint(50, 1.0, 0.0, 0.0)\n",
    "#colorFunc.AddRGBPoint(100, 0.0, 1.0, 0.0)\n",
    "#colorFunc.AddRGBPoint(150, 0.0, 0.0, 1.0)\n",
    "colorFunc.AddRGBPoint(255, 0.0, 0.0, 1.0)"
   ]
  },
  {
   "cell_type": "code",
   "execution_count": 13,
   "metadata": {},
   "outputs": [],
   "source": [
    "# The preavius two classes stored properties. Because we want to apply these properties to the volume we want to render,\n",
    "# we have to store them in a class that stores volume prpoperties.\n",
    "volumeProperty = vtk.vtkVolumeProperty()\n",
    "volumeProperty.SetColor(colorFunc)\n",
    "volumeProperty.SetScalarOpacity(alphaChannelFunc)\n",
    " \n",
    "# This class describes how the volume is rendered (through ray tracing).\n",
    "compositeFunction = vtk.vtkVolumeRayCastCompositeFunction()\n",
    "# We can finally create our volume. We also have to specify the data for it, as well as how the data will be rendered.\n",
    "volumeMapper = vtk.vtkVolumeRayCastMapper()\n",
    "volumeMapper.SetVolumeRayCastFunction(compositeFunction)\n",
    "volumeMapper.SetInputConnection(dataImporter.GetOutputPort())\n",
    " \n",
    "# The class vtkVolume is used to pair the preaviusly declared volume as well as the properties to be used when rendering that volume.\n",
    "volume = vtk.vtkVolume()\n",
    "volume.SetMapper(volumeMapper)\n",
    "volume.SetProperty(volumeProperty)"
   ]
  },
  {
   "cell_type": "code",
   "execution_count": 14,
   "metadata": {},
   "outputs": [],
   "source": [
    "# With almost everything else ready, its time to initialize the renderer and window, as well as creating a method for exiting the application\n",
    "renderer = vtk.vtkRenderer()\n",
    "renderWin = vtk.vtkRenderWindow()\n",
    "renderWin.AddRenderer(renderer)\n",
    "renderInteractor = vtk.vtkRenderWindowInteractor()\n",
    "renderInteractor.SetRenderWindow(renderWin)\n",
    " \n",
    "# We add the volume to the renderer ...\n",
    "renderer.AddVolume(volume)\n",
    "# ... set background color to white ...\n",
    "renderer.SetBackground(0,0,0)\n",
    "# ... and set window size.\n",
    "renderWin.SetSize(400, 400)\n",
    " \n",
    "# A simple function to be called when the user decides to quit the application.\n",
    "def exitCheck(obj, event):\n",
    "    if obj.GetEventPending() != 0:\n",
    "        obj.SetAbortRender(1)"
   ]
  },
  {
   "cell_type": "code",
   "execution_count": 15,
   "metadata": {},
   "outputs": [],
   "source": [
    "# Tell the application to use the function as an exit check.\n",
    "renderWin.AddObserver(\"AbortCheckEvent\", exitCheck)\n",
    " \n",
    "renderInteractor.Initialize()\n",
    "# Because nothing will be rendered without any input, we order the first render manually before control is handed over to the main-loop.\n",
    "renderWin.Render()\n",
    "renderInteractor.Start()"
   ]
  },
  {
   "cell_type": "markdown",
   "metadata": {},
   "source": [
    "The above code currently works for the thresholded almost entire stack in the variable smallStack.npy.  Which was created in the notebook \"3D Viewer - VTK Integration V01\""
   ]
  },
  {
   "cell_type": "code",
   "execution_count": null,
   "metadata": {},
   "outputs": [],
   "source": []
  }
 ],
 "metadata": {
  "kernelspec": {
   "display_name": "Python [conda env:Anaconda2]",
   "language": "python",
   "name": "conda-env-Anaconda2-py"
  },
  "language_info": {
   "codemirror_mode": {
    "name": "ipython",
    "version": 2
   },
   "file_extension": ".py",
   "mimetype": "text/x-python",
   "name": "python",
   "nbconvert_exporter": "python",
   "pygments_lexer": "ipython2",
   "version": "2.7.15"
  }
 },
 "nbformat": 4,
 "nbformat_minor": 2
}
